{
 "cells": [
  {
   "cell_type": "code",
   "execution_count": 9,
   "id": "bb173248",
   "metadata": {},
   "outputs": [],
   "source": [
    "import tensorflow as tf\n",
    "from tensorflow.keras.models import Model, load_model\n",
    "from tensorflow.keras.layers import Conv2D, ReLU, Flatten, Dense, Softmax, BatchNormalization, Input, ZeroPadding2D, Activation, Add\n",
    "from tensorflow.keras import layers\n",
    "from tensorflow.keras.optimizers import Adam, Nadam, SGD\n",
    "from tensorflow.keras.applications.resnet50 import ResNet50\n",
    "\n",
    "import keras\n",
    "import numpy as np\n",
    "import h5py"
   ]
  },
  {
   "cell_type": "code",
   "execution_count": 3,
   "id": "62384345",
   "metadata": {},
   "outputs": [
    {
     "name": "stdout",
     "output_type": "stream",
     "text": [
      "WARNING:tensorflow:From C:\\Users\\yiyun\\AppData\\Local\\Temp\\ipykernel_3440\\3793539530.py:2: is_gpu_available (from tensorflow.python.framework.test_util) is deprecated and will be removed in a future version.\n",
      "Instructions for updating:\n",
      "Use `tf.config.list_physical_devices('GPU')` instead.\n"
     ]
    },
    {
     "data": {
      "text/plain": [
       "True"
      ]
     },
     "execution_count": 3,
     "metadata": {},
     "output_type": "execute_result"
    }
   ],
   "source": [
    "tf.__version__\n",
    "tf.test.is_gpu_available()"
   ]
  },
  {
   "cell_type": "markdown",
   "id": "bd95ed0c",
   "metadata": {},
   "source": [
    "# Data Pre-Processing\n",
    "\n",
    "Open **kyu_train.csv** file and split the games into a list.\n",
    "Every row of csv: `KL0000000001,B,B[pq],W[dd],B[dp],W[pd],B[jc],...`. \n",
    "\n",
    "Columns are:\n",
    "\n",
    "    1. KL0000000001: Game ID\n",
    "    2. B: Player's color\n",
    "    3-... : Moves\n",
    "    \n",
    "We cropped only the moves to game list as:"
   ]
  },
  {
   "cell_type": "code",
   "execution_count": 4,
   "id": "2f8872fd",
   "metadata": {},
   "outputs": [],
   "source": [
    "df = open('./Training Dataset/kyu_train.csv').read().splitlines()\n",
    "games = [i.split(',',2)[-1] for i in df]\n",
    "colors = [i.split(',',2)[1] for i in df]"
   ]
  },
  {
   "cell_type": "markdown",
   "id": "58532b01",
   "metadata": {},
   "source": [
    "Create a dictionary to convert the coordinates from characters to numbers"
   ]
  },
  {
   "cell_type": "code",
   "execution_count": 4,
   "id": "496585f2",
   "metadata": {
    "scrolled": true
   },
   "outputs": [
    {
     "data": {
      "text/plain": [
       "{'a': 0,\n",
       " 'b': 1,\n",
       " 'c': 2,\n",
       " 'd': 3,\n",
       " 'e': 4,\n",
       " 'f': 5,\n",
       " 'g': 6,\n",
       " 'h': 7,\n",
       " 'i': 8,\n",
       " 'j': 9,\n",
       " 'k': 10,\n",
       " 'l': 11,\n",
       " 'm': 12,\n",
       " 'n': 13,\n",
       " 'o': 14,\n",
       " 'p': 15,\n",
       " 'q': 16,\n",
       " 'r': 17,\n",
       " 's': 18}"
      ]
     },
     "execution_count": 4,
     "metadata": {},
     "output_type": "execute_result"
    }
   ],
   "source": [
    "chars = 'abcdefghijklmnopqrs'\n",
    "coordinates = {k:v for v,k in enumerate(chars)}\n",
    "chartonumbers = {k:v for k,v in enumerate(chars)}\n",
    "coordinates"
   ]
  },
  {
   "cell_type": "markdown",
   "id": "92277370",
   "metadata": {},
   "source": [
    "We decided to build a DCNN model in this tutorial. We create data samples by using every move in every game, meaning that the target is to predict the next move by feeding the previous state of the table in every game for every move. Therefore, we can collect much more data samples from games.\n",
    "\n",
    "For the simplicity, we used 4 dimensional feature map to represent the data as below:\n",
    " 1. Positions of black stones: mark them as 1 and the rest of the table as 0\n",
    " 2. Positions of white stones: mark them as 1 and the rest of the table as 0\n",
    " 3. Empty areas of the table: mark the empty areas as 1 and occupied areas as 0\n",
    " 4. The last move in the table: mark the position of the last move as 1 and the rest as 0\n",
    " \n",
    "Target value is a number between 0-361(19\\*19). Later this will be one-hot encoded."
   ]
  },
  {
   "cell_type": "code",
   "execution_count": 5,
   "id": "0adb423c",
   "metadata": {},
   "outputs": [],
   "source": [
    "#0:所有跟最後一步顏色相同的\n",
    "#1:所有跟最後一步顏色不同的\n",
    "#2:標示空地\n",
    "#3~10:最後8步\n",
    "#11:周圍黑棋7*7\n",
    "#12:周圍白棋7*7\n",
    "def prepare_input(moves, player_color):\n",
    "    x = np.zeros((19,19,13))\n",
    "    if len(moves) == 0:\n",
    "        return x\n",
    "#     player_color = moves[-1][0] #\n",
    "    for move in moves:\n",
    "        color = move[0]\n",
    "        column = coordinates[move[2]]\n",
    "        row = coordinates[move[3]]\n",
    "        if color == player_color: #\n",
    "            x[row,column,0] = 1\n",
    "            x[row,column,2] = 1\n",
    "        else: #\n",
    "            x[row,column,1] = 1\n",
    "            x[row,column,2] = 1\n",
    "    x[:,:,2] = np.where(x[:,:,2] == 0, 1, 0)\n",
    "    \n",
    "    #倒數8步\n",
    "    sz = len(moves)\n",
    "    last1 = sz - 1\n",
    "    last8 = max(sz - 9, 0)\n",
    "    for i in range(last1, last8, -1):\n",
    "        col = coordinates[moves[i][2]]\n",
    "        row = coordinates[moves[i][3]]\n",
    "        x[row, col, 11 - (sz - i)] = 1\n",
    "    \n",
    "    #周圍7*7\n",
    "    last_col = coordinates[moves[-1][2]]\n",
    "    last_row = coordinates[moves[-1][3]]\n",
    "    rad = 3 #要改範圍大小的話改這個\n",
    "    row1 = max(0, last_row - rad)\n",
    "    row7 = min(18, last_row + rad)\n",
    "    col1 = max(0, last_col - rad)\n",
    "    col7 = min(18, last_col + rad)\n",
    "    for i in range(row1, row7 + 1, 1):\n",
    "        for j in range(col1, col7 + 1, 1):\n",
    "            x[i, j, 11] = x[i, j, 1]\n",
    "            x[i, j, 12] = x[i, j, 2]\n",
    "            \n",
    "    #列印所有棋盤\n",
    "#     for i in range(0, 3, 1):\n",
    "#         print(\"  a b c d e f g h i j k l m n o p q r s\")\n",
    "#         for j in range(0, 19, 1):\n",
    "#             print(chars[j], end = \" \")\n",
    "#             for k in range(0, 19, 1):\n",
    "#                 print(int(x[j, k, i]), end = \" \")\n",
    "#             print(\"\")\n",
    "#         print(\"\")\n",
    "    \n",
    "    return x\n",
    "\n",
    "def prepare_label(move):\n",
    "    column = coordinates[move[2]]\n",
    "    row = coordinates[move[3]]\n",
    "    return column*19+row"
   ]
  },
  {
   "cell_type": "code",
   "execution_count": 6,
   "id": "758808ae",
   "metadata": {},
   "outputs": [
    {
     "name": "stdout",
     "output_type": "stream",
     "text": [
      "Total Games: 118500, Total Moves: 27135638\n"
     ]
    }
   ],
   "source": [
    "# Check how many samples can be obtained\n",
    "n_games = 0\n",
    "n_moves = 0\n",
    "for game in games:\n",
    "    n_games += 1\n",
    "    moves_list = game.split(',')\n",
    "    for move in moves_list:\n",
    "        n_moves += 1\n",
    "print(f\"Total Games: {n_games}, Total Moves: {n_moves}\")"
   ]
  },
  {
   "cell_type": "markdown",
   "id": "46403360",
   "metadata": {},
   "source": [
    "The code below is run for baseline model only by using only the first 500 games from the dataset. You might need to create a data generator to use complete dataset. Otherwise your RAM might not enough to store all (If you run the code on free version of Google Colab, it will crash above 500 game samples)."
   ]
  },
  {
   "cell_type": "code",
   "execution_count": 5,
   "id": "a9bb0ab0",
   "metadata": {},
   "outputs": [
    {
     "name": "stdout",
     "output_type": "stream",
     "text": [
      "7159239\n",
      "7954711\n"
     ]
    }
   ],
   "source": [
    "def dataGenerator(n_samples=0, start_index=-1, stop_index=-1,shuffle=True):\n",
    "    def generator():\n",
    "        if (start_index>0 and stop_index>0):\n",
    "            indexes = np.arange(start_index, stop_index)\n",
    "        else:\n",
    "            indexes = np.arange(n_samples)\n",
    "        if shuffle:\n",
    "            np.random.shuffle(indexes)\n",
    "        \n",
    "        for i in indexes:\n",
    "            x = np.array(hdf5['xs'][i])\n",
    "            y = np.array(hdf5['ys'][i])\n",
    "            x = np.moveaxis(x,0,-1)\n",
    "            yield x, y\n",
    "    return generator\n",
    "\n",
    "hdf5 = h5py.File('./hdf5/kyu_dataset_detlef_remove.hdf5','r')\n",
    "\n",
    "batch_size = 32\n",
    "data_gen = dataGenerator(n_samples=int(hdf5['xs'].shape[0]/10)*9, shuffle=False) # 90% of the complete dataset\n",
    "dataset = tf.data.Dataset.from_generator(data_gen, \n",
    "                                         output_types=(tf.dtypes.float32, tf.dtypes.int32),\n",
    "                                         output_shapes=(tf.TensorShape((19,19,13)),tf.TensorShape((1))))\n",
    "dataset = dataset.batch(batch_size, drop_remainder=True)\n",
    "dataset = dataset.prefetch(tf.data.AUTOTUNE)\n",
    "\n",
    "data_gen_valid = dataGenerator(start_index=int(hdf5['xs'].shape[0]/10)*9, # 10% of the complete dataset\n",
    "                               stop_index=hdf5['xs'].shape[0], \n",
    "                               shuffle=False)\n",
    "dataset_valid = tf.data.Dataset.from_generator(data_gen_valid, \n",
    "                                         output_types=(tf.dtypes.float32, tf.dtypes.int32),\n",
    "                                         output_shapes=(tf.TensorShape((19,19,13)),tf.TensorShape((1))))\n",
    "dataset_valid = dataset.batch(batch_size, drop_remainder=True)\n",
    "dataset_valid = dataset.prefetch(tf.data.AUTOTUNE)\n",
    "\n",
    "print(int(hdf5['xs'].shape[0]/10)*9)\n",
    "print(hdf5['xs'].shape[0])"
   ]
  },
  {
   "cell_type": "markdown",
   "id": "7b9c5de9",
   "metadata": {},
   "source": [
    "# Training\n",
    "\n",
    "### Simple DCNN Model:"
   ]
  },
  {
   "cell_type": "code",
   "execution_count": 10,
   "id": "44ce33db",
   "metadata": {},
   "outputs": [
    {
     "name": "stdout",
     "output_type": "stream",
     "text": [
      "Model: \"model\"\n",
      "__________________________________________________________________________________________________\n",
      "Layer (type)                    Output Shape         Param #     Connected to                     \n",
      "==================================================================================================\n",
      "input_2 (InputLayer)            [(None, 19, 19, 13)] 0                                            \n",
      "__________________________________________________________________________________________________\n",
      "conv5x5 (Conv2D)                (None, 19, 19, 256)  83456       input_2[0][0]                    \n",
      "__________________________________________________________________________________________________\n",
      "conv1x1 (Conv2D)                (None, 19, 19, 256)  3584        input_2[0][0]                    \n",
      "__________________________________________________________________________________________________\n",
      "add (Add)                       (None, 19, 19, 256)  0           conv5x5[0][0]                    \n",
      "                                                                 conv1x1[0][0]                    \n",
      "__________________________________________________________________________________________________\n",
      "re_lu (ReLU)                    (None, 19, 19, 256)  0           add[0][0]                        \n",
      "__________________________________________________________________________________________________\n",
      "conv2d (Conv2D)                 (None, 19, 19, 256)  590080      re_lu[0][0]                      \n",
      "__________________________________________________________________________________________________\n",
      "re_lu_1 (ReLU)                  (None, 19, 19, 256)  0           conv2d[0][0]                     \n",
      "__________________________________________________________________________________________________\n",
      "conv2d_1 (Conv2D)               (None, 19, 19, 256)  590080      re_lu_1[0][0]                    \n",
      "__________________________________________________________________________________________________\n",
      "add_1 (Add)                     (None, 19, 19, 256)  0           re_lu[0][0]                      \n",
      "                                                                 conv2d_1[0][0]                   \n",
      "__________________________________________________________________________________________________\n",
      "re_lu_2 (ReLU)                  (None, 19, 19, 256)  0           add_1[0][0]                      \n",
      "__________________________________________________________________________________________________\n",
      "conv2d_2 (Conv2D)               (None, 19, 19, 256)  590080      re_lu_2[0][0]                    \n",
      "__________________________________________________________________________________________________\n",
      "re_lu_3 (ReLU)                  (None, 19, 19, 256)  0           conv2d_2[0][0]                   \n",
      "__________________________________________________________________________________________________\n",
      "conv2d_3 (Conv2D)               (None, 19, 19, 256)  590080      re_lu_3[0][0]                    \n",
      "__________________________________________________________________________________________________\n",
      "add_2 (Add)                     (None, 19, 19, 256)  0           re_lu_2[0][0]                    \n",
      "                                                                 conv2d_3[0][0]                   \n",
      "__________________________________________________________________________________________________\n",
      "re_lu_4 (ReLU)                  (None, 19, 19, 256)  0           add_2[0][0]                      \n",
      "__________________________________________________________________________________________________\n",
      "conv2d_4 (Conv2D)               (None, 19, 19, 256)  590080      re_lu_4[0][0]                    \n",
      "__________________________________________________________________________________________________\n",
      "re_lu_5 (ReLU)                  (None, 19, 19, 256)  0           conv2d_4[0][0]                   \n",
      "__________________________________________________________________________________________________\n",
      "conv2d_5 (Conv2D)               (None, 19, 19, 256)  590080      re_lu_5[0][0]                    \n",
      "__________________________________________________________________________________________________\n",
      "add_3 (Add)                     (None, 19, 19, 256)  0           re_lu_4[0][0]                    \n",
      "                                                                 conv2d_5[0][0]                   \n",
      "__________________________________________________________________________________________________\n",
      "re_lu_6 (ReLU)                  (None, 19, 19, 256)  0           add_3[0][0]                      \n",
      "__________________________________________________________________________________________________\n",
      "conv2d_6 (Conv2D)               (None, 19, 19, 256)  590080      re_lu_6[0][0]                    \n",
      "__________________________________________________________________________________________________\n",
      "re_lu_7 (ReLU)                  (None, 19, 19, 256)  0           conv2d_6[0][0]                   \n",
      "__________________________________________________________________________________________________\n",
      "conv2d_7 (Conv2D)               (None, 19, 19, 256)  590080      re_lu_7[0][0]                    \n",
      "__________________________________________________________________________________________________\n",
      "add_4 (Add)                     (None, 19, 19, 256)  0           re_lu_6[0][0]                    \n",
      "                                                                 conv2d_7[0][0]                   \n",
      "__________________________________________________________________________________________________\n",
      "re_lu_8 (ReLU)                  (None, 19, 19, 256)  0           add_4[0][0]                      \n",
      "__________________________________________________________________________________________________\n",
      "conv2d_8 (Conv2D)               (None, 19, 19, 256)  590080      re_lu_8[0][0]                    \n",
      "__________________________________________________________________________________________________\n",
      "re_lu_9 (ReLU)                  (None, 19, 19, 256)  0           conv2d_8[0][0]                   \n",
      "__________________________________________________________________________________________________\n",
      "conv2d_9 (Conv2D)               (None, 19, 19, 256)  590080      re_lu_9[0][0]                    \n",
      "__________________________________________________________________________________________________\n",
      "add_5 (Add)                     (None, 19, 19, 256)  0           re_lu_8[0][0]                    \n",
      "                                                                 conv2d_9[0][0]                   \n",
      "__________________________________________________________________________________________________\n",
      "re_lu_10 (ReLU)                 (None, 19, 19, 256)  0           add_5[0][0]                      \n",
      "__________________________________________________________________________________________________\n",
      "conv2d_10 (Conv2D)              (None, 19, 19, 256)  590080      re_lu_10[0][0]                   \n",
      "__________________________________________________________________________________________________\n",
      "re_lu_11 (ReLU)                 (None, 19, 19, 256)  0           conv2d_10[0][0]                  \n",
      "__________________________________________________________________________________________________\n",
      "conv2d_11 (Conv2D)              (None, 19, 19, 256)  590080      re_lu_11[0][0]                   \n",
      "__________________________________________________________________________________________________\n",
      "add_6 (Add)                     (None, 19, 19, 256)  0           re_lu_10[0][0]                   \n",
      "                                                                 conv2d_11[0][0]                  \n",
      "__________________________________________________________________________________________________\n",
      "re_lu_12 (ReLU)                 (None, 19, 19, 256)  0           add_6[0][0]                      \n",
      "__________________________________________________________________________________________________\n",
      "conv2d_12 (Conv2D)              (None, 19, 19, 1)    2305        re_lu_12[0][0]                   \n",
      "__________________________________________________________________________________________________\n",
      "re_lu_13 (ReLU)                 (None, 19, 19, 1)    0           conv2d_12[0][0]                  \n",
      "__________________________________________________________________________________________________\n",
      "flatten (Flatten)               (None, 361)          0           re_lu_13[0][0]                   \n",
      "__________________________________________________________________________________________________\n",
      "softmax (Softmax)               (None, 361)          0           flatten[0][0]                    \n",
      "==================================================================================================\n",
      "Total params: 7,170,305\n",
      "Trainable params: 7,170,305\n",
      "Non-trainable params: 0\n",
      "__________________________________________________________________________________________________\n"
     ]
    }
   ],
   "source": [
    "def residual_block(x, filters, kernel_size):\n",
    "    y = Conv2D(kernel_size=kernel_size,\n",
    "               filters=filters,\n",
    "               padding='same')(x)\n",
    "    y = ReLU()(y)\n",
    "    y = Conv2D(kernel_size=kernel_size,\n",
    "               filters=filters,\n",
    "               padding='same')(y)\n",
    "    output = Add()([x,y])\n",
    "    output = ReLU()(output)\n",
    "    return output\n",
    "\n",
    "def go_res():\n",
    "    inputs = Input(shape=(19, 19, 13))\n",
    "    conv5x5 = Conv2D(kernel_size=5,\n",
    "                     filters=256,\n",
    "                     padding=\"same\",\n",
    "                     name='conv5x5')(inputs)\n",
    "    conv1x1 = Conv2D(kernel_size=1,\n",
    "                     filters=256,\n",
    "                     padding=\"same\",\n",
    "                     name='conv1x1')(inputs)\n",
    "    outputs = Add()([conv5x5, conv1x1])\n",
    "    outputs = ReLU()(outputs)\n",
    "    outputs = residual_block(x=outputs,\n",
    "                             filters=256,\n",
    "                             kernel_size=3)\n",
    "    outputs = residual_block(x=outputs,\n",
    "                             filters=256,\n",
    "                             kernel_size=3)\n",
    "    outputs = residual_block(x=outputs,\n",
    "                             filters=256,\n",
    "                             kernel_size=3)\n",
    "    outputs = residual_block(x=outputs,\n",
    "                             filters=256,\n",
    "                             kernel_size=3)\n",
    "    outputs = residual_block(x=outputs,\n",
    "                             filters=256,\n",
    "                             kernel_size=3)\n",
    "    outputs = residual_block(x=outputs,\n",
    "                             filters=256,\n",
    "                             kernel_size=3)\n",
    "    outputs = Conv2D(kernel_size=3,\n",
    "                     filters=1,\n",
    "                     padding=\"same\")(outputs)\n",
    "    outputs = ReLU()(outputs)\n",
    "    outputs = Flatten()(outputs)\n",
    "    outputs = Softmax()(outputs)\n",
    "    model = Model(inputs, outputs)\n",
    "    \n",
    "    opt = Adam(learning_rate=0.0001)\n",
    "    model.compile(optimizer=opt,\n",
    "                  loss='sparse_categorical_crossentropy',\n",
    "                  metrics=['accuracy'])\n",
    "    return model\n",
    "\n",
    "\n",
    "model = go_res()\n",
    "model.summary()"
   ]
  },
  {
   "cell_type": "code",
   "execution_count": 4,
   "id": "dd4cb23d",
   "metadata": {},
   "outputs": [],
   "source": [
    "def identity_block(input_tensor, kernel_size, filters, stage, block):\n",
    "    filters1, filters2, filters3 = filters\n",
    "    bn_axis = 3\n",
    "    \n",
    "    conv_name_base = 'res' + str(stage) + block + '_branch'\n",
    "    bn_name_base = 'bn' + str(stage) + block + '_branch'\n",
    "    # 這邊就是圖5上的1x1x64降維操作，假設input x的維度是(n, n, 256), channel last\n",
    "    x = layers.Conv2D(filters1, (1, 1),\n",
    "#                       kernel_initializer='he_normal',\n",
    "                      name=conv_name_base + '2a')(input_tensor)\n",
    "    x = layers.BatchNormalization(axis=bn_axis, name=bn_name_base + '2a')(x)\n",
    "    x = layers.Activation('relu')(x)\n",
    "    \n",
    "    # 正常的3x3x64卷積操作，Feature Map長寬仍是n x n\n",
    "    x = layers.Conv2D(filters2, kernel_size,\n",
    "                      padding='same',\n",
    "#                       kernel_initializer='he_normal',\n",
    "                      name=conv_name_base + '2b')(x)\n",
    "    x = layers.BatchNormalization(axis=bn_axis, name=bn_name_base + '2b')(x)\n",
    "    x = layers.Activation('relu')(x)\n",
    "    \n",
    "    # 最後升維到256，維度(n,n,256) -> 變成可以和(Indentity)input x相加的維度\n",
    "    x = layers.Conv2D(filters3, (1, 1),\n",
    "#                       kernel_initializer='he_normal',\n",
    "                      name=conv_name_base + '2c')(x)\n",
    "    x = layers.BatchNormalization(axis=bn_axis, name=bn_name_base + '2c')(x)\n",
    "    \n",
    "    # 相加後做non-linear轉換\n",
    "    x = layers.add([x, input_tensor])\n",
    "    x = layers.Activation('relu')(x)\n",
    "    return x"
   ]
  },
  {
   "cell_type": "code",
   "execution_count": 5,
   "id": "208834da",
   "metadata": {},
   "outputs": [],
   "source": [
    "def conv_block(input_tensor,\n",
    "               kernel_size,\n",
    "               filters,\n",
    "               stage,\n",
    "               block,\n",
    "               strides=(1, 1)):\n",
    "    filters1, filters2, filters3 = filters\n",
    "    bn_axis = 3\n",
    "    conv_name_base = 'res' + str(stage) + block + '_branch'\n",
    "    bn_name_base = 'bn' + str(stage) + block + '_branch'\n",
    "    \n",
    "    # 因為是projection shortcut 所以input的x可能跟output維度不同\n",
    "    # input維度(n,n,256) -->降維 (n,n,64)\n",
    "    # 如果Strides有改，則利用Strides來改變Feature Map長寬\n",
    "    x = layers.Conv2D(filters1, (1, 1), strides=strides,  \n",
    "#                       kernel_initializer='he_normal',\n",
    "                      name=conv_name_base + '2a')(input_tensor)\n",
    "    x = layers.BatchNormalization(axis=bn_axis, name=bn_name_base + '2a')(x)\n",
    "    x = layers.Activation('relu')(x)\n",
    "    \n",
    "    # (3,3)的kernel, padding都pad好pad滿，不改變Feature Map尺寸大小\n",
    "    x = layers.Conv2D(filters2, kernel_size, padding='same', \n",
    "#                       kernel_initializer='he_normal',\n",
    "                      name=conv_name_base + '2b')(x)\n",
    "    x = layers.BatchNormalization(axis=bn_axis, name=bn_name_base + '2b')(x)\n",
    "    x = layers.Activation('relu')(x)\n",
    "    \n",
    "    # 用1x1 conv升維到假設512\n",
    "    x = layers.Conv2D(filters3, (1, 1), \n",
    "#                       kernel_initializer='he_normal',\n",
    "                      name=conv_name_base + '2c')(x)\n",
    "    x = layers.BatchNormalization(axis=bn_axis, name=bn_name_base + '2c')(x)\n",
    "    \n",
    "    # 因input維度是256，這邊就需要做projectr將維度升到512相加\n",
    "    shortcut = layers.Conv2D(filters3, (1, 1), strides=strides,\n",
    "#                              kernel_initializer='he_normal',\n",
    "                             name=conv_name_base + '1')(input_tensor)\n",
    "    shortcut = layers.BatchNormalization(\n",
    "        axis=bn_axis, name=bn_name_base + '1')(shortcut)\n",
    "    # F(x) + x(升維後的x)\n",
    "    x = layers.add([x, shortcut])\n",
    "    x = layers.Activation('relu')(x)\n",
    "    return x"
   ]
  },
  {
   "cell_type": "code",
   "execution_count": 6,
   "id": "2ca25ea8",
   "metadata": {},
   "outputs": [],
   "source": [
    "def ResNet50(include_top=True,\n",
    "             input_tensor=None,\n",
    "             input_shape=None,\n",
    "             pooling=False):\n",
    "    img_input = layers.Input(shape = input_shape)\n",
    "    bn_axis = 3\n",
    "    ##### optional\n",
    "#     x = layers.ZeroPadding2D(padding=(3, 3), name='conv1_pad')(img_input)\n",
    "#     x = layers.Conv2D(32, (7, 7),\n",
    "#                       strides=(2, 2),\n",
    "#                       padding='same',\n",
    "#                       kernel_initializer='he_normal',\n",
    "#                       name='conv1')(img_input)\n",
    "#     x = layers.BatchNormalization(axis=bn_axis, name='bn_conv1')(x)\n",
    "#     x = layers.Activation('relu')(x)\n",
    "    #####\n",
    "    \n",
    "    x = conv_block(img_input, 3, [64, 64, 256], stage=2, block='a', strides=(1, 1))  # input Channel大小會跟最後最後residual output尺寸一樣\n",
    "    x = identity_block(x, 3, [64, 64, 256], stage=2, block='b')\n",
    "    x = identity_block(x, 3, [64, 64, 256], stage=2, block='c')\n",
    "    # 256-d to 512-d\n",
    "    x = conv_block(x, 3, [128, 128, 512], stage=3, block='a') # projection shortcut\n",
    "    x = identity_block(x, 3, [128, 128, 512], stage=3, block='b')\n",
    "    x = identity_block(x, 3, [128, 128, 512], stage=3, block='c')\n",
    "    x = identity_block(x, 3, [128, 128, 512], stage=3, block='d')\n",
    "    # 512-d to 1024-d\n",
    "#     x = conv_block(x, 3, [256, 256, 1024], stage=4, block='a') # projection shortcut\n",
    "#     x = identity_block(x, 3, [256, 256, 1024], stage=4, block='b')\n",
    "#     x = identity_block(x, 3, [256, 256, 1024], stage=4, block='c')\n",
    "#     x = identity_block(x, 3, [256, 256, 1024], stage=4, block='d')\n",
    "#     x = identity_block(x, 3, [256, 256, 1024], stage=4, block='e')\n",
    "#     x = identity_block(x, 3, [256, 256, 1024], stage=4, block='f')\n",
    "#     # 1024-d to 2048-d\n",
    "#     x = conv_block(x, 3, [512, 512, 2048], stage=5, block='a')\n",
    "#     x = identity_block(x, 3, [512, 512, 2048], stage=5, block='b')\n",
    "#     x = identity_block(x, 3, [512, 512, 2048], stage=5, block='c')\n",
    "    \n",
    "#     x = conv_block(x, 3, [512, 512, 361], stage=6, block='a')\n",
    "    x = layers.GlobalAveragePooling2D(name='avg_pool')(x)\n",
    "    x = layers.Dense(361, activation='softmax', name='fc1000')(x)\n",
    "#     outputs = layers.Conv2D(kernel_size=3,\n",
    "#                      filters=1,\n",
    "#                      padding=\"same\")(outputs)\n",
    "#     outputs = layers.ReLU()(outputs)\n",
    "#     outputs = layers.Flatten()(outputs)\n",
    "#     outputs = layers.Softmax()(outputs)\n",
    "#     if include_top:\n",
    "#         x = layers.GlobalAveragePooling2D(name='avg_pool')(x)\n",
    "#         x = layers.Dense(classes, activation='softmax', name='fc1000')(x)\n",
    "#     else:\n",
    "#         if pooling == 'avg':\n",
    "#             x = layers.GlobalAveragePooling2D()(x)\n",
    "#         elif pooling == 'max':\n",
    "#             x = layers.GlobalMaxPooling2D()(x)\n",
    "#         else:\n",
    "#             warnings.warn('The output shape of `ResNet50(include_top=False)` '\n",
    "#                           'has been changed since Keras 2.2.0.')\n",
    "#     x = layers.GlobalAveragePooling2D()(x)\n",
    "    \n",
    "    if input_tensor is not None:\n",
    "        inputs = keras_utils.get_source_inputs(input_tensor)\n",
    "    else:\n",
    "        inputs = img_input\n",
    "\n",
    "    model = Model(inputs, x, name='resnet50')\n",
    "    return model"
   ]
  },
  {
   "cell_type": "code",
   "execution_count": 7,
   "id": "2a66e90d",
   "metadata": {
    "scrolled": true
   },
   "outputs": [
    {
     "name": "stdout",
     "output_type": "stream",
     "text": [
      "Model: \"resnet50\"\n",
      "__________________________________________________________________________________________________\n",
      " Layer (type)                   Output Shape         Param #     Connected to                     \n",
      "==================================================================================================\n",
      " input_1 (InputLayer)           [(None, 19, 19, 13)  0           []                               \n",
      "                                ]                                                                 \n",
      "                                                                                                  \n",
      " res2a_branch2a (Conv2D)        (None, 19, 19, 64)   896         ['input_1[0][0]']                \n",
      "                                                                                                  \n",
      " bn2a_branch2a (BatchNormalizat  (None, 19, 19, 64)  256         ['res2a_branch2a[0][0]']         \n",
      " ion)                                                                                             \n",
      "                                                                                                  \n",
      " activation (Activation)        (None, 19, 19, 64)   0           ['bn2a_branch2a[0][0]']          \n",
      "                                                                                                  \n",
      " res2a_branch2b (Conv2D)        (None, 19, 19, 64)   36928       ['activation[0][0]']             \n",
      "                                                                                                  \n",
      " bn2a_branch2b (BatchNormalizat  (None, 19, 19, 64)  256         ['res2a_branch2b[0][0]']         \n",
      " ion)                                                                                             \n",
      "                                                                                                  \n",
      " activation_1 (Activation)      (None, 19, 19, 64)   0           ['bn2a_branch2b[0][0]']          \n",
      "                                                                                                  \n",
      " res2a_branch2c (Conv2D)        (None, 19, 19, 256)  16640       ['activation_1[0][0]']           \n",
      "                                                                                                  \n",
      " res2a_branch1 (Conv2D)         (None, 19, 19, 256)  3584        ['input_1[0][0]']                \n",
      "                                                                                                  \n",
      " bn2a_branch2c (BatchNormalizat  (None, 19, 19, 256)  1024       ['res2a_branch2c[0][0]']         \n",
      " ion)                                                                                             \n",
      "                                                                                                  \n",
      " bn2a_branch1 (BatchNormalizati  (None, 19, 19, 256)  1024       ['res2a_branch1[0][0]']          \n",
      " on)                                                                                              \n",
      "                                                                                                  \n",
      " add (Add)                      (None, 19, 19, 256)  0           ['bn2a_branch2c[0][0]',          \n",
      "                                                                  'bn2a_branch1[0][0]']           \n",
      "                                                                                                  \n",
      " activation_2 (Activation)      (None, 19, 19, 256)  0           ['add[0][0]']                    \n",
      "                                                                                                  \n",
      " res2b_branch2a (Conv2D)        (None, 19, 19, 64)   16448       ['activation_2[0][0]']           \n",
      "                                                                                                  \n",
      " bn2b_branch2a (BatchNormalizat  (None, 19, 19, 64)  256         ['res2b_branch2a[0][0]']         \n",
      " ion)                                                                                             \n",
      "                                                                                                  \n",
      " activation_3 (Activation)      (None, 19, 19, 64)   0           ['bn2b_branch2a[0][0]']          \n",
      "                                                                                                  \n",
      " res2b_branch2b (Conv2D)        (None, 19, 19, 64)   36928       ['activation_3[0][0]']           \n",
      "                                                                                                  \n",
      " bn2b_branch2b (BatchNormalizat  (None, 19, 19, 64)  256         ['res2b_branch2b[0][0]']         \n",
      " ion)                                                                                             \n",
      "                                                                                                  \n",
      " activation_4 (Activation)      (None, 19, 19, 64)   0           ['bn2b_branch2b[0][0]']          \n",
      "                                                                                                  \n",
      " res2b_branch2c (Conv2D)        (None, 19, 19, 256)  16640       ['activation_4[0][0]']           \n",
      "                                                                                                  \n",
      " bn2b_branch2c (BatchNormalizat  (None, 19, 19, 256)  1024       ['res2b_branch2c[0][0]']         \n",
      " ion)                                                                                             \n",
      "                                                                                                  \n",
      " add_1 (Add)                    (None, 19, 19, 256)  0           ['bn2b_branch2c[0][0]',          \n",
      "                                                                  'activation_2[0][0]']           \n",
      "                                                                                                  \n",
      " activation_5 (Activation)      (None, 19, 19, 256)  0           ['add_1[0][0]']                  \n",
      "                                                                                                  \n",
      " res2c_branch2a (Conv2D)        (None, 19, 19, 64)   16448       ['activation_5[0][0]']           \n",
      "                                                                                                  \n",
      " bn2c_branch2a (BatchNormalizat  (None, 19, 19, 64)  256         ['res2c_branch2a[0][0]']         \n",
      " ion)                                                                                             \n",
      "                                                                                                  \n",
      " activation_6 (Activation)      (None, 19, 19, 64)   0           ['bn2c_branch2a[0][0]']          \n",
      "                                                                                                  \n",
      " res2c_branch2b (Conv2D)        (None, 19, 19, 64)   36928       ['activation_6[0][0]']           \n",
      "                                                                                                  \n",
      " bn2c_branch2b (BatchNormalizat  (None, 19, 19, 64)  256         ['res2c_branch2b[0][0]']         \n",
      " ion)                                                                                             \n",
      "                                                                                                  \n",
      " activation_7 (Activation)      (None, 19, 19, 64)   0           ['bn2c_branch2b[0][0]']          \n",
      "                                                                                                  \n",
      " res2c_branch2c (Conv2D)        (None, 19, 19, 256)  16640       ['activation_7[0][0]']           \n",
      "                                                                                                  \n",
      " bn2c_branch2c (BatchNormalizat  (None, 19, 19, 256)  1024       ['res2c_branch2c[0][0]']         \n",
      " ion)                                                                                             \n",
      "                                                                                                  \n",
      " add_2 (Add)                    (None, 19, 19, 256)  0           ['bn2c_branch2c[0][0]',          \n",
      "                                                                  'activation_5[0][0]']           \n",
      "                                                                                                  \n",
      " activation_8 (Activation)      (None, 19, 19, 256)  0           ['add_2[0][0]']                  \n",
      "                                                                                                  \n"
     ]
    },
    {
     "name": "stdout",
     "output_type": "stream",
     "text": [
      " res3a_branch2a (Conv2D)        (None, 19, 19, 128)  32896       ['activation_8[0][0]']           \n",
      "                                                                                                  \n",
      " bn3a_branch2a (BatchNormalizat  (None, 19, 19, 128)  512        ['res3a_branch2a[0][0]']         \n",
      " ion)                                                                                             \n",
      "                                                                                                  \n",
      " activation_9 (Activation)      (None, 19, 19, 128)  0           ['bn3a_branch2a[0][0]']          \n",
      "                                                                                                  \n",
      " res3a_branch2b (Conv2D)        (None, 19, 19, 128)  147584      ['activation_9[0][0]']           \n",
      "                                                                                                  \n",
      " bn3a_branch2b (BatchNormalizat  (None, 19, 19, 128)  512        ['res3a_branch2b[0][0]']         \n",
      " ion)                                                                                             \n",
      "                                                                                                  \n",
      " activation_10 (Activation)     (None, 19, 19, 128)  0           ['bn3a_branch2b[0][0]']          \n",
      "                                                                                                  \n",
      " res3a_branch2c (Conv2D)        (None, 19, 19, 512)  66048       ['activation_10[0][0]']          \n",
      "                                                                                                  \n",
      " res3a_branch1 (Conv2D)         (None, 19, 19, 512)  131584      ['activation_8[0][0]']           \n",
      "                                                                                                  \n",
      " bn3a_branch2c (BatchNormalizat  (None, 19, 19, 512)  2048       ['res3a_branch2c[0][0]']         \n",
      " ion)                                                                                             \n",
      "                                                                                                  \n",
      " bn3a_branch1 (BatchNormalizati  (None, 19, 19, 512)  2048       ['res3a_branch1[0][0]']          \n",
      " on)                                                                                              \n",
      "                                                                                                  \n",
      " add_3 (Add)                    (None, 19, 19, 512)  0           ['bn3a_branch2c[0][0]',          \n",
      "                                                                  'bn3a_branch1[0][0]']           \n",
      "                                                                                                  \n",
      " activation_11 (Activation)     (None, 19, 19, 512)  0           ['add_3[0][0]']                  \n",
      "                                                                                                  \n",
      " res3b_branch2a (Conv2D)        (None, 19, 19, 128)  65664       ['activation_11[0][0]']          \n",
      "                                                                                                  \n",
      " bn3b_branch2a (BatchNormalizat  (None, 19, 19, 128)  512        ['res3b_branch2a[0][0]']         \n",
      " ion)                                                                                             \n",
      "                                                                                                  \n",
      " activation_12 (Activation)     (None, 19, 19, 128)  0           ['bn3b_branch2a[0][0]']          \n",
      "                                                                                                  \n",
      " res3b_branch2b (Conv2D)        (None, 19, 19, 128)  147584      ['activation_12[0][0]']          \n",
      "                                                                                                  \n",
      " bn3b_branch2b (BatchNormalizat  (None, 19, 19, 128)  512        ['res3b_branch2b[0][0]']         \n",
      " ion)                                                                                             \n",
      "                                                                                                  \n",
      " activation_13 (Activation)     (None, 19, 19, 128)  0           ['bn3b_branch2b[0][0]']          \n",
      "                                                                                                  \n",
      " res3b_branch2c (Conv2D)        (None, 19, 19, 512)  66048       ['activation_13[0][0]']          \n",
      "                                                                                                  \n",
      " bn3b_branch2c (BatchNormalizat  (None, 19, 19, 512)  2048       ['res3b_branch2c[0][0]']         \n",
      " ion)                                                                                             \n",
      "                                                                                                  \n",
      " add_4 (Add)                    (None, 19, 19, 512)  0           ['bn3b_branch2c[0][0]',          \n",
      "                                                                  'activation_11[0][0]']          \n",
      "                                                                                                  \n",
      " activation_14 (Activation)     (None, 19, 19, 512)  0           ['add_4[0][0]']                  \n",
      "                                                                                                  \n",
      " res3c_branch2a (Conv2D)        (None, 19, 19, 128)  65664       ['activation_14[0][0]']          \n",
      "                                                                                                  \n",
      " bn3c_branch2a (BatchNormalizat  (None, 19, 19, 128)  512        ['res3c_branch2a[0][0]']         \n",
      " ion)                                                                                             \n",
      "                                                                                                  \n",
      " activation_15 (Activation)     (None, 19, 19, 128)  0           ['bn3c_branch2a[0][0]']          \n",
      "                                                                                                  \n",
      " res3c_branch2b (Conv2D)        (None, 19, 19, 128)  147584      ['activation_15[0][0]']          \n",
      "                                                                                                  \n",
      " bn3c_branch2b (BatchNormalizat  (None, 19, 19, 128)  512        ['res3c_branch2b[0][0]']         \n",
      " ion)                                                                                             \n",
      "                                                                                                  \n",
      " activation_16 (Activation)     (None, 19, 19, 128)  0           ['bn3c_branch2b[0][0]']          \n",
      "                                                                                                  \n",
      " res3c_branch2c (Conv2D)        (None, 19, 19, 512)  66048       ['activation_16[0][0]']          \n",
      "                                                                                                  \n",
      " bn3c_branch2c (BatchNormalizat  (None, 19, 19, 512)  2048       ['res3c_branch2c[0][0]']         \n",
      " ion)                                                                                             \n",
      "                                                                                                  \n",
      " add_5 (Add)                    (None, 19, 19, 512)  0           ['bn3c_branch2c[0][0]',          \n",
      "                                                                  'activation_14[0][0]']          \n",
      "                                                                                                  \n",
      " activation_17 (Activation)     (None, 19, 19, 512)  0           ['add_5[0][0]']                  \n",
      "                                                                                                  \n",
      " res3d_branch2a (Conv2D)        (None, 19, 19, 128)  65664       ['activation_17[0][0]']          \n",
      "                                                                                                  \n",
      " bn3d_branch2a (BatchNormalizat  (None, 19, 19, 128)  512        ['res3d_branch2a[0][0]']         \n",
      " ion)                                                                                             \n",
      "                                                                                                  \n",
      " activation_18 (Activation)     (None, 19, 19, 128)  0           ['bn3d_branch2a[0][0]']          \n"
     ]
    },
    {
     "name": "stdout",
     "output_type": "stream",
     "text": [
      "                                                                                                  \n",
      " res3d_branch2b (Conv2D)        (None, 19, 19, 128)  147584      ['activation_18[0][0]']          \n",
      "                                                                                                  \n",
      " bn3d_branch2b (BatchNormalizat  (None, 19, 19, 128)  512        ['res3d_branch2b[0][0]']         \n",
      " ion)                                                                                             \n",
      "                                                                                                  \n",
      " activation_19 (Activation)     (None, 19, 19, 128)  0           ['bn3d_branch2b[0][0]']          \n",
      "                                                                                                  \n",
      " res3d_branch2c (Conv2D)        (None, 19, 19, 512)  66048       ['activation_19[0][0]']          \n",
      "                                                                                                  \n",
      " bn3d_branch2c (BatchNormalizat  (None, 19, 19, 512)  2048       ['res3d_branch2c[0][0]']         \n",
      " ion)                                                                                             \n",
      "                                                                                                  \n",
      " add_6 (Add)                    (None, 19, 19, 512)  0           ['bn3d_branch2c[0][0]',          \n",
      "                                                                  'activation_17[0][0]']          \n",
      "                                                                                                  \n",
      " activation_20 (Activation)     (None, 19, 19, 512)  0           ['add_6[0][0]']                  \n",
      "                                                                                                  \n",
      " avg_pool (GlobalAveragePooling  (None, 512)         0           ['activation_20[0][0]']          \n",
      " 2D)                                                                                              \n",
      "                                                                                                  \n",
      " fc1000 (Dense)                 (None, 361)          185193      ['avg_pool[0][0]']               \n",
      "                                                                                                  \n",
      "==================================================================================================\n",
      "Total params: 1,619,241\n",
      "Trainable params: 1,609,257\n",
      "Non-trainable params: 9,984\n",
      "__________________________________________________________________________________________________\n"
     ]
    }
   ],
   "source": [
    "model = ResNet50(include_top=True,\n",
    "                 input_tensor=None,\n",
    "                 input_shape=(19, 19, 13),\n",
    "                 pooling=False)\n",
    "opt = Nadam(learning_rate = 0.0005)\n",
    "model.compile(optimizer = opt,\n",
    "              loss='sparse_categorical_crossentropy',\n",
    "                metrics=['accuracy'])\n",
    "model.summary()"
   ]
  },
  {
   "cell_type": "code",
   "execution_count": 9,
   "id": "39553a34",
   "metadata": {},
   "outputs": [],
   "source": [
    "# model = load_model('./models/model_kyu_resnet50.h5')"
   ]
  },
  {
   "cell_type": "code",
   "execution_count": 11,
   "id": "4a4d7f1c",
   "metadata": {
    "scrolled": true
   },
   "outputs": [
    {
     "name": "stdout",
     "output_type": "stream",
     "text": [
      "    804/Unknown - 171s 186ms/step - loss: 4.4464 - accuracy: 0.0892"
     ]
    },
    {
     "ename": "KeyboardInterrupt",
     "evalue": "",
     "output_type": "error",
     "traceback": [
      "\u001b[1;31m---------------------------------------------------------------------------\u001b[0m",
      "\u001b[1;31mKeyboardInterrupt\u001b[0m                         Traceback (most recent call last)",
      "Cell \u001b[1;32mIn[11], line 1\u001b[0m\n\u001b[1;32m----> 1\u001b[0m history \u001b[38;5;241m=\u001b[39m \u001b[43mmodel\u001b[49m\u001b[38;5;241;43m.\u001b[39;49m\u001b[43mfit\u001b[49m\u001b[43m(\u001b[49m\n\u001b[0;32m      2\u001b[0m \u001b[43m    \u001b[49m\u001b[43mdataset\u001b[49m\u001b[43m,\u001b[49m\n\u001b[0;32m      3\u001b[0m \u001b[43m    \u001b[49m\u001b[43mepochs\u001b[49m\u001b[43m \u001b[49m\u001b[38;5;241;43m=\u001b[39;49m\u001b[43m \u001b[49m\u001b[38;5;241;43m1\u001b[39;49m\u001b[43m,\u001b[49m\n\u001b[0;32m      4\u001b[0m \u001b[43m    \u001b[49m\n\u001b[0;32m      5\u001b[0m \u001b[43m    \u001b[49m\u001b[43mvalidation_data\u001b[49m\u001b[43m \u001b[49m\u001b[38;5;241;43m=\u001b[39;49m\u001b[43m \u001b[49m\u001b[43mdataset_valid\u001b[49m\n\u001b[0;32m      6\u001b[0m \u001b[43m)\u001b[49m\n",
      "File \u001b[1;32m~\\anaconda3\\envs\\aicup\\lib\\site-packages\\keras\\engine\\training.py:1184\u001b[0m, in \u001b[0;36mModel.fit\u001b[1;34m(self, x, y, batch_size, epochs, verbose, callbacks, validation_split, validation_data, shuffle, class_weight, sample_weight, initial_epoch, steps_per_epoch, validation_steps, validation_batch_size, validation_freq, max_queue_size, workers, use_multiprocessing)\u001b[0m\n\u001b[0;32m   1177\u001b[0m \u001b[38;5;28;01mwith\u001b[39;00m tf\u001b[38;5;241m.\u001b[39mprofiler\u001b[38;5;241m.\u001b[39mexperimental\u001b[38;5;241m.\u001b[39mTrace(\n\u001b[0;32m   1178\u001b[0m     \u001b[38;5;124m'\u001b[39m\u001b[38;5;124mtrain\u001b[39m\u001b[38;5;124m'\u001b[39m,\n\u001b[0;32m   1179\u001b[0m     epoch_num\u001b[38;5;241m=\u001b[39mepoch,\n\u001b[0;32m   1180\u001b[0m     step_num\u001b[38;5;241m=\u001b[39mstep,\n\u001b[0;32m   1181\u001b[0m     batch_size\u001b[38;5;241m=\u001b[39mbatch_size,\n\u001b[0;32m   1182\u001b[0m     _r\u001b[38;5;241m=\u001b[39m\u001b[38;5;241m1\u001b[39m):\n\u001b[0;32m   1183\u001b[0m   callbacks\u001b[38;5;241m.\u001b[39mon_train_batch_begin(step)\n\u001b[1;32m-> 1184\u001b[0m   tmp_logs \u001b[38;5;241m=\u001b[39m \u001b[38;5;28;43mself\u001b[39;49m\u001b[38;5;241;43m.\u001b[39;49m\u001b[43mtrain_function\u001b[49m\u001b[43m(\u001b[49m\u001b[43miterator\u001b[49m\u001b[43m)\u001b[49m\n\u001b[0;32m   1185\u001b[0m   \u001b[38;5;28;01mif\u001b[39;00m data_handler\u001b[38;5;241m.\u001b[39mshould_sync:\n\u001b[0;32m   1186\u001b[0m     context\u001b[38;5;241m.\u001b[39masync_wait()\n",
      "File \u001b[1;32m~\\anaconda3\\envs\\aicup\\lib\\site-packages\\tensorflow\\python\\eager\\def_function.py:885\u001b[0m, in \u001b[0;36mFunction.__call__\u001b[1;34m(self, *args, **kwds)\u001b[0m\n\u001b[0;32m    882\u001b[0m compiler \u001b[38;5;241m=\u001b[39m \u001b[38;5;124m\"\u001b[39m\u001b[38;5;124mxla\u001b[39m\u001b[38;5;124m\"\u001b[39m \u001b[38;5;28;01mif\u001b[39;00m \u001b[38;5;28mself\u001b[39m\u001b[38;5;241m.\u001b[39m_jit_compile \u001b[38;5;28;01melse\u001b[39;00m \u001b[38;5;124m\"\u001b[39m\u001b[38;5;124mnonXla\u001b[39m\u001b[38;5;124m\"\u001b[39m\n\u001b[0;32m    884\u001b[0m \u001b[38;5;28;01mwith\u001b[39;00m OptionalXlaContext(\u001b[38;5;28mself\u001b[39m\u001b[38;5;241m.\u001b[39m_jit_compile):\n\u001b[1;32m--> 885\u001b[0m   result \u001b[38;5;241m=\u001b[39m \u001b[38;5;28;43mself\u001b[39;49m\u001b[38;5;241;43m.\u001b[39;49m\u001b[43m_call\u001b[49m\u001b[43m(\u001b[49m\u001b[38;5;241;43m*\u001b[39;49m\u001b[43margs\u001b[49m\u001b[43m,\u001b[49m\u001b[43m \u001b[49m\u001b[38;5;241;43m*\u001b[39;49m\u001b[38;5;241;43m*\u001b[39;49m\u001b[43mkwds\u001b[49m\u001b[43m)\u001b[49m\n\u001b[0;32m    887\u001b[0m new_tracing_count \u001b[38;5;241m=\u001b[39m \u001b[38;5;28mself\u001b[39m\u001b[38;5;241m.\u001b[39mexperimental_get_tracing_count()\n\u001b[0;32m    888\u001b[0m without_tracing \u001b[38;5;241m=\u001b[39m (tracing_count \u001b[38;5;241m==\u001b[39m new_tracing_count)\n",
      "File \u001b[1;32m~\\anaconda3\\envs\\aicup\\lib\\site-packages\\tensorflow\\python\\eager\\def_function.py:917\u001b[0m, in \u001b[0;36mFunction._call\u001b[1;34m(self, *args, **kwds)\u001b[0m\n\u001b[0;32m    914\u001b[0m   \u001b[38;5;28mself\u001b[39m\u001b[38;5;241m.\u001b[39m_lock\u001b[38;5;241m.\u001b[39mrelease()\n\u001b[0;32m    915\u001b[0m   \u001b[38;5;66;03m# In this case we have created variables on the first call, so we run the\u001b[39;00m\n\u001b[0;32m    916\u001b[0m   \u001b[38;5;66;03m# defunned version which is guaranteed to never create variables.\u001b[39;00m\n\u001b[1;32m--> 917\u001b[0m   \u001b[38;5;28;01mreturn\u001b[39;00m \u001b[38;5;28;43mself\u001b[39;49m\u001b[38;5;241;43m.\u001b[39;49m\u001b[43m_stateless_fn\u001b[49m\u001b[43m(\u001b[49m\u001b[38;5;241;43m*\u001b[39;49m\u001b[43margs\u001b[49m\u001b[43m,\u001b[49m\u001b[43m \u001b[49m\u001b[38;5;241;43m*\u001b[39;49m\u001b[38;5;241;43m*\u001b[39;49m\u001b[43mkwds\u001b[49m\u001b[43m)\u001b[49m  \u001b[38;5;66;03m# pylint: disable=not-callable\u001b[39;00m\n\u001b[0;32m    918\u001b[0m \u001b[38;5;28;01melif\u001b[39;00m \u001b[38;5;28mself\u001b[39m\u001b[38;5;241m.\u001b[39m_stateful_fn \u001b[38;5;129;01mis\u001b[39;00m \u001b[38;5;129;01mnot\u001b[39;00m \u001b[38;5;28;01mNone\u001b[39;00m:\n\u001b[0;32m    919\u001b[0m   \u001b[38;5;66;03m# Release the lock early so that multiple threads can perform the call\u001b[39;00m\n\u001b[0;32m    920\u001b[0m   \u001b[38;5;66;03m# in parallel.\u001b[39;00m\n\u001b[0;32m    921\u001b[0m   \u001b[38;5;28mself\u001b[39m\u001b[38;5;241m.\u001b[39m_lock\u001b[38;5;241m.\u001b[39mrelease()\n",
      "File \u001b[1;32m~\\anaconda3\\envs\\aicup\\lib\\site-packages\\tensorflow\\python\\eager\\function.py:3039\u001b[0m, in \u001b[0;36mFunction.__call__\u001b[1;34m(self, *args, **kwargs)\u001b[0m\n\u001b[0;32m   3036\u001b[0m \u001b[38;5;28;01mwith\u001b[39;00m \u001b[38;5;28mself\u001b[39m\u001b[38;5;241m.\u001b[39m_lock:\n\u001b[0;32m   3037\u001b[0m   (graph_function,\n\u001b[0;32m   3038\u001b[0m    filtered_flat_args) \u001b[38;5;241m=\u001b[39m \u001b[38;5;28mself\u001b[39m\u001b[38;5;241m.\u001b[39m_maybe_define_function(args, kwargs)\n\u001b[1;32m-> 3039\u001b[0m \u001b[38;5;28;01mreturn\u001b[39;00m \u001b[43mgraph_function\u001b[49m\u001b[38;5;241;43m.\u001b[39;49m\u001b[43m_call_flat\u001b[49m\u001b[43m(\u001b[49m\n\u001b[0;32m   3040\u001b[0m \u001b[43m    \u001b[49m\u001b[43mfiltered_flat_args\u001b[49m\u001b[43m,\u001b[49m\u001b[43m \u001b[49m\u001b[43mcaptured_inputs\u001b[49m\u001b[38;5;241;43m=\u001b[39;49m\u001b[43mgraph_function\u001b[49m\u001b[38;5;241;43m.\u001b[39;49m\u001b[43mcaptured_inputs\u001b[49m\u001b[43m)\u001b[49m\n",
      "File \u001b[1;32m~\\anaconda3\\envs\\aicup\\lib\\site-packages\\tensorflow\\python\\eager\\function.py:1963\u001b[0m, in \u001b[0;36mConcreteFunction._call_flat\u001b[1;34m(self, args, captured_inputs, cancellation_manager)\u001b[0m\n\u001b[0;32m   1959\u001b[0m possible_gradient_type \u001b[38;5;241m=\u001b[39m gradients_util\u001b[38;5;241m.\u001b[39mPossibleTapeGradientTypes(args)\n\u001b[0;32m   1960\u001b[0m \u001b[38;5;28;01mif\u001b[39;00m (possible_gradient_type \u001b[38;5;241m==\u001b[39m gradients_util\u001b[38;5;241m.\u001b[39mPOSSIBLE_GRADIENT_TYPES_NONE\n\u001b[0;32m   1961\u001b[0m     \u001b[38;5;129;01mand\u001b[39;00m executing_eagerly):\n\u001b[0;32m   1962\u001b[0m   \u001b[38;5;66;03m# No tape is watching; skip to running the function.\u001b[39;00m\n\u001b[1;32m-> 1963\u001b[0m   \u001b[38;5;28;01mreturn\u001b[39;00m \u001b[38;5;28mself\u001b[39m\u001b[38;5;241m.\u001b[39m_build_call_outputs(\u001b[38;5;28;43mself\u001b[39;49m\u001b[38;5;241;43m.\u001b[39;49m\u001b[43m_inference_function\u001b[49m\u001b[38;5;241;43m.\u001b[39;49m\u001b[43mcall\u001b[49m\u001b[43m(\u001b[49m\n\u001b[0;32m   1964\u001b[0m \u001b[43m      \u001b[49m\u001b[43mctx\u001b[49m\u001b[43m,\u001b[49m\u001b[43m \u001b[49m\u001b[43margs\u001b[49m\u001b[43m,\u001b[49m\u001b[43m \u001b[49m\u001b[43mcancellation_manager\u001b[49m\u001b[38;5;241;43m=\u001b[39;49m\u001b[43mcancellation_manager\u001b[49m\u001b[43m)\u001b[49m)\n\u001b[0;32m   1965\u001b[0m forward_backward \u001b[38;5;241m=\u001b[39m \u001b[38;5;28mself\u001b[39m\u001b[38;5;241m.\u001b[39m_select_forward_and_backward_functions(\n\u001b[0;32m   1966\u001b[0m     args,\n\u001b[0;32m   1967\u001b[0m     possible_gradient_type,\n\u001b[0;32m   1968\u001b[0m     executing_eagerly)\n\u001b[0;32m   1969\u001b[0m forward_function, args_with_tangents \u001b[38;5;241m=\u001b[39m forward_backward\u001b[38;5;241m.\u001b[39mforward()\n",
      "File \u001b[1;32m~\\anaconda3\\envs\\aicup\\lib\\site-packages\\tensorflow\\python\\eager\\function.py:591\u001b[0m, in \u001b[0;36m_EagerDefinedFunction.call\u001b[1;34m(self, ctx, args, cancellation_manager)\u001b[0m\n\u001b[0;32m    589\u001b[0m \u001b[38;5;28;01mwith\u001b[39;00m _InterpolateFunctionError(\u001b[38;5;28mself\u001b[39m):\n\u001b[0;32m    590\u001b[0m   \u001b[38;5;28;01mif\u001b[39;00m cancellation_manager \u001b[38;5;129;01mis\u001b[39;00m \u001b[38;5;28;01mNone\u001b[39;00m:\n\u001b[1;32m--> 591\u001b[0m     outputs \u001b[38;5;241m=\u001b[39m \u001b[43mexecute\u001b[49m\u001b[38;5;241;43m.\u001b[39;49m\u001b[43mexecute\u001b[49m\u001b[43m(\u001b[49m\n\u001b[0;32m    592\u001b[0m \u001b[43m        \u001b[49m\u001b[38;5;28;43mstr\u001b[39;49m\u001b[43m(\u001b[49m\u001b[38;5;28;43mself\u001b[39;49m\u001b[38;5;241;43m.\u001b[39;49m\u001b[43msignature\u001b[49m\u001b[38;5;241;43m.\u001b[39;49m\u001b[43mname\u001b[49m\u001b[43m)\u001b[49m\u001b[43m,\u001b[49m\n\u001b[0;32m    593\u001b[0m \u001b[43m        \u001b[49m\u001b[43mnum_outputs\u001b[49m\u001b[38;5;241;43m=\u001b[39;49m\u001b[38;5;28;43mself\u001b[39;49m\u001b[38;5;241;43m.\u001b[39;49m\u001b[43m_num_outputs\u001b[49m\u001b[43m,\u001b[49m\n\u001b[0;32m    594\u001b[0m \u001b[43m        \u001b[49m\u001b[43minputs\u001b[49m\u001b[38;5;241;43m=\u001b[39;49m\u001b[43margs\u001b[49m\u001b[43m,\u001b[49m\n\u001b[0;32m    595\u001b[0m \u001b[43m        \u001b[49m\u001b[43mattrs\u001b[49m\u001b[38;5;241;43m=\u001b[39;49m\u001b[43mattrs\u001b[49m\u001b[43m,\u001b[49m\n\u001b[0;32m    596\u001b[0m \u001b[43m        \u001b[49m\u001b[43mctx\u001b[49m\u001b[38;5;241;43m=\u001b[39;49m\u001b[43mctx\u001b[49m\u001b[43m)\u001b[49m\n\u001b[0;32m    597\u001b[0m   \u001b[38;5;28;01melse\u001b[39;00m:\n\u001b[0;32m    598\u001b[0m     outputs \u001b[38;5;241m=\u001b[39m execute\u001b[38;5;241m.\u001b[39mexecute_with_cancellation(\n\u001b[0;32m    599\u001b[0m         \u001b[38;5;28mstr\u001b[39m(\u001b[38;5;28mself\u001b[39m\u001b[38;5;241m.\u001b[39msignature\u001b[38;5;241m.\u001b[39mname),\n\u001b[0;32m    600\u001b[0m         num_outputs\u001b[38;5;241m=\u001b[39m\u001b[38;5;28mself\u001b[39m\u001b[38;5;241m.\u001b[39m_num_outputs,\n\u001b[1;32m   (...)\u001b[0m\n\u001b[0;32m    603\u001b[0m         ctx\u001b[38;5;241m=\u001b[39mctx,\n\u001b[0;32m    604\u001b[0m         cancellation_manager\u001b[38;5;241m=\u001b[39mcancellation_manager)\n",
      "File \u001b[1;32m~\\anaconda3\\envs\\aicup\\lib\\site-packages\\tensorflow\\python\\eager\\execute.py:59\u001b[0m, in \u001b[0;36mquick_execute\u001b[1;34m(op_name, num_outputs, inputs, attrs, ctx, name)\u001b[0m\n\u001b[0;32m     57\u001b[0m \u001b[38;5;28;01mtry\u001b[39;00m:\n\u001b[0;32m     58\u001b[0m   ctx\u001b[38;5;241m.\u001b[39mensure_initialized()\n\u001b[1;32m---> 59\u001b[0m   tensors \u001b[38;5;241m=\u001b[39m \u001b[43mpywrap_tfe\u001b[49m\u001b[38;5;241;43m.\u001b[39;49m\u001b[43mTFE_Py_Execute\u001b[49m\u001b[43m(\u001b[49m\u001b[43mctx\u001b[49m\u001b[38;5;241;43m.\u001b[39;49m\u001b[43m_handle\u001b[49m\u001b[43m,\u001b[49m\u001b[43m \u001b[49m\u001b[43mdevice_name\u001b[49m\u001b[43m,\u001b[49m\u001b[43m \u001b[49m\u001b[43mop_name\u001b[49m\u001b[43m,\u001b[49m\n\u001b[0;32m     60\u001b[0m \u001b[43m                                      \u001b[49m\u001b[43minputs\u001b[49m\u001b[43m,\u001b[49m\u001b[43m \u001b[49m\u001b[43mattrs\u001b[49m\u001b[43m,\u001b[49m\u001b[43m \u001b[49m\u001b[43mnum_outputs\u001b[49m\u001b[43m)\u001b[49m\n\u001b[0;32m     61\u001b[0m \u001b[38;5;28;01mexcept\u001b[39;00m core\u001b[38;5;241m.\u001b[39m_NotOkStatusException \u001b[38;5;28;01mas\u001b[39;00m e:\n\u001b[0;32m     62\u001b[0m   \u001b[38;5;28;01mif\u001b[39;00m name \u001b[38;5;129;01mis\u001b[39;00m \u001b[38;5;129;01mnot\u001b[39;00m \u001b[38;5;28;01mNone\u001b[39;00m:\n",
      "\u001b[1;31mKeyboardInterrupt\u001b[0m: "
     ]
    }
   ],
   "source": [
    "history = model.fit(\n",
    "    dataset,\n",
    "    epochs = 1,\n",
    "    \n",
    "    validation_data = dataset_valid\n",
    ")"
   ]
  },
  {
   "cell_type": "code",
   "execution_count": 9,
   "id": "2aaddf0b",
   "metadata": {},
   "outputs": [],
   "source": [
    "model.save('./models/model_kyu_resnet50_withpp.h5')"
   ]
  },
  {
   "cell_type": "code",
   "execution_count": null,
   "id": "ee70e090",
   "metadata": {},
   "outputs": [
    {
     "name": "stdout",
     "output_type": "stream",
     "text": [
      "  67467/Unknown - 8889s 132ms/step - loss: 10.7980 - accuracy: 0.0062"
     ]
    }
   ],
   "source": [
    "history = model.evaluate(\n",
    "    dataset_valid\n",
    ")"
   ]
  },
  {
   "cell_type": "code",
   "execution_count": null,
   "id": "f913656c",
   "metadata": {},
   "outputs": [],
   "source": [
    "model.save('./models/model_kyu_resnet50_withpp_1.h5')"
   ]
  },
  {
   "cell_type": "code",
   "execution_count": 27,
   "id": "90d58cae",
   "metadata": {},
   "outputs": [
    {
     "name": "stdout",
     "output_type": "stream",
     "text": [
      "95270/95270 [==============================] - 14285s 150ms/step - loss: 2.0121 - accuracy: 0.5265\n"
     ]
    }
   ],
   "source": [
    "history = model.fit(\n",
    "    dataset,\n",
    "    epochs = 1,\n",
    "    validation_data = val_dataset\n",
    ")"
   ]
  },
  {
   "cell_type": "code",
   "execution_count": 28,
   "id": "3dcbe8c8",
   "metadata": {},
   "outputs": [],
   "source": [
    "model.save('./models/model_kyu_resnet_2.h5')"
   ]
  },
  {
   "cell_type": "code",
   "execution_count": 33,
   "id": "a834cce7",
   "metadata": {},
   "outputs": [
    {
     "name": "stdout",
     "output_type": "stream",
     "text": [
      "42/42 [==============================] - 8s 188ms/step - loss: 1.8230 - accuracy: 0.5787 - val_loss: 1.9512 - val_accuracy: 0.5478\n"
     ]
    }
   ],
   "source": [
    "history = model.fit(\n",
    "    dataset,\n",
    "    epochs = 1,\n",
    "    validation_data = val_dataset\n",
    ")"
   ]
  },
  {
   "cell_type": "code",
   "execution_count": null,
   "id": "3f436af1",
   "metadata": {},
   "outputs": [],
   "source": [
    "model.save('./models/model_kyu_resnet_3.h5')"
   ]
  },
  {
   "cell_type": "code",
   "execution_count": null,
   "id": "fb78859b",
   "metadata": {},
   "outputs": [],
   "source": [
    "history = model.fit(\n",
    "    dataset,\n",
    "    epochs = 1\n",
    ")"
   ]
  },
  {
   "cell_type": "code",
   "execution_count": null,
   "id": "b98c3ebb",
   "metadata": {},
   "outputs": [],
   "source": [
    "model.save('./models/model_kyu_resnet_4.h5')"
   ]
  },
  {
   "cell_type": "code",
   "execution_count": null,
   "id": "0a850b05",
   "metadata": {},
   "outputs": [],
   "source": [
    "history = model.fit(\n",
    "    dataset,\n",
    "    epochs = 1\n",
    ")"
   ]
  },
  {
   "cell_type": "code",
   "execution_count": null,
   "id": "6a4f6688",
   "metadata": {},
   "outputs": [],
   "source": [
    "model.save('./models/model_kyu_10_15_f128_5.h5')"
   ]
  },
  {
   "cell_type": "code",
   "execution_count": null,
   "id": "2dd7f4fc",
   "metadata": {},
   "outputs": [],
   "source": [
    "history = model.fit(\n",
    "    dataset,\n",
    "    epochs = 1\n",
    ")"
   ]
  },
  {
   "cell_type": "code",
   "execution_count": null,
   "id": "33aca136",
   "metadata": {},
   "outputs": [],
   "source": [
    "model.save('./models/model_kyu_10_15_f128_6.h5')"
   ]
  },
  {
   "cell_type": "code",
   "execution_count": null,
   "id": "990c90e1",
   "metadata": {},
   "outputs": [],
   "source": [
    "history = model.fit(\n",
    "    dataset,\n",
    "    epochs = 1\n",
    ")"
   ]
  },
  {
   "cell_type": "code",
   "execution_count": null,
   "id": "32c0e018",
   "metadata": {},
   "outputs": [],
   "source": [
    "model.save('./models/model_kyu_10_15_f128_7.h5')"
   ]
  },
  {
   "cell_type": "code",
   "execution_count": null,
   "id": "d53e1f45",
   "metadata": {},
   "outputs": [],
   "source": [
    "history = model.fit(\n",
    "    dataset,\n",
    "    epochs = 1\n",
    ")"
   ]
  },
  {
   "cell_type": "code",
   "execution_count": null,
   "id": "28f38557",
   "metadata": {},
   "outputs": [],
   "source": [
    "model.save('./models/model_kyu_10_15_f128_8.h5')"
   ]
  },
  {
   "cell_type": "code",
   "execution_count": null,
   "id": "27ae4d25",
   "metadata": {},
   "outputs": [],
   "source": [
    "history = model.fit(\n",
    "    dataset,\n",
    "    epochs = 1\n",
    ")"
   ]
  },
  {
   "cell_type": "code",
   "execution_count": null,
   "id": "718dcd6c",
   "metadata": {},
   "outputs": [],
   "source": [
    "model.save('./models/model_kyu_10_15_f128_9.h5')"
   ]
  },
  {
   "cell_type": "code",
   "execution_count": null,
   "id": "f68be49f",
   "metadata": {},
   "outputs": [],
   "source": [
    "history = model.fit(\n",
    "    dataset,\n",
    "    epochs = 1\n",
    ")"
   ]
  },
  {
   "cell_type": "code",
   "execution_count": null,
   "id": "9fde8199",
   "metadata": {},
   "outputs": [],
   "source": [
    "model.save('./models/model_kyu_10_14_11.h5')"
   ]
  },
  {
   "cell_type": "markdown",
   "id": "484be28d",
   "metadata": {},
   "source": [
    "## ALL DONE!\n",
    "\n",
    "For using the model and creating a submission file, follow the notebook **Create Public Upload CSV.ipynb**"
   ]
  },
  {
   "cell_type": "markdown",
   "id": "2f7fafaa",
   "metadata": {},
   "source": [
    "# End of Tutorial\n",
    "\n",
    "You are free to use more modern NN architectures, a better pre-processing, feature extraction methods to achieve much better accuracy!"
   ]
  },
  {
   "cell_type": "code",
   "execution_count": null,
   "id": "b34f1db8",
   "metadata": {},
   "outputs": [],
   "source": []
  }
 ],
 "metadata": {
  "kernelspec": {
   "display_name": "Python 3 (ipykernel)",
   "language": "python",
   "name": "python3"
  },
  "language_info": {
   "codemirror_mode": {
    "name": "ipython",
    "version": 3
   },
   "file_extension": ".py",
   "mimetype": "text/x-python",
   "name": "python",
   "nbconvert_exporter": "python",
   "pygments_lexer": "ipython3",
   "version": "3.8.18"
  }
 },
 "nbformat": 4,
 "nbformat_minor": 5
}

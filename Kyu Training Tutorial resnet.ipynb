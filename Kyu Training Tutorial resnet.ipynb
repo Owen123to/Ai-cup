{
 "cells": [
  {
   "cell_type": "code",
   "execution_count": 11,
   "id": "bb173248",
   "metadata": {},
   "outputs": [],
   "source": [
    "import tensorflow as tf\n",
    "from tensorflow.keras.models import Model, load_model\n",
    "from tensorflow.keras.layers import Conv2D, ReLU, Flatten, Dense, Softmax, BatchNormalization\n",
    "from tensorflow.keras.layers import Input, Activation, Add, GlobalAveragePooling2D\n",
    "from tensorflow.keras.optimizers import Adam, Nadam, SGD\n",
    "# from tensorflow.keras.applications.resnet50 import ResNet50\n",
    "from queue import Queue\n",
    "import keras\n",
    "import numpy as np"
   ]
  },
  {
   "cell_type": "code",
   "execution_count": 12,
   "id": "62384345",
   "metadata": {},
   "outputs": [
    {
     "data": {
      "text/plain": [
       "True"
      ]
     },
     "execution_count": 12,
     "metadata": {},
     "output_type": "execute_result"
    }
   ],
   "source": [
    "tf.__version__\n",
    "tf.test.is_gpu_available()"
   ]
  },
  {
   "cell_type": "markdown",
   "id": "bd95ed0c",
   "metadata": {},
   "source": [
    "# Data Pre-Processing\n",
    "\n",
    "Open **kyu_train.csv** file and split the games into a list.\n",
    "Every row of csv: `KL0000000001,B,B[pq],W[dd],B[dp],W[pd],B[jc],...`. \n",
    "\n",
    "Columns are:\n",
    "\n",
    "    1. KL0000000001: Game ID\n",
    "    2. B: Player's color\n",
    "    3-... : Moves\n",
    "    \n",
    "We cropped only the moves to game list as:"
   ]
  },
  {
   "cell_type": "code",
   "execution_count": 13,
   "id": "2f8872fd",
   "metadata": {},
   "outputs": [],
   "source": [
    "df = open('./Training Dataset/kyu_train.csv').read().splitlines()\n",
    "games = [i.split(',',2)[-1] for i in df]\n",
    "colors = [i.split(',',2)[1] for i in df]"
   ]
  },
  {
   "cell_type": "markdown",
   "id": "58532b01",
   "metadata": {},
   "source": [
    "Create a dictionary to convert the coordinates from characters to numbers"
   ]
  },
  {
   "cell_type": "code",
   "execution_count": 14,
   "id": "496585f2",
   "metadata": {
    "scrolled": true
   },
   "outputs": [
    {
     "data": {
      "text/plain": [
       "{'a': 0,\n",
       " 'b': 1,\n",
       " 'c': 2,\n",
       " 'd': 3,\n",
       " 'e': 4,\n",
       " 'f': 5,\n",
       " 'g': 6,\n",
       " 'h': 7,\n",
       " 'i': 8,\n",
       " 'j': 9,\n",
       " 'k': 10,\n",
       " 'l': 11,\n",
       " 'm': 12,\n",
       " 'n': 13,\n",
       " 'o': 14,\n",
       " 'p': 15,\n",
       " 'q': 16,\n",
       " 'r': 17,\n",
       " 's': 18}"
      ]
     },
     "execution_count": 14,
     "metadata": {},
     "output_type": "execute_result"
    }
   ],
   "source": [
    "chars = 'abcdefghijklmnopqrs'\n",
    "coordinates = {k:v for v,k in enumerate(chars)}\n",
    "chartonumbers = {k:v for k,v in enumerate(chars)}\n",
    "coordinates"
   ]
  },
  {
   "cell_type": "markdown",
   "id": "92277370",
   "metadata": {},
   "source": [
    "We decided to build a DCNN model in this tutorial. We create data samples by using every move in every game, meaning that the target is to predict the next move by feeding the previous state of the table in every game for every move. Therefore, we can collect much more data samples from games.\n",
    "\n",
    "For the simplicity, we used 4 dimensional feature map to represent the data as below:\n",
    " 1. Positions of black stones: mark them as 1 and the rest of the table as 0\n",
    " 2. Positions of white stones: mark them as 1 and the rest of the table as 0\n",
    " 3. Empty areas of the table: mark the empty areas as 1 and occupied areas as 0\n",
    " 4. The last move in the table: mark the position of the last move as 1 and the rest as 0\n",
    " \n",
    "Target value is a number between 0-361(19\\*19). Later this will be one-hot encoded."
   ]
  },
  {
   "cell_type": "code",
   "execution_count": 15,
   "id": "8e6a9f73",
   "metadata": {},
   "outputs": [],
   "source": [
    "liber = Queue()\n",
    "def count_air2(move):\n",
    "    bfs = []\n",
    "    col = coordinates[move[2]]\n",
    "    row = coordinates[move[3]]\n",
    "    #找四周要bfs的\n",
    "    bfs.append([row, col])\n",
    "    if col - 1 >= 0 and x[row][col - 1][8] == 0:\n",
    "        bfs.append([row, col - 1])\n",
    "    if col + 1 < 19 and x[row][col + 1][8] == 0:\n",
    "        bfs.append([row, col + 1])\n",
    "    if row - 1 >= 0 and x[row - 1][col][8] == 0:\n",
    "        bfs.append([row - 1, col])\n",
    "    if row + 1 < 19 and x[row + 1][col][8] == 0:\n",
    "        bfs.append([row + 1, col])\n",
    "    for m in bfs:\n",
    "        BFS(m)\n",
    "    bfs = []\n",
    "    if not liber.empty():\n",
    "#         print(\"liber\")\n",
    "        while not liber.empty():\n",
    "            li_row, li_col = liber.get()\n",
    "#             x[li_row][li_col][8] = 1\n",
    "            if li_col - 1 >= 0 and x[li_row][li_col - 1][8] == 0:\n",
    "                bfs.append([li_row, li_col - 1])\n",
    "            if li_col + 1 < 19 and x[li_row][li_col + 1][8] == 0:\n",
    "                bfs.append([li_row, li_col + 1])\n",
    "            if li_row - 1 >= 0 and x[li_row - 1][li_col][8] == 0:\n",
    "                bfs.append([li_row - 1, li_col])\n",
    "            if li_row + 1 < 19 and x[li_row + 1][li_col][8] == 0:\n",
    "                bfs.append([li_row + 1, li_col])\n",
    "        for m in bfs:\n",
    "            BFS(m)\n",
    "        \n",
    "def BFS(now):\n",
    "    q = Queue()\n",
    "    row = now[0]\n",
    "    col = now[1]\n",
    "    q.put((row, col))\n",
    "    visited = [[False for _ in range(19)] for _ in range(19)]\n",
    "    nodes = []\n",
    "    air = 0\n",
    "    next_board = 0\n",
    "    board = player\n",
    "    if oppnent[row, col] == 1:\n",
    "        board = oppnent\n",
    "        next_board = 4\n",
    "    while not q.empty():\n",
    "        m, n = q.get()\n",
    "        if m < 0 or n < 0 or m >= 19 or n >= 19 or visited[m][n]:\n",
    "            continue\n",
    "        visited[m][n] = True\n",
    "        if board[m, n] == 1:\n",
    "            nodes.append([m, n])\n",
    "            q.put((m - 1, n))\n",
    "            q.put((m + 1, n))\n",
    "            q.put((m, n - 1))\n",
    "            q.put((m, n + 1))\n",
    "        elif x[m, n, 8] == 1: #空地 -> 自由度+1\n",
    "            air += 1\n",
    "    dele = -1\n",
    "    for i in range(8):\n",
    "        if x[row][col][i] == 1:\n",
    "            dele = i\n",
    "            break\n",
    "    air = min(air, 4)\n",
    "    for node in nodes:\n",
    "        n_row = node[0]\n",
    "        n_col = node[1]\n",
    "        #原本的改0，現在的氣數對應的棋盤改1\n",
    "        if dele != -1:\n",
    "            x[n_row][n_col][dele] = 0;\n",
    "        if air == 0:\n",
    "            x[n_row][n_col][8] = 1\n",
    "            x[n_row, n_col, 17] = 0\n",
    "            x[n_row, n_col, 18] = 0\n",
    "            player[n_row, n_col] = 0\n",
    "            oppnent[n_row, n_col] = 0\n",
    "            liber.put(node)\n",
    "        else:\n",
    "            x[n_row][n_col][next_board + air - 1] = 1"
   ]
  },
  {
   "cell_type": "code",
   "execution_count": 16,
   "id": "0adb423c",
   "metadata": {},
   "outputs": [],
   "source": [
    "#0~3:所有跟最後一步顏色相同的氣(1, 2, 3, >4)\n",
    "#4~7:所有跟最後一步顏色不同的氣(1, 2, 3, >4)\n",
    "#8:標示空地\n",
    "#9~16:最後8步\n",
    "#17:周圍顏色相同的7*7\n",
    "#18:周圍顏色不同的7*7\n",
    "\n",
    "x = np.zeros((19,19,19))\n",
    "player = np.zeros((19, 19))\n",
    "oppnent = np.zeros((19, 19))\n",
    "\n",
    "\n",
    "def prepare_input(moves, player_color):\n",
    "#     player_color = moves[-1][0] #\n",
    "    sz = len(moves)\n",
    "    if sz == 0:\n",
    "        return x;\n",
    "    move = moves[-1]\n",
    "    \n",
    "    color = move[0]\n",
    "    column = coordinates[move[2]]\n",
    "    row = coordinates[move[3]]\n",
    "    if color == player_color: #\n",
    "        player[row,column] = 1\n",
    "    else: #\n",
    "        oppnent[row,column] = 1\n",
    "    x[row,column,8] = 0\n",
    "    \n",
    "    #倒數8步\n",
    "    for i in range(16, 9, -1):\n",
    "        x[:, :, i] = x[:, :, i - 1]\n",
    "#     x[:, :, 10:16] = np.copy(x[:, :, 9:15])\n",
    "    x[:, :, 9] = 0\n",
    "#     x[:, :, 9] = np.zeros((19, 19))\n",
    "    x[row, column, 9] = 1\n",
    "#     for i in range(8):\n",
    "#         if sz - 1 - i - 1 >= 0:\n",
    "#             col_l = coordinates[moves[sz - 1 - i - 1][2]]\n",
    "#             row_l = coordinates[moves[sz - 1 - i - 1][3]]\n",
    "#             x[row_l, col_l, 9 + i] = 0\n",
    "#             if i != 7:\n",
    "#                 x[row_l, col_l, 9 + i + 1] = 1\n",
    "#     x[row, column, 9] = 1\n",
    "    #周圍7*7\n",
    "    x[:, :, 17] = 0\n",
    "#     x[:, :, 17] = np.zeros((19, 19))\n",
    "    x[:, :, 18] = 0\n",
    "#     x[:, :, 18] = np.zeros((19, 19))\n",
    "    last_col = coordinates[move[2]]\n",
    "    last_row = coordinates[move[3]]\n",
    "    rad = 3 #要改範圍大小的話改這個\n",
    "    row1 = max(0, last_row - rad)\n",
    "    row7 = min(18, last_row + rad)\n",
    "    col1 = max(0, last_col - rad)\n",
    "    col7 = min(18, last_col + rad)\n",
    "    for i in range(row1, row7 + 1, 1):\n",
    "        for j in range(col1, col7 + 1, 1):\n",
    "            x[i, j, 17] = player[i, j]\n",
    "            x[i, j, 18] = oppnent[i, j]\n",
    "    \n",
    "    count_air2(move)\n",
    "#     for i in range(8, 9):\n",
    "#         print(\"Case \", end = '')\n",
    "#         print(i)\n",
    "#         for j in range(0, 19):\n",
    "#             for k in range(0, 19):\n",
    "#                 if x[j][k][i] == 1:\n",
    "#                     print(chartonumbers[k], chartonumbers[j])\n",
    "#                 print(int(x[j][k][i]), end = ' ')\n",
    "#             print()\n",
    "#         print()\n",
    "    \n",
    "    #列印所有棋盤\n",
    "#     for i in range(0, 3, 1):\n",
    "#         print(\"  a b c d e f g h i j k l m n o p q r s\")\n",
    "#         for j in range(0, 19, 1):\n",
    "#             print(chars[j], end = \" \")\n",
    "#             for k in range(0, 19, 1):\n",
    "#                 print(int(x[j, k, i]), end = \" \")\n",
    "#             print(\"\")\n",
    "#         print(\"\")\n",
    "    \n",
    "    return x\n",
    "\n",
    "def prepare_label(move):\n",
    "    column = coordinates[move[2]]\n",
    "    row = coordinates[move[3]]\n",
    "    return column*19+row"
   ]
  },
  {
   "cell_type": "code",
   "execution_count": 17,
   "id": "18762ddd",
   "metadata": {},
   "outputs": [],
   "source": [
    "def data_generator(games, batch_size, indexs):\n",
    "    def generator():\n",
    "        x_batch = [] # Initialize data batch\n",
    "        y_batch = [] # Initialize target batch\n",
    "        for game_i in indexs: # Iterate through games\n",
    "            x = np.zeros((19,19,19))\n",
    "            moves_list = games[game_i].split(',')\n",
    "#             print(moves_list)\n",
    "            indexs_ = np.arange(len(moves_list))\n",
    "            np.random.shuffle(indexs_)\n",
    "        \n",
    "            for count in indexs_:\n",
    "                if colors[game_i] == moves_list[count][0]:\n",
    "#                     print(move)\n",
    "                    x_batch.append(prepare_input(moves_list[:count], colors[game_i]))\n",
    "#                     print(count)\n",
    "                    y_batch.append(prepare_label(moves_list[count]))\n",
    "                    if len(x_batch) == batch_size: # Yield when reached batch size\n",
    "                        yield np.array(x_batch), (tf.one_hot(np.array(y_batch), depth=19*19)).numpy()\n",
    "                        x_batch = []\n",
    "                        y_batch = []\n",
    "    return generator\n",
    "#         for game_i, game in enumerate(games): # Iterate through games\n",
    "#             x = np.zeros((19,19,13))\n",
    "#             moves_list = game.split(',')\n",
    "# #             print(moves_list)\n",
    "#             for count, move in enumerate(moves_list):\n",
    "#                 if colors[game_i] == move[0]:\n",
    "# #                     print(move)\n",
    "#                     x_batch.append(prepare_input(moves_list[:count], colors[game_i]))\n",
    "#                     y_batch.append(prepare_label(moves_list[count]))\n",
    "#                     if len(x_batch) == batch_size: # Yield when reached batch size\n",
    "#                         yield np.array(x_batch), (tf.one_hot(np.array(y_batch), depth=19*19)).numpy()\n",
    "#                         x_batch = []\n",
    "#                         y_batch = []\n",
    "#     return generator\n",
    "\n",
    "# batch_size = 64\n",
    "# val_rate = 0.3 # 0.1 means 0.1 for val ,0.9 for training\n",
    "# split_point = int(len(games) * (1 - val_rate))\n",
    "# generator = data_generator(games[:split_point], batch_size)\n",
    "# dataset = tf.data.Dataset.from_generator(generator, \n",
    "#                                          output_types=(tf.float32, tf.float32),\n",
    "#                                          output_shapes=(tf.TensorShape((batch_size,19,19,13)),tf.TensorShape((batch_size,361)))\n",
    "#                                         )\n",
    "# # SHUFFLE_BUFFER_SIZE = 200\n",
    "# # dataset = dataset.shuffle(SHUFFLE_BUFFER_SIZE).batch(batch_size)\n",
    "# dataset = dataset.prefetch(tf.data.AUTOTUNE)"
   ]
  },
  {
   "cell_type": "code",
   "execution_count": 18,
   "id": "758808ae",
   "metadata": {},
   "outputs": [
    {
     "name": "stdout",
     "output_type": "stream",
     "text": [
      "Total Games: 118500, Total Moves: 27135638\n"
     ]
    }
   ],
   "source": [
    "# Check how many samples can be obtained\n",
    "n_games = 0\n",
    "n_moves = 0\n",
    "for game in games:\n",
    "    n_games += 1\n",
    "    moves_list = game.split(',')\n",
    "    for move in moves_list:\n",
    "        n_moves += 1\n",
    "print(f\"Total Games: {n_games}, Total Moves: {n_moves}\")"
   ]
  },
  {
   "cell_type": "code",
   "execution_count": 19,
   "id": "a4266ae8",
   "metadata": {},
   "outputs": [
    {
     "name": "stdout",
     "output_type": "stream",
     "text": [
      "Train Games: 94800, Train Moves: 10852633\n",
      "Val Games: 23700, Val Moves: 2714729\n",
      "train_steps: 169572.0\n",
      "val_steps: 42417.0\n"
     ]
    }
   ],
   "source": [
    "batch_size = 64\n",
    "val_start = 0.8\n",
    "val_stop = 1.0\n",
    "\n",
    "indexs = np.arange(int(n_games * val_stop))\n",
    "np.random.shuffle(indexs)\n",
    "\n",
    "t_games = 0\n",
    "t_moves = 0\n",
    "for i in indexs[:int(len(indexs) * val_start)]:\n",
    "    t_games += 1\n",
    "    moves_list = games[i].split(',')\n",
    "    for move in moves_list:\n",
    "        if colors[i] == move[0]:\n",
    "            t_moves += 1\n",
    "\n",
    "print(f\"Train Games: {t_games}, Train Moves: {t_moves}\")\n",
    "v_games = 0\n",
    "v_moves = 0\n",
    "\n",
    "for i in indexs[int(len(indexs) * val_start):int(len(indexs) * val_stop)]:\n",
    "    v_games += 1\n",
    "    moves_list = games[i].split(',')\n",
    "    for move in moves_list:\n",
    "        if colors[i] == move[0]:\n",
    "            v_moves += 1\n",
    "print(f\"Val Games: {v_games}, Val Moves: {v_moves}\")\n",
    "\n",
    "train_steps = np.ceil((t_moves / batch_size) - 1)\n",
    "val_steps = np.ceil((v_moves / batch_size) - 1)\n",
    "print(f\"train_steps: {train_steps}\")\n",
    "print(f\"val_steps: {val_steps}\")\n",
    "data_gen = data_generator(games, batch_size, indexs[:int(len(indexs) * val_start)]) # 90% of the complete dataset\n",
    "dataset = tf.data.Dataset.from_generator(data_gen, \n",
    "                                         output_types=(tf.dtypes.float32, tf.dtypes.float32),\n",
    "                                         output_shapes=(tf.TensorShape((batch_size,19,19,19)),tf.TensorShape((batch_size,361))))\n",
    "# dataset = dataset.batch(batch_size, drop_remainder=True)\n",
    "dataset = dataset.prefetch(tf.data.AUTOTUNE)\n",
    "\n",
    "data_gen_valid = data_generator(games, batch_size\n",
    "                                , indexs[int(len(indexs) * val_start):int(len(indexs) * val_stop)])\n",
    "dataset_valid = tf.data.Dataset.from_generator(data_gen_valid, \n",
    "                                         output_types=(tf.dtypes.float32, tf.dtypes.float32),\n",
    "                                         output_shapes=(tf.TensorShape((batch_size,19,19,19)),tf.TensorShape((batch_size,361))))\n",
    "# dataset_valid = dataset_valid.batch(batch_size, drop_remainder=True)\n",
    "dataset_valid = dataset_valid.prefetch(tf.data.AUTOTUNE)"
   ]
  },
  {
   "cell_type": "code",
   "execution_count": 20,
   "id": "da414767",
   "metadata": {},
   "outputs": [],
   "source": [
    "# batch_size = 64\n",
    "# train_start = 0.0\n",
    "# val_start = 0.5\n",
    "# val_stop = 1.0\n",
    "\n",
    "# dataset_size = len(games)\n",
    "# t_games = 0\n",
    "# t_moves = 0\n",
    "# tmp = int(dataset_size * train_start)\n",
    "# for game in games[int(dataset_size * train_start):int(dataset_size * val_start)]:\n",
    "#     t_games += 1\n",
    "#     moves_list = game.split(',')\n",
    "#     for move in moves_list:\n",
    "#         if colors[tmp] == move[0]:\n",
    "#             t_moves += 1\n",
    "#     tmp += 1\n",
    "# print(f\"Train Games: {t_games}, Train Moves: {t_moves}\")\n",
    "# v_games = 0\n",
    "# v_moves = 0\n",
    "# tmp = int(dataset_size * val_start)\n",
    "# for game in games[int(dataset_size * val_start):int(dataset_size * val_stop)]:\n",
    "#     v_games += 1\n",
    "#     moves_list = game.split(',')\n",
    "#     for move in moves_list:\n",
    "#         if colors[tmp] == move[0]:\n",
    "#             v_moves += 1\n",
    "#     tmp += 1\n",
    "# print(f\"Val Games: {v_games}, Val Moves: {v_moves}\")\n",
    "\n",
    "# train_steps = int(t_moves /batch_size)\n",
    "# val_steps = int(v_moves /batch_size)\n",
    "\n",
    "# data_gen = data_generator(games[int(dataset_size * train_start):int(dataset_size * val_start)], batch_size) # 90% of the complete dataset\n",
    "# dataset = tf.data.Dataset.from_generator(data_gen, \n",
    "#                                          output_types=(tf.dtypes.float32, tf.dtypes.float32),\n",
    "#                                          output_shapes=(tf.TensorShape((batch_size,19,19,13)),tf.TensorShape((batch_size,361))))\n",
    "# # dataset = dataset.batch(batch_size, drop_remainder=True)\n",
    "# dataset = dataset.prefetch(tf.data.AUTOTUNE)\n",
    "\n",
    "# data_gen_valid = data_generator(games[int(dataset_size * val_start):int(dataset_size * (val_stop))], \n",
    "#                                 batch_size,\n",
    "#                                 shuffle = False)\n",
    "# dataset_valid = tf.data.Dataset.from_generator(data_gen_valid, \n",
    "#                                          output_types=(tf.dtypes.float32, tf.dtypes.float32),\n",
    "#                                          output_shapes=(tf.TensorShape((batch_size,19,19,13)),tf.TensorShape((batch_size,361))))\n",
    "# # dataset_valid = dataset_valid.batch(batch_size, drop_remainder=True)\n",
    "# dataset_valid = dataset_valid.prefetch(tf.data.AUTOTUNE)"
   ]
  },
  {
   "cell_type": "markdown",
   "id": "46403360",
   "metadata": {},
   "source": [
    "The code below is run for baseline model only by using only the first 500 games from the dataset. You might need to create a data generator to use complete dataset. Otherwise your RAM might not enough to store all (If you run the code on free version of Google Colab, it will crash above 500 game samples)."
   ]
  },
  {
   "cell_type": "markdown",
   "id": "7b9c5de9",
   "metadata": {},
   "source": [
    "# Training\n",
    "\n",
    "### Simple DCNN Model:"
   ]
  },
  {
   "cell_type": "code",
   "execution_count": 25,
   "id": "44ce33db",
   "metadata": {
    "scrolled": true
   },
   "outputs": [
    {
     "name": "stdout",
     "output_type": "stream",
     "text": [
      "Model: \"model_1\"\n",
      "__________________________________________________________________________________________________\n",
      " Layer (type)                   Output Shape         Param #     Connected to                     \n",
      "==================================================================================================\n",
      " input_2 (InputLayer)           [(None, 19, 19, 19)  0           []                               \n",
      "                                ]                                                                 \n",
      "                                                                                                  \n",
      " conv5x5 (Conv2D)               (None, 19, 19, 64)   30464       ['input_2[0][0]']                \n",
      "                                                                                                  \n",
      " conv1x1 (Conv2D)               (None, 19, 19, 64)   1280        ['input_2[0][0]']                \n",
      "                                                                                                  \n",
      " add_18 (Add)                   (None, 19, 19, 64)   0           ['conv5x5[0][0]',                \n",
      "                                                                  'conv1x1[0][0]']                \n",
      "                                                                                                  \n",
      " re_lu_35 (ReLU)                (None, 19, 19, 64)   0           ['add_18[0][0]']                 \n",
      "                                                                                                  \n",
      " conv2d_34 (Conv2D)             (None, 19, 19, 64)   36928       ['re_lu_35[0][0]']               \n",
      "                                                                                                  \n",
      " re_lu_36 (ReLU)                (None, 19, 19, 64)   0           ['conv2d_34[0][0]']              \n",
      "                                                                                                  \n",
      " conv2d_35 (Conv2D)             (None, 19, 19, 64)   36928       ['re_lu_36[0][0]']               \n",
      "                                                                                                  \n",
      " add_19 (Add)                   (None, 19, 19, 64)   0           ['re_lu_35[0][0]',               \n",
      "                                                                  'conv2d_35[0][0]']              \n",
      "                                                                                                  \n",
      " re_lu_37 (ReLU)                (None, 19, 19, 64)   0           ['add_19[0][0]']                 \n",
      "                                                                                                  \n",
      " conv2d_36 (Conv2D)             (None, 19, 19, 64)   36928       ['re_lu_37[0][0]']               \n",
      "                                                                                                  \n",
      " re_lu_38 (ReLU)                (None, 19, 19, 64)   0           ['conv2d_36[0][0]']              \n",
      "                                                                                                  \n",
      " conv2d_37 (Conv2D)             (None, 19, 19, 64)   36928       ['re_lu_38[0][0]']               \n",
      "                                                                                                  \n",
      " add_20 (Add)                   (None, 19, 19, 64)   0           ['re_lu_37[0][0]',               \n",
      "                                                                  'conv2d_37[0][0]']              \n",
      "                                                                                                  \n",
      " re_lu_39 (ReLU)                (None, 19, 19, 64)   0           ['add_20[0][0]']                 \n",
      "                                                                                                  \n",
      " conv2d_38 (Conv2D)             (None, 19, 19, 64)   36928       ['re_lu_39[0][0]']               \n",
      "                                                                                                  \n",
      " re_lu_40 (ReLU)                (None, 19, 19, 64)   0           ['conv2d_38[0][0]']              \n",
      "                                                                                                  \n",
      " conv2d_39 (Conv2D)             (None, 19, 19, 64)   36928       ['re_lu_40[0][0]']               \n",
      "                                                                                                  \n",
      " add_21 (Add)                   (None, 19, 19, 64)   0           ['re_lu_39[0][0]',               \n",
      "                                                                  'conv2d_39[0][0]']              \n",
      "                                                                                                  \n",
      " re_lu_41 (ReLU)                (None, 19, 19, 64)   0           ['add_21[0][0]']                 \n",
      "                                                                                                  \n",
      " conv2d_40 (Conv2D)             (None, 19, 19, 64)   36928       ['re_lu_41[0][0]']               \n",
      "                                                                                                  \n",
      " re_lu_42 (ReLU)                (None, 19, 19, 64)   0           ['conv2d_40[0][0]']              \n",
      "                                                                                                  \n",
      " conv2d_41 (Conv2D)             (None, 19, 19, 64)   36928       ['re_lu_42[0][0]']               \n",
      "                                                                                                  \n",
      " add_22 (Add)                   (None, 19, 19, 64)   0           ['re_lu_41[0][0]',               \n",
      "                                                                  'conv2d_41[0][0]']              \n",
      "                                                                                                  \n",
      " re_lu_43 (ReLU)                (None, 19, 19, 64)   0           ['add_22[0][0]']                 \n",
      "                                                                                                  \n",
      " conv2d_42 (Conv2D)             (None, 19, 19, 64)   36928       ['re_lu_43[0][0]']               \n",
      "                                                                                                  \n",
      " re_lu_44 (ReLU)                (None, 19, 19, 64)   0           ['conv2d_42[0][0]']              \n",
      "                                                                                                  \n",
      " conv2d_43 (Conv2D)             (None, 19, 19, 64)   36928       ['re_lu_44[0][0]']               \n",
      "                                                                                                  \n",
      " add_23 (Add)                   (None, 19, 19, 64)   0           ['re_lu_43[0][0]',               \n",
      "                                                                  'conv2d_43[0][0]']              \n",
      "                                                                                                  \n",
      " re_lu_45 (ReLU)                (None, 19, 19, 64)   0           ['add_23[0][0]']                 \n",
      "                                                                                                  \n",
      " conv2d_44 (Conv2D)             (None, 19, 19, 64)   36928       ['re_lu_45[0][0]']               \n",
      "                                                                                                  \n",
      " re_lu_46 (ReLU)                (None, 19, 19, 64)   0           ['conv2d_44[0][0]']              \n",
      "                                                                                                  \n",
      " conv2d_45 (Conv2D)             (None, 19, 19, 64)   36928       ['re_lu_46[0][0]']               \n",
      "                                                                                                  \n",
      " add_24 (Add)                   (None, 19, 19, 64)   0           ['re_lu_45[0][0]',               \n",
      "                                                                  'conv2d_45[0][0]']              \n",
      "                                                                                                  \n",
      " re_lu_47 (ReLU)                (None, 19, 19, 64)   0           ['add_24[0][0]']                 \n",
      "                                                                                                  \n",
      " conv2d_46 (Conv2D)             (None, 19, 19, 64)   36928       ['re_lu_47[0][0]']               \n",
      "                                                                                                  \n"
     ]
    },
    {
     "name": "stdout",
     "output_type": "stream",
     "text": [
      " re_lu_48 (ReLU)                (None, 19, 19, 64)   0           ['conv2d_46[0][0]']              \n",
      "                                                                                                  \n",
      " conv2d_47 (Conv2D)             (None, 19, 19, 64)   36928       ['re_lu_48[0][0]']               \n",
      "                                                                                                  \n",
      " add_25 (Add)                   (None, 19, 19, 64)   0           ['re_lu_47[0][0]',               \n",
      "                                                                  'conv2d_47[0][0]']              \n",
      "                                                                                                  \n",
      " re_lu_49 (ReLU)                (None, 19, 19, 64)   0           ['add_25[0][0]']                 \n",
      "                                                                                                  \n",
      " conv2d_48 (Conv2D)             (None, 19, 19, 64)   36928       ['re_lu_49[0][0]']               \n",
      "                                                                                                  \n",
      " re_lu_50 (ReLU)                (None, 19, 19, 64)   0           ['conv2d_48[0][0]']              \n",
      "                                                                                                  \n",
      " conv2d_49 (Conv2D)             (None, 19, 19, 64)   36928       ['re_lu_50[0][0]']               \n",
      "                                                                                                  \n",
      " add_26 (Add)                   (None, 19, 19, 64)   0           ['re_lu_49[0][0]',               \n",
      "                                                                  'conv2d_49[0][0]']              \n",
      "                                                                                                  \n",
      " re_lu_51 (ReLU)                (None, 19, 19, 64)   0           ['add_26[0][0]']                 \n",
      "                                                                                                  \n",
      " conv2d_50 (Conv2D)             (None, 19, 19, 64)   36928       ['re_lu_51[0][0]']               \n",
      "                                                                                                  \n",
      " re_lu_52 (ReLU)                (None, 19, 19, 64)   0           ['conv2d_50[0][0]']              \n",
      "                                                                                                  \n",
      " conv2d_51 (Conv2D)             (None, 19, 19, 64)   36928       ['re_lu_52[0][0]']               \n",
      "                                                                                                  \n",
      " add_27 (Add)                   (None, 19, 19, 64)   0           ['re_lu_51[0][0]',               \n",
      "                                                                  'conv2d_51[0][0]']              \n",
      "                                                                                                  \n",
      " re_lu_53 (ReLU)                (None, 19, 19, 64)   0           ['add_27[0][0]']                 \n",
      "                                                                                                  \n",
      " conv2d_52 (Conv2D)             (None, 19, 19, 64)   36928       ['re_lu_53[0][0]']               \n",
      "                                                                                                  \n",
      " re_lu_54 (ReLU)                (None, 19, 19, 64)   0           ['conv2d_52[0][0]']              \n",
      "                                                                                                  \n",
      " conv2d_53 (Conv2D)             (None, 19, 19, 64)   36928       ['re_lu_54[0][0]']               \n",
      "                                                                                                  \n",
      " add_28 (Add)                   (None, 19, 19, 64)   0           ['re_lu_53[0][0]',               \n",
      "                                                                  'conv2d_53[0][0]']              \n",
      "                                                                                                  \n",
      " re_lu_55 (ReLU)                (None, 19, 19, 64)   0           ['add_28[0][0]']                 \n",
      "                                                                                                  \n",
      " conv2d_54 (Conv2D)             (None, 19, 19, 64)   36928       ['re_lu_55[0][0]']               \n",
      "                                                                                                  \n",
      " re_lu_56 (ReLU)                (None, 19, 19, 64)   0           ['conv2d_54[0][0]']              \n",
      "                                                                                                  \n",
      " conv2d_55 (Conv2D)             (None, 19, 19, 64)   36928       ['re_lu_56[0][0]']               \n",
      "                                                                                                  \n",
      " add_29 (Add)                   (None, 19, 19, 64)   0           ['re_lu_55[0][0]',               \n",
      "                                                                  'conv2d_55[0][0]']              \n",
      "                                                                                                  \n",
      " re_lu_57 (ReLU)                (None, 19, 19, 64)   0           ['add_29[0][0]']                 \n",
      "                                                                                                  \n",
      " conv2d_56 (Conv2D)             (None, 19, 19, 64)   36928       ['re_lu_57[0][0]']               \n",
      "                                                                                                  \n",
      " re_lu_58 (ReLU)                (None, 19, 19, 64)   0           ['conv2d_56[0][0]']              \n",
      "                                                                                                  \n",
      " conv2d_57 (Conv2D)             (None, 19, 19, 64)   36928       ['re_lu_58[0][0]']               \n",
      "                                                                                                  \n",
      " add_30 (Add)                   (None, 19, 19, 64)   0           ['re_lu_57[0][0]',               \n",
      "                                                                  'conv2d_57[0][0]']              \n",
      "                                                                                                  \n",
      " re_lu_59 (ReLU)                (None, 19, 19, 64)   0           ['add_30[0][0]']                 \n",
      "                                                                                                  \n",
      " conv2d_58 (Conv2D)             (None, 19, 19, 64)   36928       ['re_lu_59[0][0]']               \n",
      "                                                                                                  \n",
      " re_lu_60 (ReLU)                (None, 19, 19, 64)   0           ['conv2d_58[0][0]']              \n",
      "                                                                                                  \n",
      " conv2d_59 (Conv2D)             (None, 19, 19, 64)   36928       ['re_lu_60[0][0]']               \n",
      "                                                                                                  \n",
      " add_31 (Add)                   (None, 19, 19, 64)   0           ['re_lu_59[0][0]',               \n",
      "                                                                  'conv2d_59[0][0]']              \n",
      "                                                                                                  \n",
      " re_lu_61 (ReLU)                (None, 19, 19, 64)   0           ['add_31[0][0]']                 \n",
      "                                                                                                  \n",
      " conv2d_60 (Conv2D)             (None, 19, 19, 64)   36928       ['re_lu_61[0][0]']               \n",
      "                                                                                                  \n",
      " re_lu_62 (ReLU)                (None, 19, 19, 64)   0           ['conv2d_60[0][0]']              \n",
      "                                                                                                  \n",
      " conv2d_61 (Conv2D)             (None, 19, 19, 64)   36928       ['re_lu_62[0][0]']               \n",
      "                                                                                                  \n",
      " add_32 (Add)                   (None, 19, 19, 64)   0           ['re_lu_61[0][0]',               \n",
      "                                                                  'conv2d_61[0][0]']              \n"
     ]
    },
    {
     "name": "stdout",
     "output_type": "stream",
     "text": [
      "                                                                                                  \n",
      " re_lu_63 (ReLU)                (None, 19, 19, 64)   0           ['add_32[0][0]']                 \n",
      "                                                                                                  \n",
      " conv2d_62 (Conv2D)             (None, 19, 19, 64)   36928       ['re_lu_63[0][0]']               \n",
      "                                                                                                  \n",
      " re_lu_64 (ReLU)                (None, 19, 19, 64)   0           ['conv2d_62[0][0]']              \n",
      "                                                                                                  \n",
      " conv2d_63 (Conv2D)             (None, 19, 19, 64)   36928       ['re_lu_64[0][0]']               \n",
      "                                                                                                  \n",
      " add_33 (Add)                   (None, 19, 19, 64)   0           ['re_lu_63[0][0]',               \n",
      "                                                                  'conv2d_63[0][0]']              \n",
      "                                                                                                  \n",
      " re_lu_65 (ReLU)                (None, 19, 19, 64)   0           ['add_33[0][0]']                 \n",
      "                                                                                                  \n",
      " conv2d_64 (Conv2D)             (None, 19, 19, 64)   36928       ['re_lu_65[0][0]']               \n",
      "                                                                                                  \n",
      " re_lu_66 (ReLU)                (None, 19, 19, 64)   0           ['conv2d_64[0][0]']              \n",
      "                                                                                                  \n",
      " conv2d_65 (Conv2D)             (None, 19, 19, 64)   36928       ['re_lu_66[0][0]']               \n",
      "                                                                                                  \n",
      " add_34 (Add)                   (None, 19, 19, 64)   0           ['re_lu_65[0][0]',               \n",
      "                                                                  'conv2d_65[0][0]']              \n",
      "                                                                                                  \n",
      " re_lu_67 (ReLU)                (None, 19, 19, 64)   0           ['add_34[0][0]']                 \n",
      "                                                                                                  \n",
      " conv2d_66 (Conv2D)             (None, 19, 19, 64)   36928       ['re_lu_67[0][0]']               \n",
      "                                                                                                  \n",
      " re_lu_68 (ReLU)                (None, 19, 19, 64)   0           ['conv2d_66[0][0]']              \n",
      "                                                                                                  \n",
      " conv2d_67 (Conv2D)             (None, 19, 19, 64)   36928       ['re_lu_68[0][0]']               \n",
      "                                                                                                  \n",
      " add_35 (Add)                   (None, 19, 19, 64)   0           ['re_lu_67[0][0]',               \n",
      "                                                                  'conv2d_67[0][0]']              \n",
      "                                                                                                  \n",
      " re_lu_69 (ReLU)                (None, 19, 19, 64)   0           ['add_35[0][0]']                 \n",
      "                                                                                                  \n",
      " global_average_pooling2d_1 (Gl  (None, 64)          0           ['re_lu_69[0][0]']               \n",
      " obalAveragePooling2D)                                                                            \n",
      "                                                                                                  \n",
      " dense_1 (Dense)                (None, 361)          23465       ['global_average_pooling2d_1[0][0\n",
      "                                                                 ]']                              \n",
      "                                                                                                  \n",
      "==================================================================================================\n",
      "Total params: 1,310,761\n",
      "Trainable params: 1,310,761\n",
      "Non-trainable params: 0\n",
      "__________________________________________________________________________________________________\n"
     ]
    }
   ],
   "source": [
    "def residual_block(x, filters, kernel_size):\n",
    "    y = Conv2D(kernel_size=kernel_size,\n",
    "               filters=filters,\n",
    "               padding='same')(x)\n",
    "    y = ReLU()(y)\n",
    "    y = Conv2D(kernel_size=kernel_size,\n",
    "               filters=filters,\n",
    "               padding='same')(y)\n",
    "    output = Add()([x,y])\n",
    "    output = ReLU()(output)\n",
    "    return output\n",
    "\n",
    "def residual_block_s(x, filters, kernel_size):\n",
    "    y = Conv2D(kernel_size=kernel_size,\n",
    "               filters=filters,\n",
    "               padding='same')(x)\n",
    "    y = ReLU()(y)\n",
    "    y = Conv2D(kernel_size=kernel_size,\n",
    "               filters=filters,\n",
    "               padding='same')(y)\n",
    "    x = Conv2D(kernel_size = 1,\n",
    "              filters=filters)(x)\n",
    "    output = Add()([x,y])\n",
    "    output = ReLU()(output)\n",
    "    return output\n",
    "\n",
    "def go_res():\n",
    "    inputs = Input(shape=(19, 19, 19))\n",
    "    conv5x5 = Conv2D(kernel_size=5,\n",
    "                     filters=64,\n",
    "                     padding=\"same\",\n",
    "                     name='conv5x5')(inputs)\n",
    "    conv1x1 = Conv2D(kernel_size=1,\n",
    "                     filters=64,\n",
    "                     padding=\"same\",\n",
    "                     name='conv1x1')(inputs)\n",
    "    outputs = Add()([conv5x5, conv1x1])\n",
    "    outputs = ReLU()(outputs)\n",
    "    outputs = residual_block(x=outputs,\n",
    "                             filters=64,\n",
    "                             kernel_size=3)\n",
    "    outputs = residual_block(x=outputs,\n",
    "                             filters=64,\n",
    "                             kernel_size=3)\n",
    "    outputs = residual_block(x=outputs,\n",
    "                             filters=64,\n",
    "                             kernel_size=3)\n",
    "    outputs = residual_block(x=outputs,#\n",
    "                             filters=64,\n",
    "                             kernel_size=3)\n",
    "    outputs = residual_block(x=outputs,\n",
    "                             filters=64,\n",
    "                             kernel_size=3)\n",
    "    outputs = residual_block(x=outputs,\n",
    "                             filters=64,\n",
    "                             kernel_size=3)\n",
    "    outputs = residual_block(x=outputs,\n",
    "                             filters=64,\n",
    "                             kernel_size=3)\n",
    "    outputs = residual_block(x=outputs,\n",
    "                             filters=64,\n",
    "                             kernel_size=3)\n",
    "    outputs = residual_block(x=outputs,\n",
    "                             filters=64,\n",
    "                             kernel_size=3)\n",
    "    outputs = residual_block(x=outputs,\n",
    "                             filters=64,\n",
    "                             kernel_size=3)\n",
    "    outputs = residual_block(x=outputs,\n",
    "                             filters=64,\n",
    "                             kernel_size=3)\n",
    "    outputs = residual_block(x=outputs,\n",
    "                             filters=64,\n",
    "                             kernel_size=3)\n",
    "    outputs = residual_block(x=outputs,\n",
    "                             filters=64,\n",
    "                             kernel_size=3)\n",
    "    outputs = residual_block(x=outputs,#\n",
    "                             filters=64,\n",
    "                             kernel_size=3)\n",
    "    outputs = residual_block(x=outputs,\n",
    "                             filters=64,\n",
    "                             kernel_size=3)\n",
    "    outputs = residual_block(x=outputs,\n",
    "                             filters=64,\n",
    "                             kernel_size=3)\n",
    "    outputs = residual_block(x=outputs,\n",
    "                             filters=64,\n",
    "                             kernel_size=3)\n",
    "#     outputs = Conv2D(kernel_size=3,\n",
    "#                      filters=1,\n",
    "#                      padding=\"same\")(outputs)\n",
    "#     outputs = ReLU()(outputs)\n",
    "#     outputs = Flatten()(outputs)\n",
    "#     outputs = Softmax()(outputs)\n",
    "    outputs = GlobalAveragePooling2D()(outputs)\n",
    "    outputs = Dense(361, activation='softmax')(outputs)\n",
    "    model = Model(inputs, outputs)\n",
    "    \n",
    "    opt = Adam(learning_rate=0.0001)\n",
    "    model.compile(optimizer=opt,\n",
    "                  loss='categorical_crossentropy',\n",
    "                  metrics=['accuracy'])\n",
    "    return model\n",
    "\n",
    "\n",
    "model = go_res()\n",
    "model.summary()"
   ]
  },
  {
   "cell_type": "code",
   "execution_count": 26,
   "id": "c5734501",
   "metadata": {},
   "outputs": [],
   "source": [
    "# callback1 = tf.keras.callbacks.EarlyStopping(monitor='val_loss', min_delta=0, \n",
    "#                                 patience=1, verbose=0, mode='min'\n",
    "#                                  , restore_best_weights=True)\n",
    "callback1 = tf.keras.callbacks.EarlyStopping(monitor='val_accuracy', min_delta=0, \n",
    "                                patience=2, verbose=0, mode='max'\n",
    "                                 , restore_best_weights=True)\n",
    "callback2 = keras.callbacks.ModelCheckpoint('./models/model_kyu__{epoch:02d}_{val_accuracy:.3f}.h5', \n",
    "                                            monitor='val_accuracy', \n",
    "                                            verbose=0, save_best_only=False, save_weights_only=False, \n",
    "                                            mode='max', save_freq=\"epoch\")"
   ]
  },
  {
   "cell_type": "code",
   "execution_count": 27,
   "id": "39553a34",
   "metadata": {},
   "outputs": [],
   "source": [
    "# model = load_model('./models/model_kyu_resnet_5x5p1x1_18resblo.h5')"
   ]
  },
  {
   "cell_type": "code",
   "execution_count": 28,
   "id": "4a4d7f1c",
   "metadata": {
    "scrolled": true
   },
   "outputs": [
    {
     "name": "stdout",
     "output_type": "stream",
     "text": [
      "Epoch 1/500\n",
      "     16/Unknown - 31s 1s/step - loss: 5.9045 - accuracy: 9.7656e-04"
     ]
    },
    {
     "ename": "KeyboardInterrupt",
     "evalue": "",
     "output_type": "error",
     "traceback": [
      "\u001b[1;31m---------------------------------------------------------------------------\u001b[0m",
      "\u001b[1;31mKeyboardInterrupt\u001b[0m                         Traceback (most recent call last)",
      "Cell \u001b[1;32mIn[28], line 1\u001b[0m\n\u001b[1;32m----> 1\u001b[0m history \u001b[38;5;241m=\u001b[39m \u001b[43mmodel\u001b[49m\u001b[38;5;241;43m.\u001b[39;49m\u001b[43mfit\u001b[49m\u001b[43m(\u001b[49m\n\u001b[0;32m      2\u001b[0m \u001b[43m    \u001b[49m\u001b[43mdataset\u001b[49m\u001b[43m,\u001b[49m\n\u001b[0;32m      3\u001b[0m \u001b[43m    \u001b[49m\u001b[43mepochs\u001b[49m\u001b[43m \u001b[49m\u001b[38;5;241;43m=\u001b[39;49m\u001b[43m \u001b[49m\u001b[38;5;241;43m500\u001b[39;49m\u001b[43m,\u001b[49m\n\u001b[0;32m      4\u001b[0m \u001b[38;5;66;43;03m#     steps_per_epoch = train_steps,\u001b[39;49;00m\n\u001b[0;32m      5\u001b[0m \u001b[43m    \u001b[49m\u001b[43mvalidation_data\u001b[49m\u001b[43m \u001b[49m\u001b[38;5;241;43m=\u001b[39;49m\u001b[43m \u001b[49m\u001b[43mdataset_valid\u001b[49m\u001b[43m,\u001b[49m\n\u001b[0;32m      6\u001b[0m \u001b[38;5;66;43;03m#     validation_steps = val_steps,\u001b[39;49;00m\n\u001b[0;32m      7\u001b[0m \u001b[43m    \u001b[49m\u001b[43mcallbacks\u001b[49m\u001b[43m \u001b[49m\u001b[38;5;241;43m=\u001b[39;49m\u001b[43m \u001b[49m\u001b[43m[\u001b[49m\u001b[43mcallback1\u001b[49m\u001b[43m,\u001b[49m\u001b[43m \u001b[49m\u001b[43mcallback2\u001b[49m\u001b[43m]\u001b[49m\n\u001b[0;32m      8\u001b[0m \u001b[43m)\u001b[49m\n",
      "File \u001b[1;32m~\\AppData\\Local\\anaconda3\\envs\\tensorflow2_9_1\\lib\\site-packages\\keras\\utils\\traceback_utils.py:64\u001b[0m, in \u001b[0;36mfilter_traceback.<locals>.error_handler\u001b[1;34m(*args, **kwargs)\u001b[0m\n\u001b[0;32m     62\u001b[0m filtered_tb \u001b[38;5;241m=\u001b[39m \u001b[38;5;28;01mNone\u001b[39;00m\n\u001b[0;32m     63\u001b[0m \u001b[38;5;28;01mtry\u001b[39;00m:\n\u001b[1;32m---> 64\u001b[0m   \u001b[38;5;28;01mreturn\u001b[39;00m \u001b[43mfn\u001b[49m\u001b[43m(\u001b[49m\u001b[38;5;241;43m*\u001b[39;49m\u001b[43margs\u001b[49m\u001b[43m,\u001b[49m\u001b[43m \u001b[49m\u001b[38;5;241;43m*\u001b[39;49m\u001b[38;5;241;43m*\u001b[39;49m\u001b[43mkwargs\u001b[49m\u001b[43m)\u001b[49m\n\u001b[0;32m     65\u001b[0m \u001b[38;5;28;01mexcept\u001b[39;00m \u001b[38;5;167;01mException\u001b[39;00m \u001b[38;5;28;01mas\u001b[39;00m e:  \u001b[38;5;66;03m# pylint: disable=broad-except\u001b[39;00m\n\u001b[0;32m     66\u001b[0m   filtered_tb \u001b[38;5;241m=\u001b[39m _process_traceback_frames(e\u001b[38;5;241m.\u001b[39m__traceback__)\n",
      "File \u001b[1;32m~\\AppData\\Local\\anaconda3\\envs\\tensorflow2_9_1\\lib\\site-packages\\keras\\engine\\training.py:1409\u001b[0m, in \u001b[0;36mModel.fit\u001b[1;34m(self, x, y, batch_size, epochs, verbose, callbacks, validation_split, validation_data, shuffle, class_weight, sample_weight, initial_epoch, steps_per_epoch, validation_steps, validation_batch_size, validation_freq, max_queue_size, workers, use_multiprocessing)\u001b[0m\n\u001b[0;32m   1402\u001b[0m \u001b[38;5;28;01mwith\u001b[39;00m tf\u001b[38;5;241m.\u001b[39mprofiler\u001b[38;5;241m.\u001b[39mexperimental\u001b[38;5;241m.\u001b[39mTrace(\n\u001b[0;32m   1403\u001b[0m     \u001b[38;5;124m'\u001b[39m\u001b[38;5;124mtrain\u001b[39m\u001b[38;5;124m'\u001b[39m,\n\u001b[0;32m   1404\u001b[0m     epoch_num\u001b[38;5;241m=\u001b[39mepoch,\n\u001b[0;32m   1405\u001b[0m     step_num\u001b[38;5;241m=\u001b[39mstep,\n\u001b[0;32m   1406\u001b[0m     batch_size\u001b[38;5;241m=\u001b[39mbatch_size,\n\u001b[0;32m   1407\u001b[0m     _r\u001b[38;5;241m=\u001b[39m\u001b[38;5;241m1\u001b[39m):\n\u001b[0;32m   1408\u001b[0m   callbacks\u001b[38;5;241m.\u001b[39mon_train_batch_begin(step)\n\u001b[1;32m-> 1409\u001b[0m   tmp_logs \u001b[38;5;241m=\u001b[39m \u001b[38;5;28;43mself\u001b[39;49m\u001b[38;5;241;43m.\u001b[39;49m\u001b[43mtrain_function\u001b[49m\u001b[43m(\u001b[49m\u001b[43miterator\u001b[49m\u001b[43m)\u001b[49m\n\u001b[0;32m   1410\u001b[0m   \u001b[38;5;28;01mif\u001b[39;00m data_handler\u001b[38;5;241m.\u001b[39mshould_sync:\n\u001b[0;32m   1411\u001b[0m     context\u001b[38;5;241m.\u001b[39masync_wait()\n",
      "File \u001b[1;32m~\\AppData\\Local\\anaconda3\\envs\\tensorflow2_9_1\\lib\\site-packages\\tensorflow\\python\\util\\traceback_utils.py:150\u001b[0m, in \u001b[0;36mfilter_traceback.<locals>.error_handler\u001b[1;34m(*args, **kwargs)\u001b[0m\n\u001b[0;32m    148\u001b[0m filtered_tb \u001b[38;5;241m=\u001b[39m \u001b[38;5;28;01mNone\u001b[39;00m\n\u001b[0;32m    149\u001b[0m \u001b[38;5;28;01mtry\u001b[39;00m:\n\u001b[1;32m--> 150\u001b[0m   \u001b[38;5;28;01mreturn\u001b[39;00m \u001b[43mfn\u001b[49m\u001b[43m(\u001b[49m\u001b[38;5;241;43m*\u001b[39;49m\u001b[43margs\u001b[49m\u001b[43m,\u001b[49m\u001b[43m \u001b[49m\u001b[38;5;241;43m*\u001b[39;49m\u001b[38;5;241;43m*\u001b[39;49m\u001b[43mkwargs\u001b[49m\u001b[43m)\u001b[49m\n\u001b[0;32m    151\u001b[0m \u001b[38;5;28;01mexcept\u001b[39;00m \u001b[38;5;167;01mException\u001b[39;00m \u001b[38;5;28;01mas\u001b[39;00m e:\n\u001b[0;32m    152\u001b[0m   filtered_tb \u001b[38;5;241m=\u001b[39m _process_traceback_frames(e\u001b[38;5;241m.\u001b[39m__traceback__)\n",
      "File \u001b[1;32m~\\AppData\\Local\\anaconda3\\envs\\tensorflow2_9_1\\lib\\site-packages\\tensorflow\\python\\eager\\def_function.py:915\u001b[0m, in \u001b[0;36mFunction.__call__\u001b[1;34m(self, *args, **kwds)\u001b[0m\n\u001b[0;32m    912\u001b[0m compiler \u001b[38;5;241m=\u001b[39m \u001b[38;5;124m\"\u001b[39m\u001b[38;5;124mxla\u001b[39m\u001b[38;5;124m\"\u001b[39m \u001b[38;5;28;01mif\u001b[39;00m \u001b[38;5;28mself\u001b[39m\u001b[38;5;241m.\u001b[39m_jit_compile \u001b[38;5;28;01melse\u001b[39;00m \u001b[38;5;124m\"\u001b[39m\u001b[38;5;124mnonXla\u001b[39m\u001b[38;5;124m\"\u001b[39m\n\u001b[0;32m    914\u001b[0m \u001b[38;5;28;01mwith\u001b[39;00m OptionalXlaContext(\u001b[38;5;28mself\u001b[39m\u001b[38;5;241m.\u001b[39m_jit_compile):\n\u001b[1;32m--> 915\u001b[0m   result \u001b[38;5;241m=\u001b[39m \u001b[38;5;28;43mself\u001b[39;49m\u001b[38;5;241;43m.\u001b[39;49m\u001b[43m_call\u001b[49m\u001b[43m(\u001b[49m\u001b[38;5;241;43m*\u001b[39;49m\u001b[43margs\u001b[49m\u001b[43m,\u001b[49m\u001b[43m \u001b[49m\u001b[38;5;241;43m*\u001b[39;49m\u001b[38;5;241;43m*\u001b[39;49m\u001b[43mkwds\u001b[49m\u001b[43m)\u001b[49m\n\u001b[0;32m    917\u001b[0m new_tracing_count \u001b[38;5;241m=\u001b[39m \u001b[38;5;28mself\u001b[39m\u001b[38;5;241m.\u001b[39mexperimental_get_tracing_count()\n\u001b[0;32m    918\u001b[0m without_tracing \u001b[38;5;241m=\u001b[39m (tracing_count \u001b[38;5;241m==\u001b[39m new_tracing_count)\n",
      "File \u001b[1;32m~\\AppData\\Local\\anaconda3\\envs\\tensorflow2_9_1\\lib\\site-packages\\tensorflow\\python\\eager\\def_function.py:947\u001b[0m, in \u001b[0;36mFunction._call\u001b[1;34m(self, *args, **kwds)\u001b[0m\n\u001b[0;32m    944\u001b[0m   \u001b[38;5;28mself\u001b[39m\u001b[38;5;241m.\u001b[39m_lock\u001b[38;5;241m.\u001b[39mrelease()\n\u001b[0;32m    945\u001b[0m   \u001b[38;5;66;03m# In this case we have created variables on the first call, so we run the\u001b[39;00m\n\u001b[0;32m    946\u001b[0m   \u001b[38;5;66;03m# defunned version which is guaranteed to never create variables.\u001b[39;00m\n\u001b[1;32m--> 947\u001b[0m   \u001b[38;5;28;01mreturn\u001b[39;00m \u001b[38;5;28;43mself\u001b[39;49m\u001b[38;5;241;43m.\u001b[39;49m\u001b[43m_stateless_fn\u001b[49m\u001b[43m(\u001b[49m\u001b[38;5;241;43m*\u001b[39;49m\u001b[43margs\u001b[49m\u001b[43m,\u001b[49m\u001b[43m \u001b[49m\u001b[38;5;241;43m*\u001b[39;49m\u001b[38;5;241;43m*\u001b[39;49m\u001b[43mkwds\u001b[49m\u001b[43m)\u001b[49m  \u001b[38;5;66;03m# pylint: disable=not-callable\u001b[39;00m\n\u001b[0;32m    948\u001b[0m \u001b[38;5;28;01melif\u001b[39;00m \u001b[38;5;28mself\u001b[39m\u001b[38;5;241m.\u001b[39m_stateful_fn \u001b[38;5;129;01mis\u001b[39;00m \u001b[38;5;129;01mnot\u001b[39;00m \u001b[38;5;28;01mNone\u001b[39;00m:\n\u001b[0;32m    949\u001b[0m   \u001b[38;5;66;03m# Release the lock early so that multiple threads can perform the call\u001b[39;00m\n\u001b[0;32m    950\u001b[0m   \u001b[38;5;66;03m# in parallel.\u001b[39;00m\n\u001b[0;32m    951\u001b[0m   \u001b[38;5;28mself\u001b[39m\u001b[38;5;241m.\u001b[39m_lock\u001b[38;5;241m.\u001b[39mrelease()\n",
      "File \u001b[1;32m~\\AppData\\Local\\anaconda3\\envs\\tensorflow2_9_1\\lib\\site-packages\\tensorflow\\python\\eager\\function.py:2453\u001b[0m, in \u001b[0;36mFunction.__call__\u001b[1;34m(self, *args, **kwargs)\u001b[0m\n\u001b[0;32m   2450\u001b[0m \u001b[38;5;28;01mwith\u001b[39;00m \u001b[38;5;28mself\u001b[39m\u001b[38;5;241m.\u001b[39m_lock:\n\u001b[0;32m   2451\u001b[0m   (graph_function,\n\u001b[0;32m   2452\u001b[0m    filtered_flat_args) \u001b[38;5;241m=\u001b[39m \u001b[38;5;28mself\u001b[39m\u001b[38;5;241m.\u001b[39m_maybe_define_function(args, kwargs)\n\u001b[1;32m-> 2453\u001b[0m \u001b[38;5;28;01mreturn\u001b[39;00m \u001b[43mgraph_function\u001b[49m\u001b[38;5;241;43m.\u001b[39;49m\u001b[43m_call_flat\u001b[49m\u001b[43m(\u001b[49m\n\u001b[0;32m   2454\u001b[0m \u001b[43m    \u001b[49m\u001b[43mfiltered_flat_args\u001b[49m\u001b[43m,\u001b[49m\u001b[43m \u001b[49m\u001b[43mcaptured_inputs\u001b[49m\u001b[38;5;241;43m=\u001b[39;49m\u001b[43mgraph_function\u001b[49m\u001b[38;5;241;43m.\u001b[39;49m\u001b[43mcaptured_inputs\u001b[49m\u001b[43m)\u001b[49m\n",
      "File \u001b[1;32m~\\AppData\\Local\\anaconda3\\envs\\tensorflow2_9_1\\lib\\site-packages\\tensorflow\\python\\eager\\function.py:1860\u001b[0m, in \u001b[0;36mConcreteFunction._call_flat\u001b[1;34m(self, args, captured_inputs, cancellation_manager)\u001b[0m\n\u001b[0;32m   1856\u001b[0m possible_gradient_type \u001b[38;5;241m=\u001b[39m gradients_util\u001b[38;5;241m.\u001b[39mPossibleTapeGradientTypes(args)\n\u001b[0;32m   1857\u001b[0m \u001b[38;5;28;01mif\u001b[39;00m (possible_gradient_type \u001b[38;5;241m==\u001b[39m gradients_util\u001b[38;5;241m.\u001b[39mPOSSIBLE_GRADIENT_TYPES_NONE\n\u001b[0;32m   1858\u001b[0m     \u001b[38;5;129;01mand\u001b[39;00m executing_eagerly):\n\u001b[0;32m   1859\u001b[0m   \u001b[38;5;66;03m# No tape is watching; skip to running the function.\u001b[39;00m\n\u001b[1;32m-> 1860\u001b[0m   \u001b[38;5;28;01mreturn\u001b[39;00m \u001b[38;5;28mself\u001b[39m\u001b[38;5;241m.\u001b[39m_build_call_outputs(\u001b[38;5;28;43mself\u001b[39;49m\u001b[38;5;241;43m.\u001b[39;49m\u001b[43m_inference_function\u001b[49m\u001b[38;5;241;43m.\u001b[39;49m\u001b[43mcall\u001b[49m\u001b[43m(\u001b[49m\n\u001b[0;32m   1861\u001b[0m \u001b[43m      \u001b[49m\u001b[43mctx\u001b[49m\u001b[43m,\u001b[49m\u001b[43m \u001b[49m\u001b[43margs\u001b[49m\u001b[43m,\u001b[49m\u001b[43m \u001b[49m\u001b[43mcancellation_manager\u001b[49m\u001b[38;5;241;43m=\u001b[39;49m\u001b[43mcancellation_manager\u001b[49m\u001b[43m)\u001b[49m)\n\u001b[0;32m   1862\u001b[0m forward_backward \u001b[38;5;241m=\u001b[39m \u001b[38;5;28mself\u001b[39m\u001b[38;5;241m.\u001b[39m_select_forward_and_backward_functions(\n\u001b[0;32m   1863\u001b[0m     args,\n\u001b[0;32m   1864\u001b[0m     possible_gradient_type,\n\u001b[0;32m   1865\u001b[0m     executing_eagerly)\n\u001b[0;32m   1866\u001b[0m forward_function, args_with_tangents \u001b[38;5;241m=\u001b[39m forward_backward\u001b[38;5;241m.\u001b[39mforward()\n",
      "File \u001b[1;32m~\\AppData\\Local\\anaconda3\\envs\\tensorflow2_9_1\\lib\\site-packages\\tensorflow\\python\\eager\\function.py:497\u001b[0m, in \u001b[0;36m_EagerDefinedFunction.call\u001b[1;34m(self, ctx, args, cancellation_manager)\u001b[0m\n\u001b[0;32m    495\u001b[0m \u001b[38;5;28;01mwith\u001b[39;00m _InterpolateFunctionError(\u001b[38;5;28mself\u001b[39m):\n\u001b[0;32m    496\u001b[0m   \u001b[38;5;28;01mif\u001b[39;00m cancellation_manager \u001b[38;5;129;01mis\u001b[39;00m \u001b[38;5;28;01mNone\u001b[39;00m:\n\u001b[1;32m--> 497\u001b[0m     outputs \u001b[38;5;241m=\u001b[39m \u001b[43mexecute\u001b[49m\u001b[38;5;241;43m.\u001b[39;49m\u001b[43mexecute\u001b[49m\u001b[43m(\u001b[49m\n\u001b[0;32m    498\u001b[0m \u001b[43m        \u001b[49m\u001b[38;5;28;43mstr\u001b[39;49m\u001b[43m(\u001b[49m\u001b[38;5;28;43mself\u001b[39;49m\u001b[38;5;241;43m.\u001b[39;49m\u001b[43msignature\u001b[49m\u001b[38;5;241;43m.\u001b[39;49m\u001b[43mname\u001b[49m\u001b[43m)\u001b[49m\u001b[43m,\u001b[49m\n\u001b[0;32m    499\u001b[0m \u001b[43m        \u001b[49m\u001b[43mnum_outputs\u001b[49m\u001b[38;5;241;43m=\u001b[39;49m\u001b[38;5;28;43mself\u001b[39;49m\u001b[38;5;241;43m.\u001b[39;49m\u001b[43m_num_outputs\u001b[49m\u001b[43m,\u001b[49m\n\u001b[0;32m    500\u001b[0m \u001b[43m        \u001b[49m\u001b[43minputs\u001b[49m\u001b[38;5;241;43m=\u001b[39;49m\u001b[43margs\u001b[49m\u001b[43m,\u001b[49m\n\u001b[0;32m    501\u001b[0m \u001b[43m        \u001b[49m\u001b[43mattrs\u001b[49m\u001b[38;5;241;43m=\u001b[39;49m\u001b[43mattrs\u001b[49m\u001b[43m,\u001b[49m\n\u001b[0;32m    502\u001b[0m \u001b[43m        \u001b[49m\u001b[43mctx\u001b[49m\u001b[38;5;241;43m=\u001b[39;49m\u001b[43mctx\u001b[49m\u001b[43m)\u001b[49m\n\u001b[0;32m    503\u001b[0m   \u001b[38;5;28;01melse\u001b[39;00m:\n\u001b[0;32m    504\u001b[0m     outputs \u001b[38;5;241m=\u001b[39m execute\u001b[38;5;241m.\u001b[39mexecute_with_cancellation(\n\u001b[0;32m    505\u001b[0m         \u001b[38;5;28mstr\u001b[39m(\u001b[38;5;28mself\u001b[39m\u001b[38;5;241m.\u001b[39msignature\u001b[38;5;241m.\u001b[39mname),\n\u001b[0;32m    506\u001b[0m         num_outputs\u001b[38;5;241m=\u001b[39m\u001b[38;5;28mself\u001b[39m\u001b[38;5;241m.\u001b[39m_num_outputs,\n\u001b[1;32m   (...)\u001b[0m\n\u001b[0;32m    509\u001b[0m         ctx\u001b[38;5;241m=\u001b[39mctx,\n\u001b[0;32m    510\u001b[0m         cancellation_manager\u001b[38;5;241m=\u001b[39mcancellation_manager)\n",
      "File \u001b[1;32m~\\AppData\\Local\\anaconda3\\envs\\tensorflow2_9_1\\lib\\site-packages\\tensorflow\\python\\eager\\execute.py:54\u001b[0m, in \u001b[0;36mquick_execute\u001b[1;34m(op_name, num_outputs, inputs, attrs, ctx, name)\u001b[0m\n\u001b[0;32m     52\u001b[0m \u001b[38;5;28;01mtry\u001b[39;00m:\n\u001b[0;32m     53\u001b[0m   ctx\u001b[38;5;241m.\u001b[39mensure_initialized()\n\u001b[1;32m---> 54\u001b[0m   tensors \u001b[38;5;241m=\u001b[39m \u001b[43mpywrap_tfe\u001b[49m\u001b[38;5;241;43m.\u001b[39;49m\u001b[43mTFE_Py_Execute\u001b[49m\u001b[43m(\u001b[49m\u001b[43mctx\u001b[49m\u001b[38;5;241;43m.\u001b[39;49m\u001b[43m_handle\u001b[49m\u001b[43m,\u001b[49m\u001b[43m \u001b[49m\u001b[43mdevice_name\u001b[49m\u001b[43m,\u001b[49m\u001b[43m \u001b[49m\u001b[43mop_name\u001b[49m\u001b[43m,\u001b[49m\n\u001b[0;32m     55\u001b[0m \u001b[43m                                      \u001b[49m\u001b[43minputs\u001b[49m\u001b[43m,\u001b[49m\u001b[43m \u001b[49m\u001b[43mattrs\u001b[49m\u001b[43m,\u001b[49m\u001b[43m \u001b[49m\u001b[43mnum_outputs\u001b[49m\u001b[43m)\u001b[49m\n\u001b[0;32m     56\u001b[0m \u001b[38;5;28;01mexcept\u001b[39;00m core\u001b[38;5;241m.\u001b[39m_NotOkStatusException \u001b[38;5;28;01mas\u001b[39;00m e:\n\u001b[0;32m     57\u001b[0m   \u001b[38;5;28;01mif\u001b[39;00m name \u001b[38;5;129;01mis\u001b[39;00m \u001b[38;5;129;01mnot\u001b[39;00m \u001b[38;5;28;01mNone\u001b[39;00m:\n",
      "\u001b[1;31mKeyboardInterrupt\u001b[0m: "
     ]
    }
   ],
   "source": [
    "history = model.fit(\n",
    "    dataset,\n",
    "    epochs = 500,\n",
    "#     steps_per_epoch = train_steps,\n",
    "    validation_data = dataset_valid,\n",
    "#     validation_steps = val_steps,\n",
    "    callbacks = [callback1, callback2]\n",
    ")"
   ]
  },
  {
   "cell_type": "code",
   "execution_count": 48,
   "id": "2aaddf0b",
   "metadata": {},
   "outputs": [],
   "source": [
    "model.save('./models/model_kyu_resnet_fromgogame_new.h5')"
   ]
  },
  {
   "cell_type": "code",
   "execution_count": 11,
   "id": "ee70e090",
   "metadata": {},
   "outputs": [
    {
     "name": "stdout",
     "output_type": "stream",
     "text": [
      "105773/105773 [==============================] - 1496s 14ms/step - loss: 2.1256 - accuracy: 0.4729\n"
     ]
    }
   ],
   "source": [
    "result = model.evaluate(\n",
    "    dataset_valid,\n",
    "    steps = val_steps\n",
    ")"
   ]
  },
  {
   "cell_type": "code",
   "execution_count": 14,
   "id": "90d58cae",
   "metadata": {},
   "outputs": [
    {
     "name": "stdout",
     "output_type": "stream",
     "text": [
      "106216/106216 [==============================] - 4941s 47ms/step - loss: 1.9110 - accuracy: 0.5071\n"
     ]
    }
   ],
   "source": [
    "history = model.fit(\n",
    "    dataset,\n",
    "    epochs = 1,\n",
    "    steps_per_epoch = train_steps\n",
    ")"
   ]
  },
  {
   "cell_type": "code",
   "execution_count": 15,
   "id": "3dcbe8c8",
   "metadata": {},
   "outputs": [],
   "source": [
    "model.save('./models/model_kyu_resnet_fromgogame_t050_1.h5')"
   ]
  },
  {
   "cell_type": "code",
   "execution_count": 16,
   "id": "007b892b",
   "metadata": {},
   "outputs": [
    {
     "name": "stdout",
     "output_type": "stream",
     "text": [
      "105773/105773 [==============================] - 1490s 14ms/step - loss: 2.0443 - accuracy: 0.4876\n"
     ]
    }
   ],
   "source": [
    "result = model.evaluate(\n",
    "    dataset_valid,\n",
    "    steps = val_steps\n",
    ")"
   ]
  },
  {
   "cell_type": "code",
   "execution_count": 17,
   "id": "fc016308",
   "metadata": {},
   "outputs": [
    {
     "name": "stdout",
     "output_type": "stream",
     "text": [
      "106216/106216 [==============================] - 4265s 40ms/step - loss: 1.5184 - accuracy: 0.5739\n"
     ]
    }
   ],
   "source": [
    "history = model.fit(\n",
    "    dataset,\n",
    "    epochs = 1,\n",
    "    steps_per_epoch = train_steps\n",
    ")"
   ]
  },
  {
   "cell_type": "code",
   "execution_count": 18,
   "id": "37793787",
   "metadata": {},
   "outputs": [],
   "source": [
    "model.save('./models/model_kyu_resnet_fromgogame_withnor_t050_2.h5')"
   ]
  },
  {
   "cell_type": "code",
   "execution_count": 19,
   "id": "9b842790",
   "metadata": {},
   "outputs": [
    {
     "name": "stdout",
     "output_type": "stream",
     "text": [
      "105773/105773 [==============================] - 1496s 14ms/step - loss: 3.3121 - accuracy: 0.3058\n"
     ]
    }
   ],
   "source": [
    "result = model.evaluate(\n",
    "    dataset_valid,\n",
    "    steps = val_steps\n",
    ")"
   ]
  },
  {
   "cell_type": "code",
   "execution_count": 20,
   "id": "160891cb",
   "metadata": {},
   "outputs": [
    {
     "name": "stdout",
     "output_type": "stream",
     "text": [
      "106216/106216 [==============================] - 4263s 40ms/step - loss: 1.3174 - accuracy: 0.6168\n"
     ]
    }
   ],
   "source": [
    "history = model.fit(\n",
    "    dataset,\n",
    "    epochs = 1,\n",
    "    steps_per_epoch = train_steps\n",
    ")"
   ]
  },
  {
   "cell_type": "code",
   "execution_count": 21,
   "id": "0550fc97",
   "metadata": {},
   "outputs": [],
   "source": [
    "model.save('./models/model_kyu_resnet_fromgogame_withnor_t050_3.h5')"
   ]
  },
  {
   "cell_type": "code",
   "execution_count": 22,
   "id": "0d4317d6",
   "metadata": {},
   "outputs": [
    {
     "name": "stdout",
     "output_type": "stream",
     "text": [
      "105773/105773 [==============================] - 1501s 14ms/step - loss: 3.7028 - accuracy: 0.2748\n"
     ]
    }
   ],
   "source": [
    "result = model.evaluate(\n",
    "    dataset_valid,\n",
    "    steps = val_steps\n",
    ")"
   ]
  },
  {
   "cell_type": "code",
   "execution_count": 33,
   "id": "a834cce7",
   "metadata": {},
   "outputs": [
    {
     "name": "stdout",
     "output_type": "stream",
     "text": [
      "42/42 [==============================] - 8s 188ms/step - loss: 1.8230 - accuracy: 0.5787 - val_loss: 1.9512 - val_accuracy: 0.5478\n"
     ]
    }
   ],
   "source": [
    "history = model.fit(\n",
    "    dataset,\n",
    "    epochs = 1,\n",
    "    validation_data = val_dataset\n",
    ")"
   ]
  },
  {
   "cell_type": "code",
   "execution_count": null,
   "id": "3f436af1",
   "metadata": {},
   "outputs": [],
   "source": [
    "model.save('./models/model_kyu_resnet_3.h5')"
   ]
  },
  {
   "cell_type": "code",
   "execution_count": null,
   "id": "fb78859b",
   "metadata": {},
   "outputs": [],
   "source": [
    "history = model.fit(\n",
    "    dataset,\n",
    "    epochs = 1\n",
    ")"
   ]
  },
  {
   "cell_type": "code",
   "execution_count": null,
   "id": "b98c3ebb",
   "metadata": {},
   "outputs": [],
   "source": [
    "model.save('./models/model_kyu_resnet_4.h5')"
   ]
  },
  {
   "cell_type": "code",
   "execution_count": null,
   "id": "0a850b05",
   "metadata": {},
   "outputs": [],
   "source": [
    "history = model.fit(\n",
    "    dataset,\n",
    "    epochs = 1\n",
    ")"
   ]
  },
  {
   "cell_type": "code",
   "execution_count": null,
   "id": "6a4f6688",
   "metadata": {},
   "outputs": [],
   "source": [
    "model.save('./models/model_kyu_10_15_f128_5.h5')"
   ]
  },
  {
   "cell_type": "code",
   "execution_count": null,
   "id": "2dd7f4fc",
   "metadata": {},
   "outputs": [],
   "source": [
    "history = model.fit(\n",
    "    dataset,\n",
    "    epochs = 1\n",
    ")"
   ]
  },
  {
   "cell_type": "code",
   "execution_count": null,
   "id": "33aca136",
   "metadata": {},
   "outputs": [],
   "source": [
    "model.save('./models/model_kyu_10_15_f128_6.h5')"
   ]
  },
  {
   "cell_type": "code",
   "execution_count": null,
   "id": "990c90e1",
   "metadata": {},
   "outputs": [],
   "source": [
    "history = model.fit(\n",
    "    dataset,\n",
    "    epochs = 1\n",
    ")"
   ]
  },
  {
   "cell_type": "code",
   "execution_count": null,
   "id": "32c0e018",
   "metadata": {},
   "outputs": [],
   "source": [
    "model.save('./models/model_kyu_10_15_f128_7.h5')"
   ]
  },
  {
   "cell_type": "code",
   "execution_count": null,
   "id": "d53e1f45",
   "metadata": {},
   "outputs": [],
   "source": [
    "history = model.fit(\n",
    "    dataset,\n",
    "    epochs = 1\n",
    ")"
   ]
  },
  {
   "cell_type": "code",
   "execution_count": null,
   "id": "28f38557",
   "metadata": {},
   "outputs": [],
   "source": [
    "model.save('./models/model_kyu_10_15_f128_8.h5')"
   ]
  },
  {
   "cell_type": "code",
   "execution_count": null,
   "id": "27ae4d25",
   "metadata": {},
   "outputs": [],
   "source": [
    "history = model.fit(\n",
    "    dataset,\n",
    "    epochs = 1\n",
    ")"
   ]
  },
  {
   "cell_type": "code",
   "execution_count": null,
   "id": "718dcd6c",
   "metadata": {},
   "outputs": [],
   "source": [
    "model.save('./models/model_kyu_10_15_f128_9.h5')"
   ]
  },
  {
   "cell_type": "code",
   "execution_count": null,
   "id": "f68be49f",
   "metadata": {},
   "outputs": [],
   "source": [
    "history = model.fit(\n",
    "    dataset,\n",
    "    epochs = 1\n",
    ")"
   ]
  },
  {
   "cell_type": "code",
   "execution_count": null,
   "id": "9fde8199",
   "metadata": {},
   "outputs": [],
   "source": [
    "model.save('./models/model_kyu_10_14_11.h5')"
   ]
  },
  {
   "cell_type": "markdown",
   "id": "484be28d",
   "metadata": {},
   "source": [
    "## ALL DONE!\n",
    "\n",
    "For using the model and creating a submission file, follow the notebook **Create Public Upload CSV.ipynb**"
   ]
  },
  {
   "cell_type": "markdown",
   "id": "2f7fafaa",
   "metadata": {},
   "source": [
    "# End of Tutorial\n",
    "\n",
    "You are free to use more modern NN architectures, a better pre-processing, feature extraction methods to achieve much better accuracy!"
   ]
  },
  {
   "cell_type": "code",
   "execution_count": null,
   "id": "b34f1db8",
   "metadata": {},
   "outputs": [],
   "source": []
  }
 ],
 "metadata": {
  "kernelspec": {
   "display_name": "Python 3 (ipykernel)",
   "language": "python",
   "name": "python3"
  },
  "language_info": {
   "codemirror_mode": {
    "name": "ipython",
    "version": 3
   },
   "file_extension": ".py",
   "mimetype": "text/x-python",
   "name": "python",
   "nbconvert_exporter": "python",
   "pygments_lexer": "ipython3",
   "version": "3.8.18"
  }
 },
 "nbformat": 4,
 "nbformat_minor": 5
}

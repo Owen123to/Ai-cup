{
 "cells": [
  {
   "cell_type": "code",
   "execution_count": 1,
   "id": "bd5077d3",
   "metadata": {},
   "outputs": [],
   "source": [
    "import tensorflow as tf\n",
    "from tensorflow.keras.models import Model, load_model\n",
    "from tensorflow.keras import layers\n",
    "# from tensorflow.keras.layers import Input, Conv2D, ReLU, Flatten, Dense, Softmax, BatchNormalization, Dropout, Add\n",
    "from tensorflow.keras.optimizers import Adam, SGD, Nadam\n",
    "from tensorflow.keras import regularizers\n",
    "\n",
    "import numpy as np\n",
    "from sklearn.model_selection import train_test_split"
   ]
  },
  {
   "cell_type": "code",
   "execution_count": 2,
   "id": "4d54d124",
   "metadata": {},
   "outputs": [
    {
     "name": "stdout",
     "output_type": "stream",
     "text": [
      "WARNING:tensorflow:From C:\\Users\\kenny\\AppData\\Local\\Temp\\ipykernel_10100\\3793539530.py:2: is_gpu_available (from tensorflow.python.framework.test_util) is deprecated and will be removed in a future version.\n",
      "Instructions for updating:\n",
      "Use `tf.config.list_physical_devices('GPU')` instead.\n"
     ]
    },
    {
     "data": {
      "text/plain": [
       "True"
      ]
     },
     "execution_count": 2,
     "metadata": {},
     "output_type": "execute_result"
    }
   ],
   "source": [
    "tf.__version__\n",
    "tf.test.is_gpu_available()"
   ]
  },
  {
   "cell_type": "markdown",
   "id": "5666d92a",
   "metadata": {},
   "source": [
    "# Data Pre-Processing\n",
    "\n",
    "Open **play_style_train.csv** file and split the games into a list.\n",
    "Every row of csv: `PSL0000000001,1,B[pd],W[dp],B[qp],W[dc],B[nq],W[nc],B[qf],W[kd],B[ce],W[dg],B[dd],W[cc],B[fd],W[ed],B[ee],W[ec],B[ge],W[gc],B[di]`. \n",
    "\n",
    "Columns are:\n",
    "\n",
    "    1. PSL0000000001: Game ID\n",
    "    2. 1: Game Style\n",
    "    3-... : Moves, the last move represents the play style (B[di] in this case)\n",
    "    \n",
    "We cropped only the moves to game list as:"
   ]
  },
  {
   "cell_type": "code",
   "execution_count": 3,
   "id": "e4b559ec",
   "metadata": {},
   "outputs": [],
   "source": [
    "df = open('./Training Dataset/play_style_train.csv').read().splitlines()\n",
    "games = [i.split(',',2)[-1] for i in df]\n",
    "game_styles = [int(i.split(',',2)[-2]) for i in df]"
   ]
  },
  {
   "cell_type": "markdown",
   "id": "89f64af3",
   "metadata": {},
   "source": [
    "Create a dictionary to convert the coordinates from characters to numbers"
   ]
  },
  {
   "cell_type": "code",
   "execution_count": 4,
   "id": "3b52349a",
   "metadata": {},
   "outputs": [
    {
     "data": {
      "text/plain": [
       "{'a': 0,\n",
       " 'b': 1,\n",
       " 'c': 2,\n",
       " 'd': 3,\n",
       " 'e': 4,\n",
       " 'f': 5,\n",
       " 'g': 6,\n",
       " 'h': 7,\n",
       " 'i': 8,\n",
       " 'j': 9,\n",
       " 'k': 10,\n",
       " 'l': 11,\n",
       " 'm': 12,\n",
       " 'n': 13,\n",
       " 'o': 14,\n",
       " 'p': 15,\n",
       " 'q': 16,\n",
       " 'r': 17,\n",
       " 's': 18}"
      ]
     },
     "execution_count": 4,
     "metadata": {},
     "output_type": "execute_result"
    }
   ],
   "source": [
    "chars = 'abcdefghijklmnopqrs'\n",
    "coordinates = {k:v for v,k in enumerate(chars)}\n",
    "coordinates"
   ]
  },
  {
   "cell_type": "markdown",
   "id": "e3429687",
   "metadata": {},
   "source": [
    "We decided to build a DCNN model in this tutorial. We create data samples by using every move in every game, meaning that the target is to predict the next move by feeding the previous state of the table in every game for every move. Therefore, we can collect much more data samples from games.\n",
    "\n",
    "For the simplicity, we used 2 dimensional feature map to represent the data as below:\n",
    " 1. Occupied areas: mark them as 1 and the empty places as 0\n",
    " 2. The last move in the table: mark the position of the last move as 1 and the rest as 0\n",
    " \n",
    "The target is to predict the game style (1, 2 or 3) from the state of the game table. Later this will be one-hot encoded."
   ]
  },
  {
   "cell_type": "code",
   "execution_count": 5,
   "id": "7b28ab61",
   "metadata": {},
   "outputs": [],
   "source": [
    "#0:所有跟最後一步顏色相同的\n",
    "#1:所有跟最後一步顏色不同的\n",
    "#2:標示空地\n",
    "#3~10:最後8步\n",
    "#11:周圍黑棋7*7\n",
    "#12:周圍白棋7*7\n",
    "def prepare_input(moves):\n",
    "    x = np.zeros((19,19,13))\n",
    "    player_color = moves[-1][0] #\n",
    "    for move in moves:\n",
    "        color = move[0]\n",
    "        column = coordinates[move[2]]\n",
    "        row = coordinates[move[3]]\n",
    "        if color == player_color: #\n",
    "            x[row,column,0] = 1\n",
    "            x[row,column,2] = 1\n",
    "        else: #\n",
    "            x[row,column,1] = 1\n",
    "            x[row,column,2] = 1\n",
    "    x[:,:,2] = np.where(x[:,:,2] == 0, 1, 0)\n",
    "    \n",
    "    #倒數8步\n",
    "    sz = len(moves)\n",
    "    last1 = sz - 1\n",
    "    last8 = max(sz - 9, 0)\n",
    "    for i in range(last1, last8, -1):\n",
    "        col = coordinates[moves[i][2]]\n",
    "        row = coordinates[moves[i][3]]\n",
    "        x[row, col, 11 - (sz - i)] = 1\n",
    "    \n",
    "    #周圍7*7\n",
    "    last_col = coordinates[moves[-1][2]]\n",
    "    last_row = coordinates[moves[-1][3]]\n",
    "    rad = 3 #要改範圍大小的話改這個\n",
    "    row1 = max(0, last_row - rad)\n",
    "    row7 = min(18, last_row + rad)\n",
    "    col1 = max(0, last_col - rad)\n",
    "    col7 = min(18, last_col + rad)\n",
    "    for i in range(row1, row7 + 1, 1):\n",
    "        for j in range(col1, col7 + 1, 1):\n",
    "            x[i, j, 11] = x[i, j, 1]\n",
    "            x[i, j, 12] = x[i, j, 2]\n",
    "            \n",
    "    #列印所有棋盤\n",
    "#     for i in range(0, 3, 1):\n",
    "#         print(\"  a b c d e f g h i j k l m n o p q r s\")\n",
    "#         for j in range(0, 19, 1):\n",
    "#             print(chars[j], end = \" \")\n",
    "#             for k in range(0, 19, 1):\n",
    "#                 print(int(x[j, k, i]), end = \" \")\n",
    "#             print(\"\")\n",
    "#         print(\"\")\n",
    "    \n",
    "    return x"
   ]
  },
  {
   "cell_type": "code",
   "execution_count": 6,
   "id": "a1a544a9",
   "metadata": {},
   "outputs": [
    {
     "name": "stdout",
     "output_type": "stream",
     "text": [
      "Total Games: 26615\n"
     ]
    }
   ],
   "source": [
    "# Check how many samples can be obtained\n",
    "n_games = 0\n",
    "for game in games:\n",
    "    n_games += 1\n",
    "print(f\"Total Games: {n_games}\")"
   ]
  },
  {
   "cell_type": "markdown",
   "id": "fe30773a",
   "metadata": {},
   "source": [
    "Since play style training has smaller dataset comparing to kyu or dan training, we can put the complete dataset to memory. Still, it is better to create a data generator."
   ]
  },
  {
   "cell_type": "code",
   "execution_count": 7,
   "id": "40cce4cb",
   "metadata": {},
   "outputs": [],
   "source": [
    "x = []\n",
    "for game in games:\n",
    "    moves_list = game.split(',')\n",
    "    x.append(prepare_input(moves_list))\n",
    "x = np.array(x)\n",
    "y = np.array(game_styles)-1"
   ]
  },
  {
   "cell_type": "code",
   "execution_count": null,
   "id": "a8d94133",
   "metadata": {},
   "outputs": [],
   "source": [
    "def data_generator(games, batch_size):\n",
    "    def generator():\n",
    "        x_batch = [] # Initialize data batch\n",
    "        y_batch = [] # Initialize target batch\n",
    "        for game_i, game in enumerate(games): # Iterate through games\n",
    "            moves_list = game.split(',')\n",
    "#             print(moves_list)\n",
    "            x_batch.append(prepare_input(moves_list))\n",
    "            y_batch.append(game_styles[game_i])\n",
    "            if len(x_batch) == batch_size: # Yield when reached batch size\n",
    "                yield np.array(x_batch), tf.one_hot(np.array(y_batch)-1, depth=3)\n",
    "                x_batch = []\n",
    "                y_batch = []\n",
    "    return generator\n",
    "\n",
    "batch_size = 64\n",
    "# val_rate = 0.1 # 0.1 means 0.1 for val ,0.9 for training\n",
    "# split_point = int(len(games) * (1 - val_rate))\n",
    "generator = data_generator(games, batch_size)\n",
    "dataset = tf.data.Dataset.from_generator(generator, \n",
    "                                         output_types=(tf.float32, tf.float32),\n",
    "                                         output_shapes=(tf.TensorShape((batch_size,19,19,13)),tf.TensorShape((batch_size,3)))\n",
    "                                        )\n",
    "# SHUFFLE_BUFFER_SIZE = 200\n",
    "# dataset = dataset.shuffle(SHUFFLE_BUFFER_SIZE).batch(batch_size)\n",
    "dataset = dataset.prefetch(tf.data.AUTOTUNE)"
   ]
  },
  {
   "cell_type": "code",
   "execution_count": 8,
   "id": "74d9b37d",
   "metadata": {},
   "outputs": [
    {
     "data": {
      "text/plain": [
       "(26615, 19, 19, 13)"
      ]
     },
     "execution_count": 8,
     "metadata": {},
     "output_type": "execute_result"
    }
   ],
   "source": [
    "x.shape"
   ]
  },
  {
   "cell_type": "code",
   "execution_count": 9,
   "id": "0ad8b3fb",
   "metadata": {},
   "outputs": [
    {
     "data": {
      "text/plain": [
       "(26615,)"
      ]
     },
     "execution_count": 9,
     "metadata": {},
     "output_type": "execute_result"
    }
   ],
   "source": [
    "y.shape"
   ]
  },
  {
   "cell_type": "code",
   "execution_count": 10,
   "id": "7f20561a",
   "metadata": {},
   "outputs": [
    {
     "data": {
      "text/plain": [
       "array([8184, 9403, 9028], dtype=int64)"
      ]
     },
     "execution_count": 10,
     "metadata": {},
     "output_type": "execute_result"
    }
   ],
   "source": [
    "np.bincount(y)"
   ]
  },
  {
   "cell_type": "markdown",
   "id": "a1c86e70",
   "metadata": {},
   "source": [
    "Target is one-hot encoded and loss is changed to `categorical_crossentropy`"
   ]
  },
  {
   "cell_type": "code",
   "execution_count": 11,
   "id": "54f30621",
   "metadata": {},
   "outputs": [],
   "source": [
    "y_hot = tf.one_hot(y, depth=3)"
   ]
  },
  {
   "cell_type": "markdown",
   "id": "b4ae1a16",
   "metadata": {},
   "source": [
    "Dataset splitting: 90% Training, 10% validation"
   ]
  },
  {
   "cell_type": "code",
   "execution_count": 12,
   "id": "b80a8a43",
   "metadata": {},
   "outputs": [],
   "source": [
    "# x_train, x_val, y_train, y_val = train_test_split(x, y_hot.numpy(), test_size=0.1)\n",
    "x_train = x\n",
    "y_train = y_hot.numpy()"
   ]
  },
  {
   "cell_type": "markdown",
   "id": "3a8964d8",
   "metadata": {},
   "source": [
    "# Training\n",
    "\n",
    "### Simple DCNN Model:"
   ]
  },
  {
   "cell_type": "code",
   "execution_count": 13,
   "id": "ad6d4040",
   "metadata": {},
   "outputs": [],
   "source": [
    "def identity_block(input_tensor, kernel_size, filters, stage, block):\n",
    "    filters1, filters2, filters3 = filters\n",
    "    bn_axis = -1\n",
    "    \n",
    "    conv_name_base = 'res' + str(stage) + block + '_branch'\n",
    "    bn_name_base = 'bn' + str(stage) + block + '_branch'\n",
    "    # 這邊就是圖5上的1x1x64降維操作，假設input x的維度是(n, n, 256), channel last\n",
    "    x = layers.Conv2D(filters1, (1, 1),\n",
    "#                       kernel_initializer='he_normal',\n",
    "                      name=conv_name_base + '2a')(input_tensor)\n",
    "    x = layers.BatchNormalization(axis=bn_axis, name=bn_name_base + '2a')(x)\n",
    "    x = layers.Activation('relu')(x)\n",
    "    \n",
    "    # 正常的3x3x64卷積操作，Feature Map長寬仍是n x n\n",
    "    x = layers.Conv2D(filters2, kernel_size,\n",
    "                      padding='same',\n",
    "#                       kernel_initializer='he_normal',\n",
    "                      name=conv_name_base + '2b')(x)\n",
    "    x = layers.BatchNormalization(axis=bn_axis, name=bn_name_base + '2b')(x)\n",
    "    x = layers.Activation('relu')(x)\n",
    "    \n",
    "    # 最後升維到256，維度(n,n,256) -> 變成可以和(Indentity)input x相加的維度\n",
    "    x = layers.Conv2D(filters3, (1, 1),\n",
    "#                       kernel_initializer='he_normal',\n",
    "                      name=conv_name_base + '2c')(x)\n",
    "    x = layers.BatchNormalization(axis=bn_axis, name=bn_name_base + '2c')(x)\n",
    "    \n",
    "    # 相加後做non-linear轉換\n",
    "    x = layers.add([x, input_tensor])\n",
    "    x = layers.Activation('relu')(x)\n",
    "    return x"
   ]
  },
  {
   "cell_type": "code",
   "execution_count": 14,
   "id": "295280dd",
   "metadata": {},
   "outputs": [],
   "source": [
    "def conv_block(input_tensor,\n",
    "               kernel_size,\n",
    "               filters,\n",
    "               stage,\n",
    "               block,\n",
    "               strides=(1, 1)):\n",
    "    filters1, filters2, filters3 = filters\n",
    "    bn_axis = -1\n",
    "    conv_name_base = 'res' + str(stage) + block + '_branch'\n",
    "    bn_name_base = 'bn' + str(stage) + block + '_branch'\n",
    "    \n",
    "    # 因為是projection shortcut 所以input的x可能跟output維度不同\n",
    "    # input維度(n,n,256) -->降維 (n,n,64)\n",
    "    # 如果Strides有改，則利用Strides來改變Feature Map長寬\n",
    "    x = layers.Conv2D(filters1, (1, 1), strides=strides,  \n",
    "#                       kernel_initializer='he_normal',\n",
    "                      name=conv_name_base + '2a')(input_tensor)\n",
    "    x = layers.BatchNormalization(axis=bn_axis, name=bn_name_base + '2a')(x)\n",
    "    x = layers.Activation('relu')(x)\n",
    "    \n",
    "    # (3,3)的kernel, padding都pad好pad滿，不改變Feature Map尺寸大小\n",
    "    x = layers.Conv2D(filters2, kernel_size, padding='same', \n",
    "#                       kernel_initializer='he_normal',\n",
    "                      name=conv_name_base + '2b')(x)\n",
    "    x = layers.BatchNormalization(axis=bn_axis, name=bn_name_base + '2b')(x)\n",
    "    x = layers.Activation('relu')(x)\n",
    "    \n",
    "    # 用1x1 conv升維到假設512\n",
    "    x = layers.Conv2D(filters3, (1, 1), \n",
    "#                       kernel_initializer='he_normal',\n",
    "                      name=conv_name_base + '2c')(x)\n",
    "    x = layers.BatchNormalization(axis=bn_axis, name=bn_name_base + '2c')(x)\n",
    "    \n",
    "    # 因input維度是256，這邊就需要做projectr將維度升到512相加\n",
    "    shortcut = layers.Conv2D(filters3, (1, 1), strides=strides,\n",
    "#                              kernel_initializer='he_normal',\n",
    "                             name=conv_name_base + '1')(input_tensor)\n",
    "    shortcut = layers.BatchNormalization(\n",
    "        axis=bn_axis, name=bn_name_base + '1')(shortcut)\n",
    "    # F(x) + x(升維後的x)\n",
    "    x = layers.add([x, shortcut])\n",
    "    x = layers.Activation('relu')(x)\n",
    "    return x"
   ]
  },
  {
   "cell_type": "code",
   "execution_count": 15,
   "id": "6ee7dc8f",
   "metadata": {},
   "outputs": [],
   "source": [
    "def ResNet50(include_top=True,\n",
    "             input_tensor=None,\n",
    "             input_shape=None,\n",
    "             pooling=False):\n",
    "    img_input = layers.Input(shape = input_shape)\n",
    "    bn_axis = -1 #unknow\n",
    "    ##### optional\n",
    "#     x = layers.ZeroPadding2D(padding=(3, 3), name='conv1_pad')(img_input)\n",
    "#     x = layers.Conv2D(32, (7, 7),\n",
    "#                       strides=(2, 2),\n",
    "#                       padding='same',\n",
    "#                       kernel_initializer='he_normal',\n",
    "#                       name='conv1')(img_input)\n",
    "#     x = layers.BatchNormalization(axis=bn_axis, name='bn_conv1')(x)\n",
    "#     x = layers.Activation('relu')(x)\n",
    "    #####\n",
    "    \n",
    "    x = conv_block(img_input, 3, [64, 64, 256], stage=2, block='a', strides=(1, 1))  # input Channel大小會跟最後最後residual output尺寸一樣\n",
    "    x = identity_block(x, 3, [64, 64, 256], stage=2, block='b')\n",
    "    x = identity_block(x, 3, [64, 64, 256], stage=2, block='c')\n",
    "    # 256-d to 512-d\n",
    "    x = conv_block(x, 3, [128, 128, 512], stage=3, block='a') # projection shortcut\n",
    "    x = identity_block(x, 3, [128, 128, 512], stage=3, block='b')\n",
    "    x = identity_block(x, 3, [128, 128, 512], stage=3, block='c')\n",
    "    x = identity_block(x, 3, [128, 128, 512], stage=3, block='d')\n",
    "    # 512-d to 1024-d\n",
    "    x = conv_block(x, 3, [256, 256, 1024], stage=4, block='a') # projection shortcut\n",
    "    x = identity_block(x, 3, [256, 256, 1024], stage=4, block='b')\n",
    "    x = identity_block(x, 3, [256, 256, 1024], stage=4, block='c')\n",
    "    x = identity_block(x, 3, [256, 256, 1024], stage=4, block='d')\n",
    "    x = identity_block(x, 3, [256, 256, 1024], stage=4, block='e')\n",
    "    x = identity_block(x, 3, [256, 256, 1024], stage=4, block='f')\n",
    "#     # 1024-d to 2048-d\n",
    "    x = conv_block(x, 3, [512, 512, 2048], stage=5, block='a')\n",
    "    x = identity_block(x, 3, [512, 512, 2048], stage=5, block='b')\n",
    "    x = identity_block(x, 3, [512, 512, 2048], stage=5, block='c')\n",
    "    \n",
    "    x = layers.GlobalAveragePooling2D(name='avg_pool')(x)\n",
    "    x = layers.Dense(3, activation='softmax', name='fc1000')(x)\n",
    "#     if include_top:\n",
    "#         x = layers.GlobalAveragePooling2D(name='avg_pool')(x)\n",
    "#         x = layers.Dense(classes, activation='softmax', name='fc1000')(x)\n",
    "#     else:\n",
    "#         if pooling == 'avg':\n",
    "#             x = layers.GlobalAveragePooling2D()(x)\n",
    "#         elif pooling == 'max':\n",
    "#             x = layers.GlobalMaxPooling2D()(x)\n",
    "#         else:\n",
    "#             warnings.warn('The output shape of `ResNet50(include_top=False)` '\n",
    "#                           'has been changed since Keras 2.2.0.')\n",
    "#     x = layers.GlobalAveragePooling2D()(x)\n",
    "    \n",
    "    if input_tensor is not None:\n",
    "        inputs = keras_utils.get_source_inputs(input_tensor)\n",
    "    else:\n",
    "        inputs = img_input\n",
    "        \n",
    "    model = Model(inputs, x, name='resnet50')\n",
    "    return model"
   ]
  },
  {
   "cell_type": "code",
   "execution_count": 16,
   "id": "4c826c0d",
   "metadata": {},
   "outputs": [
    {
     "name": "stdout",
     "output_type": "stream",
     "text": [
      "Model: \"resnet50\"\n",
      "__________________________________________________________________________________________________\n",
      " Layer (type)                   Output Shape         Param #     Connected to                     \n",
      "==================================================================================================\n",
      " input_1 (InputLayer)           [(None, 19, 19, 13)  0           []                               \n",
      "                                ]                                                                 \n",
      "                                                                                                  \n",
      " res2a_branch2a (Conv2D)        (None, 19, 19, 64)   896         ['input_1[0][0]']                \n",
      "                                                                                                  \n",
      " bn2a_branch2a (BatchNormalizat  (None, 19, 19, 64)  256         ['res2a_branch2a[0][0]']         \n",
      " ion)                                                                                             \n",
      "                                                                                                  \n",
      " activation (Activation)        (None, 19, 19, 64)   0           ['bn2a_branch2a[0][0]']          \n",
      "                                                                                                  \n",
      " res2a_branch2b (Conv2D)        (None, 19, 19, 64)   36928       ['activation[0][0]']             \n",
      "                                                                                                  \n",
      " bn2a_branch2b (BatchNormalizat  (None, 19, 19, 64)  256         ['res2a_branch2b[0][0]']         \n",
      " ion)                                                                                             \n",
      "                                                                                                  \n",
      " activation_1 (Activation)      (None, 19, 19, 64)   0           ['bn2a_branch2b[0][0]']          \n",
      "                                                                                                  \n",
      " res2a_branch2c (Conv2D)        (None, 19, 19, 256)  16640       ['activation_1[0][0]']           \n",
      "                                                                                                  \n",
      " res2a_branch1 (Conv2D)         (None, 19, 19, 256)  3584        ['input_1[0][0]']                \n",
      "                                                                                                  \n",
      " bn2a_branch2c (BatchNormalizat  (None, 19, 19, 256)  1024       ['res2a_branch2c[0][0]']         \n",
      " ion)                                                                                             \n",
      "                                                                                                  \n",
      " bn2a_branch1 (BatchNormalizati  (None, 19, 19, 256)  1024       ['res2a_branch1[0][0]']          \n",
      " on)                                                                                              \n",
      "                                                                                                  \n",
      " add (Add)                      (None, 19, 19, 256)  0           ['bn2a_branch2c[0][0]',          \n",
      "                                                                  'bn2a_branch1[0][0]']           \n",
      "                                                                                                  \n",
      " activation_2 (Activation)      (None, 19, 19, 256)  0           ['add[0][0]']                    \n",
      "                                                                                                  \n",
      " res2b_branch2a (Conv2D)        (None, 19, 19, 64)   16448       ['activation_2[0][0]']           \n",
      "                                                                                                  \n",
      " bn2b_branch2a (BatchNormalizat  (None, 19, 19, 64)  256         ['res2b_branch2a[0][0]']         \n",
      " ion)                                                                                             \n",
      "                                                                                                  \n",
      " activation_3 (Activation)      (None, 19, 19, 64)   0           ['bn2b_branch2a[0][0]']          \n",
      "                                                                                                  \n",
      " res2b_branch2b (Conv2D)        (None, 19, 19, 64)   36928       ['activation_3[0][0]']           \n",
      "                                                                                                  \n",
      " bn2b_branch2b (BatchNormalizat  (None, 19, 19, 64)  256         ['res2b_branch2b[0][0]']         \n",
      " ion)                                                                                             \n",
      "                                                                                                  \n",
      " activation_4 (Activation)      (None, 19, 19, 64)   0           ['bn2b_branch2b[0][0]']          \n",
      "                                                                                                  \n",
      " res2b_branch2c (Conv2D)        (None, 19, 19, 256)  16640       ['activation_4[0][0]']           \n",
      "                                                                                                  \n",
      " bn2b_branch2c (BatchNormalizat  (None, 19, 19, 256)  1024       ['res2b_branch2c[0][0]']         \n",
      " ion)                                                                                             \n",
      "                                                                                                  \n",
      " add_1 (Add)                    (None, 19, 19, 256)  0           ['bn2b_branch2c[0][0]',          \n",
      "                                                                  'activation_2[0][0]']           \n",
      "                                                                                                  \n",
      " activation_5 (Activation)      (None, 19, 19, 256)  0           ['add_1[0][0]']                  \n",
      "                                                                                                  \n",
      " res2c_branch2a (Conv2D)        (None, 19, 19, 64)   16448       ['activation_5[0][0]']           \n",
      "                                                                                                  \n",
      " bn2c_branch2a (BatchNormalizat  (None, 19, 19, 64)  256         ['res2c_branch2a[0][0]']         \n",
      " ion)                                                                                             \n",
      "                                                                                                  \n",
      " activation_6 (Activation)      (None, 19, 19, 64)   0           ['bn2c_branch2a[0][0]']          \n",
      "                                                                                                  \n",
      " res2c_branch2b (Conv2D)        (None, 19, 19, 64)   36928       ['activation_6[0][0]']           \n",
      "                                                                                                  \n",
      " bn2c_branch2b (BatchNormalizat  (None, 19, 19, 64)  256         ['res2c_branch2b[0][0]']         \n",
      " ion)                                                                                             \n",
      "                                                                                                  \n",
      " activation_7 (Activation)      (None, 19, 19, 64)   0           ['bn2c_branch2b[0][0]']          \n",
      "                                                                                                  \n",
      " res2c_branch2c (Conv2D)        (None, 19, 19, 256)  16640       ['activation_7[0][0]']           \n",
      "                                                                                                  \n",
      " bn2c_branch2c (BatchNormalizat  (None, 19, 19, 256)  1024       ['res2c_branch2c[0][0]']         \n",
      " ion)                                                                                             \n",
      "                                                                                                  \n",
      " add_2 (Add)                    (None, 19, 19, 256)  0           ['bn2c_branch2c[0][0]',          \n",
      "                                                                  'activation_5[0][0]']           \n",
      "                                                                                                  \n",
      " activation_8 (Activation)      (None, 19, 19, 256)  0           ['add_2[0][0]']                  \n",
      "                                                                                                  \n"
     ]
    },
    {
     "name": "stdout",
     "output_type": "stream",
     "text": [
      " res3a_branch2a (Conv2D)        (None, 19, 19, 128)  32896       ['activation_8[0][0]']           \n",
      "                                                                                                  \n",
      " bn3a_branch2a (BatchNormalizat  (None, 19, 19, 128)  512        ['res3a_branch2a[0][0]']         \n",
      " ion)                                                                                             \n",
      "                                                                                                  \n",
      " activation_9 (Activation)      (None, 19, 19, 128)  0           ['bn3a_branch2a[0][0]']          \n",
      "                                                                                                  \n",
      " res3a_branch2b (Conv2D)        (None, 19, 19, 128)  147584      ['activation_9[0][0]']           \n",
      "                                                                                                  \n",
      " bn3a_branch2b (BatchNormalizat  (None, 19, 19, 128)  512        ['res3a_branch2b[0][0]']         \n",
      " ion)                                                                                             \n",
      "                                                                                                  \n",
      " activation_10 (Activation)     (None, 19, 19, 128)  0           ['bn3a_branch2b[0][0]']          \n",
      "                                                                                                  \n",
      " res3a_branch2c (Conv2D)        (None, 19, 19, 512)  66048       ['activation_10[0][0]']          \n",
      "                                                                                                  \n",
      " res3a_branch1 (Conv2D)         (None, 19, 19, 512)  131584      ['activation_8[0][0]']           \n",
      "                                                                                                  \n",
      " bn3a_branch2c (BatchNormalizat  (None, 19, 19, 512)  2048       ['res3a_branch2c[0][0]']         \n",
      " ion)                                                                                             \n",
      "                                                                                                  \n",
      " bn3a_branch1 (BatchNormalizati  (None, 19, 19, 512)  2048       ['res3a_branch1[0][0]']          \n",
      " on)                                                                                              \n",
      "                                                                                                  \n",
      " add_3 (Add)                    (None, 19, 19, 512)  0           ['bn3a_branch2c[0][0]',          \n",
      "                                                                  'bn3a_branch1[0][0]']           \n",
      "                                                                                                  \n",
      " activation_11 (Activation)     (None, 19, 19, 512)  0           ['add_3[0][0]']                  \n",
      "                                                                                                  \n",
      " res3b_branch2a (Conv2D)        (None, 19, 19, 128)  65664       ['activation_11[0][0]']          \n",
      "                                                                                                  \n",
      " bn3b_branch2a (BatchNormalizat  (None, 19, 19, 128)  512        ['res3b_branch2a[0][0]']         \n",
      " ion)                                                                                             \n",
      "                                                                                                  \n",
      " activation_12 (Activation)     (None, 19, 19, 128)  0           ['bn3b_branch2a[0][0]']          \n",
      "                                                                                                  \n",
      " res3b_branch2b (Conv2D)        (None, 19, 19, 128)  147584      ['activation_12[0][0]']          \n",
      "                                                                                                  \n",
      " bn3b_branch2b (BatchNormalizat  (None, 19, 19, 128)  512        ['res3b_branch2b[0][0]']         \n",
      " ion)                                                                                             \n",
      "                                                                                                  \n",
      " activation_13 (Activation)     (None, 19, 19, 128)  0           ['bn3b_branch2b[0][0]']          \n",
      "                                                                                                  \n",
      " res3b_branch2c (Conv2D)        (None, 19, 19, 512)  66048       ['activation_13[0][0]']          \n",
      "                                                                                                  \n",
      " bn3b_branch2c (BatchNormalizat  (None, 19, 19, 512)  2048       ['res3b_branch2c[0][0]']         \n",
      " ion)                                                                                             \n",
      "                                                                                                  \n",
      " add_4 (Add)                    (None, 19, 19, 512)  0           ['bn3b_branch2c[0][0]',          \n",
      "                                                                  'activation_11[0][0]']          \n",
      "                                                                                                  \n",
      " activation_14 (Activation)     (None, 19, 19, 512)  0           ['add_4[0][0]']                  \n",
      "                                                                                                  \n",
      " res3c_branch2a (Conv2D)        (None, 19, 19, 128)  65664       ['activation_14[0][0]']          \n",
      "                                                                                                  \n",
      " bn3c_branch2a (BatchNormalizat  (None, 19, 19, 128)  512        ['res3c_branch2a[0][0]']         \n",
      " ion)                                                                                             \n",
      "                                                                                                  \n",
      " activation_15 (Activation)     (None, 19, 19, 128)  0           ['bn3c_branch2a[0][0]']          \n",
      "                                                                                                  \n",
      " res3c_branch2b (Conv2D)        (None, 19, 19, 128)  147584      ['activation_15[0][0]']          \n",
      "                                                                                                  \n",
      " bn3c_branch2b (BatchNormalizat  (None, 19, 19, 128)  512        ['res3c_branch2b[0][0]']         \n",
      " ion)                                                                                             \n",
      "                                                                                                  \n",
      " activation_16 (Activation)     (None, 19, 19, 128)  0           ['bn3c_branch2b[0][0]']          \n",
      "                                                                                                  \n",
      " res3c_branch2c (Conv2D)        (None, 19, 19, 512)  66048       ['activation_16[0][0]']          \n",
      "                                                                                                  \n",
      " bn3c_branch2c (BatchNormalizat  (None, 19, 19, 512)  2048       ['res3c_branch2c[0][0]']         \n",
      " ion)                                                                                             \n",
      "                                                                                                  \n",
      " add_5 (Add)                    (None, 19, 19, 512)  0           ['bn3c_branch2c[0][0]',          \n",
      "                                                                  'activation_14[0][0]']          \n",
      "                                                                                                  \n",
      " activation_17 (Activation)     (None, 19, 19, 512)  0           ['add_5[0][0]']                  \n",
      "                                                                                                  \n",
      " res3d_branch2a (Conv2D)        (None, 19, 19, 128)  65664       ['activation_17[0][0]']          \n",
      "                                                                                                  \n",
      " bn3d_branch2a (BatchNormalizat  (None, 19, 19, 128)  512        ['res3d_branch2a[0][0]']         \n",
      " ion)                                                                                             \n",
      "                                                                                                  \n",
      " activation_18 (Activation)     (None, 19, 19, 128)  0           ['bn3d_branch2a[0][0]']          \n"
     ]
    },
    {
     "name": "stdout",
     "output_type": "stream",
     "text": [
      "                                                                                                  \n",
      " res3d_branch2b (Conv2D)        (None, 19, 19, 128)  147584      ['activation_18[0][0]']          \n",
      "                                                                                                  \n",
      " bn3d_branch2b (BatchNormalizat  (None, 19, 19, 128)  512        ['res3d_branch2b[0][0]']         \n",
      " ion)                                                                                             \n",
      "                                                                                                  \n",
      " activation_19 (Activation)     (None, 19, 19, 128)  0           ['bn3d_branch2b[0][0]']          \n",
      "                                                                                                  \n",
      " res3d_branch2c (Conv2D)        (None, 19, 19, 512)  66048       ['activation_19[0][0]']          \n",
      "                                                                                                  \n",
      " bn3d_branch2c (BatchNormalizat  (None, 19, 19, 512)  2048       ['res3d_branch2c[0][0]']         \n",
      " ion)                                                                                             \n",
      "                                                                                                  \n",
      " add_6 (Add)                    (None, 19, 19, 512)  0           ['bn3d_branch2c[0][0]',          \n",
      "                                                                  'activation_17[0][0]']          \n",
      "                                                                                                  \n",
      " activation_20 (Activation)     (None, 19, 19, 512)  0           ['add_6[0][0]']                  \n",
      "                                                                                                  \n",
      " res4a_branch2a (Conv2D)        (None, 19, 19, 256)  131328      ['activation_20[0][0]']          \n",
      "                                                                                                  \n",
      " bn4a_branch2a (BatchNormalizat  (None, 19, 19, 256)  1024       ['res4a_branch2a[0][0]']         \n",
      " ion)                                                                                             \n",
      "                                                                                                  \n",
      " activation_21 (Activation)     (None, 19, 19, 256)  0           ['bn4a_branch2a[0][0]']          \n",
      "                                                                                                  \n",
      " res4a_branch2b (Conv2D)        (None, 19, 19, 256)  590080      ['activation_21[0][0]']          \n",
      "                                                                                                  \n",
      " bn4a_branch2b (BatchNormalizat  (None, 19, 19, 256)  1024       ['res4a_branch2b[0][0]']         \n",
      " ion)                                                                                             \n",
      "                                                                                                  \n",
      " activation_22 (Activation)     (None, 19, 19, 256)  0           ['bn4a_branch2b[0][0]']          \n",
      "                                                                                                  \n",
      " res4a_branch2c (Conv2D)        (None, 19, 19, 1024  263168      ['activation_22[0][0]']          \n",
      "                                )                                                                 \n",
      "                                                                                                  \n",
      " res4a_branch1 (Conv2D)         (None, 19, 19, 1024  525312      ['activation_20[0][0]']          \n",
      "                                )                                                                 \n",
      "                                                                                                  \n",
      " bn4a_branch2c (BatchNormalizat  (None, 19, 19, 1024  4096       ['res4a_branch2c[0][0]']         \n",
      " ion)                           )                                                                 \n",
      "                                                                                                  \n",
      " bn4a_branch1 (BatchNormalizati  (None, 19, 19, 1024  4096       ['res4a_branch1[0][0]']          \n",
      " on)                            )                                                                 \n",
      "                                                                                                  \n",
      " add_7 (Add)                    (None, 19, 19, 1024  0           ['bn4a_branch2c[0][0]',          \n",
      "                                )                                 'bn4a_branch1[0][0]']           \n",
      "                                                                                                  \n",
      " activation_23 (Activation)     (None, 19, 19, 1024  0           ['add_7[0][0]']                  \n",
      "                                )                                                                 \n",
      "                                                                                                  \n",
      " res4b_branch2a (Conv2D)        (None, 19, 19, 256)  262400      ['activation_23[0][0]']          \n",
      "                                                                                                  \n",
      " bn4b_branch2a (BatchNormalizat  (None, 19, 19, 256)  1024       ['res4b_branch2a[0][0]']         \n",
      " ion)                                                                                             \n",
      "                                                                                                  \n",
      " activation_24 (Activation)     (None, 19, 19, 256)  0           ['bn4b_branch2a[0][0]']          \n",
      "                                                                                                  \n",
      " res4b_branch2b (Conv2D)        (None, 19, 19, 256)  590080      ['activation_24[0][0]']          \n",
      "                                                                                                  \n",
      " bn4b_branch2b (BatchNormalizat  (None, 19, 19, 256)  1024       ['res4b_branch2b[0][0]']         \n",
      " ion)                                                                                             \n",
      "                                                                                                  \n",
      " activation_25 (Activation)     (None, 19, 19, 256)  0           ['bn4b_branch2b[0][0]']          \n",
      "                                                                                                  \n",
      " res4b_branch2c (Conv2D)        (None, 19, 19, 1024  263168      ['activation_25[0][0]']          \n",
      "                                )                                                                 \n",
      "                                                                                                  \n",
      " bn4b_branch2c (BatchNormalizat  (None, 19, 19, 1024  4096       ['res4b_branch2c[0][0]']         \n",
      " ion)                           )                                                                 \n",
      "                                                                                                  \n",
      " add_8 (Add)                    (None, 19, 19, 1024  0           ['bn4b_branch2c[0][0]',          \n",
      "                                )                                 'activation_23[0][0]']          \n",
      "                                                                                                  \n",
      " activation_26 (Activation)     (None, 19, 19, 1024  0           ['add_8[0][0]']                  \n",
      "                                )                                                                 \n",
      "                                                                                                  \n",
      " res4c_branch2a (Conv2D)        (None, 19, 19, 256)  262400      ['activation_26[0][0]']          \n",
      "                                                                                                  \n",
      " bn4c_branch2a (BatchNormalizat  (None, 19, 19, 256)  1024       ['res4c_branch2a[0][0]']         \n",
      " ion)                                                                                             \n",
      "                                                                                                  \n",
      " activation_27 (Activation)     (None, 19, 19, 256)  0           ['bn4c_branch2a[0][0]']          \n",
      "                                                                                                  \n"
     ]
    },
    {
     "name": "stdout",
     "output_type": "stream",
     "text": [
      " res4c_branch2b (Conv2D)        (None, 19, 19, 256)  590080      ['activation_27[0][0]']          \n",
      "                                                                                                  \n",
      " bn4c_branch2b (BatchNormalizat  (None, 19, 19, 256)  1024       ['res4c_branch2b[0][0]']         \n",
      " ion)                                                                                             \n",
      "                                                                                                  \n",
      " activation_28 (Activation)     (None, 19, 19, 256)  0           ['bn4c_branch2b[0][0]']          \n",
      "                                                                                                  \n",
      " res4c_branch2c (Conv2D)        (None, 19, 19, 1024  263168      ['activation_28[0][0]']          \n",
      "                                )                                                                 \n",
      "                                                                                                  \n",
      " bn4c_branch2c (BatchNormalizat  (None, 19, 19, 1024  4096       ['res4c_branch2c[0][0]']         \n",
      " ion)                           )                                                                 \n",
      "                                                                                                  \n",
      " add_9 (Add)                    (None, 19, 19, 1024  0           ['bn4c_branch2c[0][0]',          \n",
      "                                )                                 'activation_26[0][0]']          \n",
      "                                                                                                  \n",
      " activation_29 (Activation)     (None, 19, 19, 1024  0           ['add_9[0][0]']                  \n",
      "                                )                                                                 \n",
      "                                                                                                  \n",
      " res4d_branch2a (Conv2D)        (None, 19, 19, 256)  262400      ['activation_29[0][0]']          \n",
      "                                                                                                  \n",
      " bn4d_branch2a (BatchNormalizat  (None, 19, 19, 256)  1024       ['res4d_branch2a[0][0]']         \n",
      " ion)                                                                                             \n",
      "                                                                                                  \n",
      " activation_30 (Activation)     (None, 19, 19, 256)  0           ['bn4d_branch2a[0][0]']          \n",
      "                                                                                                  \n",
      " res4d_branch2b (Conv2D)        (None, 19, 19, 256)  590080      ['activation_30[0][0]']          \n",
      "                                                                                                  \n",
      " bn4d_branch2b (BatchNormalizat  (None, 19, 19, 256)  1024       ['res4d_branch2b[0][0]']         \n",
      " ion)                                                                                             \n",
      "                                                                                                  \n",
      " activation_31 (Activation)     (None, 19, 19, 256)  0           ['bn4d_branch2b[0][0]']          \n",
      "                                                                                                  \n",
      " res4d_branch2c (Conv2D)        (None, 19, 19, 1024  263168      ['activation_31[0][0]']          \n",
      "                                )                                                                 \n",
      "                                                                                                  \n",
      " bn4d_branch2c (BatchNormalizat  (None, 19, 19, 1024  4096       ['res4d_branch2c[0][0]']         \n",
      " ion)                           )                                                                 \n",
      "                                                                                                  \n",
      " add_10 (Add)                   (None, 19, 19, 1024  0           ['bn4d_branch2c[0][0]',          \n",
      "                                )                                 'activation_29[0][0]']          \n",
      "                                                                                                  \n",
      " activation_32 (Activation)     (None, 19, 19, 1024  0           ['add_10[0][0]']                 \n",
      "                                )                                                                 \n",
      "                                                                                                  \n",
      " res4e_branch2a (Conv2D)        (None, 19, 19, 256)  262400      ['activation_32[0][0]']          \n",
      "                                                                                                  \n",
      " bn4e_branch2a (BatchNormalizat  (None, 19, 19, 256)  1024       ['res4e_branch2a[0][0]']         \n",
      " ion)                                                                                             \n",
      "                                                                                                  \n",
      " activation_33 (Activation)     (None, 19, 19, 256)  0           ['bn4e_branch2a[0][0]']          \n",
      "                                                                                                  \n",
      " res4e_branch2b (Conv2D)        (None, 19, 19, 256)  590080      ['activation_33[0][0]']          \n",
      "                                                                                                  \n",
      " bn4e_branch2b (BatchNormalizat  (None, 19, 19, 256)  1024       ['res4e_branch2b[0][0]']         \n",
      " ion)                                                                                             \n",
      "                                                                                                  \n",
      " activation_34 (Activation)     (None, 19, 19, 256)  0           ['bn4e_branch2b[0][0]']          \n",
      "                                                                                                  \n",
      " res4e_branch2c (Conv2D)        (None, 19, 19, 1024  263168      ['activation_34[0][0]']          \n",
      "                                )                                                                 \n",
      "                                                                                                  \n",
      " bn4e_branch2c (BatchNormalizat  (None, 19, 19, 1024  4096       ['res4e_branch2c[0][0]']         \n",
      " ion)                           )                                                                 \n",
      "                                                                                                  \n",
      " add_11 (Add)                   (None, 19, 19, 1024  0           ['bn4e_branch2c[0][0]',          \n",
      "                                )                                 'activation_32[0][0]']          \n",
      "                                                                                                  \n",
      " activation_35 (Activation)     (None, 19, 19, 1024  0           ['add_11[0][0]']                 \n",
      "                                )                                                                 \n",
      "                                                                                                  \n",
      " res4f_branch2a (Conv2D)        (None, 19, 19, 256)  262400      ['activation_35[0][0]']          \n",
      "                                                                                                  \n",
      " bn4f_branch2a (BatchNormalizat  (None, 19, 19, 256)  1024       ['res4f_branch2a[0][0]']         \n",
      " ion)                                                                                             \n",
      "                                                                                                  \n",
      " activation_36 (Activation)     (None, 19, 19, 256)  0           ['bn4f_branch2a[0][0]']          \n",
      "                                                                                                  \n",
      " res4f_branch2b (Conv2D)        (None, 19, 19, 256)  590080      ['activation_36[0][0]']          \n",
      "                                                                                                  \n",
      " bn4f_branch2b (BatchNormalizat  (None, 19, 19, 256)  1024       ['res4f_branch2b[0][0]']         \n",
      " ion)                                                                                             \n",
      "                                                                                                  \n"
     ]
    },
    {
     "name": "stdout",
     "output_type": "stream",
     "text": [
      " activation_37 (Activation)     (None, 19, 19, 256)  0           ['bn4f_branch2b[0][0]']          \n",
      "                                                                                                  \n",
      " res4f_branch2c (Conv2D)        (None, 19, 19, 1024  263168      ['activation_37[0][0]']          \n",
      "                                )                                                                 \n",
      "                                                                                                  \n",
      " bn4f_branch2c (BatchNormalizat  (None, 19, 19, 1024  4096       ['res4f_branch2c[0][0]']         \n",
      " ion)                           )                                                                 \n",
      "                                                                                                  \n",
      " add_12 (Add)                   (None, 19, 19, 1024  0           ['bn4f_branch2c[0][0]',          \n",
      "                                )                                 'activation_35[0][0]']          \n",
      "                                                                                                  \n",
      " activation_38 (Activation)     (None, 19, 19, 1024  0           ['add_12[0][0]']                 \n",
      "                                )                                                                 \n",
      "                                                                                                  \n",
      " res5a_branch2a (Conv2D)        (None, 19, 19, 512)  524800      ['activation_38[0][0]']          \n",
      "                                                                                                  \n",
      " bn5a_branch2a (BatchNormalizat  (None, 19, 19, 512)  2048       ['res5a_branch2a[0][0]']         \n",
      " ion)                                                                                             \n",
      "                                                                                                  \n",
      " activation_39 (Activation)     (None, 19, 19, 512)  0           ['bn5a_branch2a[0][0]']          \n",
      "                                                                                                  \n",
      " res5a_branch2b (Conv2D)        (None, 19, 19, 512)  2359808     ['activation_39[0][0]']          \n",
      "                                                                                                  \n",
      " bn5a_branch2b (BatchNormalizat  (None, 19, 19, 512)  2048       ['res5a_branch2b[0][0]']         \n",
      " ion)                                                                                             \n",
      "                                                                                                  \n",
      " activation_40 (Activation)     (None, 19, 19, 512)  0           ['bn5a_branch2b[0][0]']          \n",
      "                                                                                                  \n",
      " res5a_branch2c (Conv2D)        (None, 19, 19, 2048  1050624     ['activation_40[0][0]']          \n",
      "                                )                                                                 \n",
      "                                                                                                  \n",
      " res5a_branch1 (Conv2D)         (None, 19, 19, 2048  2099200     ['activation_38[0][0]']          \n",
      "                                )                                                                 \n",
      "                                                                                                  \n",
      " bn5a_branch2c (BatchNormalizat  (None, 19, 19, 2048  8192       ['res5a_branch2c[0][0]']         \n",
      " ion)                           )                                                                 \n",
      "                                                                                                  \n",
      " bn5a_branch1 (BatchNormalizati  (None, 19, 19, 2048  8192       ['res5a_branch1[0][0]']          \n",
      " on)                            )                                                                 \n",
      "                                                                                                  \n",
      " add_13 (Add)                   (None, 19, 19, 2048  0           ['bn5a_branch2c[0][0]',          \n",
      "                                )                                 'bn5a_branch1[0][0]']           \n",
      "                                                                                                  \n",
      " activation_41 (Activation)     (None, 19, 19, 2048  0           ['add_13[0][0]']                 \n",
      "                                )                                                                 \n",
      "                                                                                                  \n",
      " res5b_branch2a (Conv2D)        (None, 19, 19, 512)  1049088     ['activation_41[0][0]']          \n",
      "                                                                                                  \n",
      " bn5b_branch2a (BatchNormalizat  (None, 19, 19, 512)  2048       ['res5b_branch2a[0][0]']         \n",
      " ion)                                                                                             \n",
      "                                                                                                  \n",
      " activation_42 (Activation)     (None, 19, 19, 512)  0           ['bn5b_branch2a[0][0]']          \n",
      "                                                                                                  \n",
      " res5b_branch2b (Conv2D)        (None, 19, 19, 512)  2359808     ['activation_42[0][0]']          \n",
      "                                                                                                  \n",
      " bn5b_branch2b (BatchNormalizat  (None, 19, 19, 512)  2048       ['res5b_branch2b[0][0]']         \n",
      " ion)                                                                                             \n",
      "                                                                                                  \n",
      " activation_43 (Activation)     (None, 19, 19, 512)  0           ['bn5b_branch2b[0][0]']          \n",
      "                                                                                                  \n",
      " res5b_branch2c (Conv2D)        (None, 19, 19, 2048  1050624     ['activation_43[0][0]']          \n",
      "                                )                                                                 \n",
      "                                                                                                  \n",
      " bn5b_branch2c (BatchNormalizat  (None, 19, 19, 2048  8192       ['res5b_branch2c[0][0]']         \n",
      " ion)                           )                                                                 \n",
      "                                                                                                  \n",
      " add_14 (Add)                   (None, 19, 19, 2048  0           ['bn5b_branch2c[0][0]',          \n",
      "                                )                                 'activation_41[0][0]']          \n",
      "                                                                                                  \n",
      " activation_44 (Activation)     (None, 19, 19, 2048  0           ['add_14[0][0]']                 \n",
      "                                )                                                                 \n",
      "                                                                                                  \n",
      " res5c_branch2a (Conv2D)        (None, 19, 19, 512)  1049088     ['activation_44[0][0]']          \n",
      "                                                                                                  \n",
      " bn5c_branch2a (BatchNormalizat  (None, 19, 19, 512)  2048       ['res5c_branch2a[0][0]']         \n",
      " ion)                                                                                             \n",
      "                                                                                                  \n",
      " activation_45 (Activation)     (None, 19, 19, 512)  0           ['bn5c_branch2a[0][0]']          \n",
      "                                                                                                  \n",
      " res5c_branch2b (Conv2D)        (None, 19, 19, 512)  2359808     ['activation_45[0][0]']          \n",
      "                                                                                                  \n",
      " bn5c_branch2b (BatchNormalizat  (None, 19, 19, 512)  2048       ['res5c_branch2b[0][0]']         \n",
      " ion)                                                                                             \n"
     ]
    },
    {
     "name": "stdout",
     "output_type": "stream",
     "text": [
      "                                                                                                  \n",
      " activation_46 (Activation)     (None, 19, 19, 512)  0           ['bn5c_branch2b[0][0]']          \n",
      "                                                                                                  \n",
      " res5c_branch2c (Conv2D)        (None, 19, 19, 2048  1050624     ['activation_46[0][0]']          \n",
      "                                )                                                                 \n",
      "                                                                                                  \n",
      " bn5c_branch2c (BatchNormalizat  (None, 19, 19, 2048  8192       ['res5c_branch2c[0][0]']         \n",
      " ion)                           )                                                                 \n",
      "                                                                                                  \n",
      " add_15 (Add)                   (None, 19, 19, 2048  0           ['bn5c_branch2c[0][0]',          \n",
      "                                )                                 'activation_44[0][0]']          \n",
      "                                                                                                  \n",
      " activation_47 (Activation)     (None, 19, 19, 2048  0           ['add_15[0][0]']                 \n",
      "                                )                                                                 \n",
      "                                                                                                  \n",
      " avg_pool (GlobalAveragePooling  (None, 2048)        0           ['activation_47[0][0]']          \n",
      " 2D)                                                                                              \n",
      "                                                                                                  \n",
      " fc1000 (Dense)                 (None, 3)            6147        ['avg_pool[0][0]']               \n",
      "                                                                                                  \n",
      "==================================================================================================\n",
      "Total params: 23,567,811\n",
      "Trainable params: 23,514,819\n",
      "Non-trainable params: 52,992\n",
      "__________________________________________________________________________________________________\n"
     ]
    }
   ],
   "source": [
    "model = ResNet50(include_top=True,\n",
    "                 input_tensor=None,\n",
    "                 input_shape=(19, 19, 13),\n",
    "                 pooling=False)\n",
    "opt = Nadam(learning_rate = 0.0005)\n",
    "model.compile(optimizer = opt,\n",
    "              loss='categorical_crossentropy',\n",
    "                metrics=['accuracy'])\n",
    "model.summary()"
   ]
  },
  {
   "cell_type": "code",
   "execution_count": 13,
   "id": "f0066700",
   "metadata": {},
   "outputs": [],
   "source": [
    "# model = load_model('./models/model_playstyle_resnet50_v2.h5')"
   ]
  },
  {
   "cell_type": "code",
   "execution_count": 17,
   "id": "fcf329a3",
   "metadata": {},
   "outputs": [
    {
     "name": "stdout",
     "output_type": "stream",
     "text": [
      "Epoch 1/6\n",
      "832/832 [==============================] - 552s 645ms/step - loss: 0.9124 - accuracy: 0.5985\n",
      "Epoch 2/6\n",
      "832/832 [==============================] - 535s 643ms/step - loss: 0.7830 - accuracy: 0.6699\n",
      "Epoch 3/6\n",
      "832/832 [==============================] - 535s 643ms/step - loss: 0.7432 - accuracy: 0.6924\n",
      "Epoch 4/6\n",
      "832/832 [==============================] - 534s 641ms/step - loss: 0.7228 - accuracy: 0.7040\n",
      "Epoch 5/6\n",
      "832/832 [==============================] - 535s 643ms/step - loss: 0.7035 - accuracy: 0.7115\n",
      "Epoch 6/6\n",
      "832/832 [==============================] - 536s 644ms/step - loss: 0.6847 - accuracy: 0.7234\n"
     ]
    }
   ],
   "source": [
    "history = model.fit(\n",
    "    x = x_train, \n",
    "    y = y_train,\n",
    "    batch_size = 32,\n",
    "    epochs = 6,\n",
    "#     validation_data=(x_val, y_val),\n",
    ")"
   ]
  },
  {
   "cell_type": "code",
   "execution_count": 18,
   "id": "6ed0f073",
   "metadata": {},
   "outputs": [],
   "source": [
    "model.save('./models/model_playstyle_resnet50_alltrain.h5')"
   ]
  },
  {
   "cell_type": "code",
   "execution_count": 19,
   "id": "c56f90a4",
   "metadata": {},
   "outputs": [
    {
     "name": "stdout",
     "output_type": "stream",
     "text": [
      "Epoch 1/6\n",
      "832/832 [==============================] - 535s 643ms/step - loss: 0.6671 - accuracy: 0.7291\n",
      "Epoch 2/6\n",
      "832/832 [==============================] - 535s 643ms/step - loss: 0.6434 - accuracy: 0.7393\n",
      "Epoch 3/6\n",
      "832/832 [==============================] - 535s 643ms/step - loss: 0.6191 - accuracy: 0.7513\n",
      "Epoch 4/6\n",
      "832/832 [==============================] - 535s 643ms/step - loss: 0.5908 - accuracy: 0.7638\n",
      "Epoch 5/6\n",
      "832/832 [==============================] - 535s 643ms/step - loss: 0.5630 - accuracy: 0.7753\n",
      "Epoch 6/6\n",
      "832/832 [==============================] - 535s 643ms/step - loss: 0.5228 - accuracy: 0.7912\n"
     ]
    }
   ],
   "source": [
    "history = model.fit(\n",
    "    x = x_train, \n",
    "    y = y_train,\n",
    "    batch_size = 32,\n",
    "    epochs = 6,\n",
    "#     validation_data=(x_val, y_val),\n",
    ")"
   ]
  },
  {
   "cell_type": "code",
   "execution_count": 20,
   "id": "a4f18ec3",
   "metadata": {},
   "outputs": [],
   "source": [
    "model.save('./models/model_playstyle_resnet50_alltrain_1.h5')"
   ]
  },
  {
   "cell_type": "code",
   "execution_count": 21,
   "id": "75c243f9",
   "metadata": {},
   "outputs": [
    {
     "name": "stdout",
     "output_type": "stream",
     "text": [
      "Epoch 1/6\n",
      "832/832 [==============================] - 535s 643ms/step - loss: 0.4887 - accuracy: 0.8066\n",
      "Epoch 2/6\n",
      "832/832 [==============================] - 535s 643ms/step - loss: 0.4530 - accuracy: 0.8203\n",
      "Epoch 3/6\n",
      "832/832 [==============================] - 535s 643ms/step - loss: 0.4121 - accuracy: 0.8367\n",
      "Epoch 4/6\n",
      "832/832 [==============================] - 535s 643ms/step - loss: 0.3823 - accuracy: 0.8463\n",
      "Epoch 5/6\n",
      "832/832 [==============================] - 535s 643ms/step - loss: 0.3455 - accuracy: 0.8637\n",
      "Epoch 6/6\n",
      "832/832 [==============================] - 535s 643ms/step - loss: 0.3112 - accuracy: 0.8769\n"
     ]
    }
   ],
   "source": [
    "history = model.fit(\n",
    "    x = x_train, \n",
    "    y = y_train,\n",
    "    batch_size = 32,\n",
    "    epochs = 6,\n",
    "#     validation_data=(x_val, y_val),\n",
    ")"
   ]
  },
  {
   "cell_type": "code",
   "execution_count": 22,
   "id": "0e6ff8ad",
   "metadata": {},
   "outputs": [],
   "source": [
    "model.save('./models/model_playstyle_resnet50_alltrain_2.h5')"
   ]
  },
  {
   "cell_type": "code",
   "execution_count": 13,
   "id": "30d538c1",
   "metadata": {},
   "outputs": [],
   "source": [
    "model = load_model('./models/model_playstyle_resnet50_alltrain_2.h5')"
   ]
  },
  {
   "cell_type": "code",
   "execution_count": 14,
   "id": "b4265806",
   "metadata": {},
   "outputs": [
    {
     "name": "stdout",
     "output_type": "stream",
     "text": [
      "Epoch 1/6\n",
      "832/832 [==============================] - 546s 643ms/step - loss: 0.2820 - accuracy: 0.8899\n",
      "Epoch 2/6\n",
      "832/832 [==============================] - 535s 643ms/step - loss: 0.2519 - accuracy: 0.9023\n",
      "Epoch 3/6\n",
      "832/832 [==============================] - 535s 642ms/step - loss: 0.2362 - accuracy: 0.9075\n",
      "Epoch 4/6\n",
      "832/832 [==============================] - 535s 643ms/step - loss: 0.2164 - accuracy: 0.9179\n",
      "Epoch 5/6\n",
      "832/832 [==============================] - 534s 642ms/step - loss: 0.1968 - accuracy: 0.9235\n",
      "Epoch 6/6\n",
      "832/832 [==============================] - 534s 642ms/step - loss: 0.1818 - accuracy: 0.9309\n"
     ]
    }
   ],
   "source": [
    "history = model.fit(\n",
    "    x = x_train, \n",
    "    y = y_train,\n",
    "    batch_size = 32,\n",
    "    epochs = 6,\n",
    "#     validation_data=(x_val, y_val),\n",
    ")"
   ]
  },
  {
   "cell_type": "code",
   "execution_count": 15,
   "id": "600ab691",
   "metadata": {},
   "outputs": [],
   "source": [
    "model.save('./models/model_playstyle_resnet50_alltrain_3.h5')"
   ]
  },
  {
   "cell_type": "code",
   "execution_count": 12,
   "id": "112efcab",
   "metadata": {},
   "outputs": [],
   "source": [
    "model = load_model('./models/model_playstyle_resnet50_alltrain_3.h5')"
   ]
  },
  {
   "cell_type": "code",
   "execution_count": 13,
   "id": "2c5e29dd",
   "metadata": {},
   "outputs": [
    {
     "name": "stdout",
     "output_type": "stream",
     "text": [
      "Epoch 1/6\n",
      "832/832 [==============================] - 544s 641ms/step - loss: 0.1721 - accuracy: 0.9356\n",
      "Epoch 2/6\n",
      "832/832 [==============================] - 532s 640ms/step - loss: 0.1637 - accuracy: 0.9386\n",
      "Epoch 3/6\n",
      "832/832 [==============================] - 533s 640ms/step - loss: 0.1506 - accuracy: 0.9446\n",
      "Epoch 4/6\n",
      "832/832 [==============================] - 533s 641ms/step - loss: 0.1439 - accuracy: 0.9459\n",
      "Epoch 5/6\n",
      "832/832 [==============================] - 534s 642ms/step - loss: 0.1365 - accuracy: 0.9506\n",
      "Epoch 6/6\n",
      "832/832 [==============================] - 534s 642ms/step - loss: 0.1311 - accuracy: 0.9516\n"
     ]
    }
   ],
   "source": [
    "history = model.fit(\n",
    "    x = x_train, \n",
    "    y = y_train,\n",
    "    batch_size = 32,\n",
    "    epochs = 6,\n",
    "#     validation_data=(x_val, y_val),\n",
    ")"
   ]
  },
  {
   "cell_type": "code",
   "execution_count": 14,
   "id": "ed896239",
   "metadata": {},
   "outputs": [],
   "source": [
    "model.save('./models/model_playstyle_resnet50_alltrain_4.h5')"
   ]
  },
  {
   "cell_type": "code",
   "execution_count": 13,
   "id": "fcc2be3c",
   "metadata": {},
   "outputs": [],
   "source": [
    "model = load_model('./models/model_playstyle_resnet50_alltrain_4.h5')"
   ]
  },
  {
   "cell_type": "code",
   "execution_count": 14,
   "id": "849b0ae9",
   "metadata": {},
   "outputs": [
    {
     "name": "stdout",
     "output_type": "stream",
     "text": [
      "Epoch 1/6\n",
      "832/832 [==============================] - 546s 643ms/step - loss: 0.1324 - accuracy: 0.9520\n",
      "Epoch 2/6\n",
      "832/832 [==============================] - 535s 643ms/step - loss: 0.1137 - accuracy: 0.9585\n",
      "Epoch 3/6\n",
      "832/832 [==============================] - 535s 643ms/step - loss: 0.1263 - accuracy: 0.9528\n",
      "Epoch 4/6\n",
      "832/832 [==============================] - 535s 643ms/step - loss: 0.1134 - accuracy: 0.9599\n",
      "Epoch 5/6\n",
      "832/832 [==============================] - 535s 643ms/step - loss: 0.1135 - accuracy: 0.9594\n",
      "Epoch 6/6\n",
      "832/832 [==============================] - 534s 642ms/step - loss: 0.0914 - accuracy: 0.9671\n"
     ]
    }
   ],
   "source": [
    "history = model.fit(\n",
    "    x = x_train, \n",
    "    y = y_train,\n",
    "    batch_size = 32,\n",
    "    epochs = 6,\n",
    "#     validation_data=(x_val, y_val),\n",
    ")"
   ]
  },
  {
   "cell_type": "code",
   "execution_count": 15,
   "id": "f505576d",
   "metadata": {},
   "outputs": [],
   "source": [
    "model.save('./models/model_playstyle_resnet50_alltrain_5.h5')"
   ]
  },
  {
   "cell_type": "code",
   "execution_count": null,
   "id": "e4d0bc87",
   "metadata": {},
   "outputs": [],
   "source": [
    "history = model.fit(\n",
    "    x = x_train, \n",
    "    y = y_train,\n",
    "    batch_size = 32,\n",
    "    epochs = 6,\n",
    "#     validation_data=(x_val, y_val),\n",
    ")"
   ]
  },
  {
   "cell_type": "code",
   "execution_count": null,
   "id": "a04222ce",
   "metadata": {},
   "outputs": [],
   "source": [
    "model.save('./models/model_playstyle_resnet50_alltrain_6.h5')"
   ]
  },
  {
   "cell_type": "markdown",
   "id": "c58388eb",
   "metadata": {},
   "source": [
    "## ALL DONE!\n",
    "\n",
    "For using the model and creating a submission file, follow the notebook **Create Public Upload CSV.ipynb**"
   ]
  },
  {
   "cell_type": "markdown",
   "id": "9436139c",
   "metadata": {},
   "source": [
    "# End of Tutorial\n",
    "\n",
    "You are free to use more modern NN architectures, a better pre-processing, feature extraction methods to achieve much better accuracy!"
   ]
  },
  {
   "cell_type": "code",
   "execution_count": null,
   "id": "fc41e067",
   "metadata": {},
   "outputs": [],
   "source": []
  }
 ],
 "metadata": {
  "kernelspec": {
   "display_name": "Python 3 (ipykernel)",
   "language": "python",
   "name": "python3"
  },
  "language_info": {
   "codemirror_mode": {
    "name": "ipython",
    "version": 3
   },
   "file_extension": ".py",
   "mimetype": "text/x-python",
   "name": "python",
   "nbconvert_exporter": "python",
   "pygments_lexer": "ipython3",
   "version": "3.8.18"
  }
 },
 "nbformat": 4,
 "nbformat_minor": 5
}

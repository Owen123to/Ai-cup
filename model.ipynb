{
 "cells": [
  {
   "cell_type": "code",
   "execution_count": 1,
   "id": "78efc171",
   "metadata": {},
   "outputs": [],
   "source": [
    "import tensorflow as tf\n",
    "from tensorflow import keras\n",
    "from tensorflow.keras.models import Model\n",
    "from tensorflow.keras.layers import Input, Conv2D, ReLU, Flatten, Dense, Softmax\n",
    "from tensorflow.keras.optimizers import Adam\n",
    "from tensorflow.keras.utils import Sequence\n",
    "import numpy as np\n",
    "import pandas as pd\n",
    "from sklearn.model_selection import train_test_split"
   ]
  },
  {
   "cell_type": "code",
   "execution_count": 2,
   "id": "1030f98b",
   "metadata": {},
   "outputs": [],
   "source": [
    "df = open(\"?????????????????????\").read().splitlines()\n",
    "games = [i.split(',',2)[-1] for i in df]"
   ]
  },
  {
   "cell_type": "code",
   "execution_count": 18,
   "id": "0de1fe86",
   "metadata": {},
   "outputs": [],
   "source": [
    "chars = 'abcdefghijklmnopqrs'\n",
    "coordinates = {k:v for v,k in enumerate(chars)}\n",
    "chartonumbers = {k:v for k,v in enumerate(chars)}"
   ]
  },
  {
   "cell_type": "code",
   "execution_count": 19,
   "id": "9b307e03",
   "metadata": {},
   "outputs": [],
   "source": [
    "def prepare_input(moves):\n",
    "    x = np.zeros((19,19,4))\n",
    "    for move in moves:\n",
    "        color = move[0]\n",
    "        column = coordinates[move[2]]\n",
    "        row = coordinates[move[3]]\n",
    "        if color == 'B':\n",
    "            x[row,column,0] = 1\n",
    "            x[row,column,2] = 1\n",
    "        if color == 'W':\n",
    "            x[row,column,1] = 1\n",
    "            x[row,column,2] = 1\n",
    "    if moves:\n",
    "        last_move_column = coordinates[moves[-1][2]]\n",
    "        last_move_row = coordinates[moves[-1][3]]\n",
    "        x[row,column,3] = 1\n",
    "    x[:,:,2] = np.where(x[:,:,2] == 0, 1, 0)\n",
    "    return x\n",
    "\n",
    "def prepare_label(move):\n",
    "    column = coordinates[move[2]]\n",
    "    row = coordinates[move[3]]\n",
    "    return column*19+row"
   ]
  },
  {
   "cell_type": "code",
   "execution_count": 20,
   "id": "930ab1fb",
   "metadata": {},
   "outputs": [],
   "source": [
    "n_games = 0\n",
    "n_moves = 0\n",
    "for game in games:\n",
    "    n_games += 1\n",
    "    moves_list = game.split(',')\n",
    "    for move in moves_list:\n",
    "        n_moves += 1"
   ]
  },
  {
   "cell_type": "code",
   "execution_count": null,
   "id": "71a640e8",
   "metadata": {},
   "outputs": [],
   "source": [
    "def data_generator(games, batch_size):\n",
    "    def generator():\n",
    "        x_batch = [] # Initialize data batch\n",
    "        y_batch = [] # Initialize target batch\n",
    "        for game in games: # Iterate through games\n",
    "            moves_list = game.split(',')\n",
    "            for count, move in enumerate(moves_list):\n",
    "                x_batch.append(prepare_input(moves_list[:count]))\n",
    "                y_batch.append(prepare_label(moves_list[count]))\n",
    "                if len(x_batch) == batch_size: # Yield when reached batch size\n",
    "                    yield np.array(x_batch), tf.one_hot(np.array(y_batch), depth=19*19)\n",
    "                    x_batch = []\n",
    "                    y_batch = []\n",
    "    return generator\n",
    "\n",
    "batch_size = 128\n",
    "generator = data_generator(games, batch_size)\n",
    "dataset = tf.data.Dataset.from_generator(generator, \n",
    "                                         output_types=(tf.float32, tf.float32),\n",
    "                                         output_shapes=(tf.TensorShape((batch_size,19,19,4)),tf.TensorShape((batch_size,361)))\n",
    "                                        )\n",
    "dataset = dataset.prefetch(tf.data.AUTOTUNE)"
   ]
  }
 ],
 "metadata": {
  "kernelspec": {
   "display_name": "Python 3 (ipykernel)",
   "language": "python",
   "name": "python3"
  },
  "language_info": {
   "codemirror_mode": {
    "name": "ipython",
    "version": 3
   },
   "file_extension": ".py",
   "mimetype": "text/x-python",
   "name": "python",
   "nbconvert_exporter": "python",
   "pygments_lexer": "ipython3",
   "version": "3.9.16"
  }
 },
 "nbformat": 4,
 "nbformat_minor": 5
}

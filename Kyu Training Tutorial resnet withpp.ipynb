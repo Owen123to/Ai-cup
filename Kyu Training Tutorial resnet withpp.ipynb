{
 "cells": [
  {
   "cell_type": "code",
   "execution_count": 1,
   "id": "bb173248",
   "metadata": {},
   "outputs": [],
   "source": [
    "import tensorflow as tf\n",
    "from tensorflow.keras.models import Model, load_model\n",
    "# from tensorflow.keras.layers import Conv2D, ReLU, Flatten, Dense, Softmax, BatchNormalization, Input, ZeroPadding2D, Activation\n",
    "from tensorflow.keras.layers import Input, Conv2D, ReLU, BatchNormalization, Add, MaxPooling2D, Flatten, Dense, Softmax, Activation, GlobalAveragePooling2D\n",
    "from tensorflow.keras.optimizers import Adam, Nadam, SGD\n",
    "import keras\n",
    "import numpy as np\n",
    "import h5py\n",
    "import random"
   ]
  },
  {
   "cell_type": "code",
   "execution_count": 2,
   "id": "62384345",
   "metadata": {},
   "outputs": [
    {
     "name": "stdout",
     "output_type": "stream",
     "text": [
      "WARNING:tensorflow:From C:\\Users\\kenny\\AppData\\Local\\Temp\\ipykernel_3840\\3793539530.py:2: is_gpu_available (from tensorflow.python.framework.test_util) is deprecated and will be removed in a future version.\n",
      "Instructions for updating:\n",
      "Use `tf.config.list_physical_devices('GPU')` instead.\n"
     ]
    },
    {
     "data": {
      "text/plain": [
       "True"
      ]
     },
     "execution_count": 2,
     "metadata": {},
     "output_type": "execute_result"
    }
   ],
   "source": [
    "tf.__version__\n",
    "tf.test.is_gpu_available()"
   ]
  },
  {
   "cell_type": "code",
   "execution_count": 3,
   "id": "a9bb0ab0",
   "metadata": {},
   "outputs": [],
   "source": [
    "def dataGenerator(start_index, stop_index):\n",
    "    def generator():\n",
    "        indexes = shuff[start_index : stop_index]\n",
    "        xss = []\n",
    "        yss = []\n",
    "        roun = 1426230\n",
    "#         for ind in range(roun):\n",
    "#             xss.append(xs[indexes[ind]])\n",
    "#             yss.append(ys[indexes[ind]])\n",
    "        xss = xs[indexes[:roun]]\n",
    "#         print(xs[indexes[0],:,:,8])\n",
    "#         print(xss[0,:,:,8])\n",
    "        yss = ys[indexes[:roun]]\n",
    "        cnt = 0\n",
    "        d = 1\n",
    "        for i in range(len(indexes)):\n",
    "            x = np.array(xss[i % roun])\n",
    "            y = np.array(yss[i % roun])\n",
    "#         for i in indexes:\n",
    "#             x = np.array(xs[i])\n",
    "#             y = np.array(ys[i])\n",
    "#             x = np.moveaxis(x,0,-1)\n",
    "            yield x, y\n",
    "            cnt += 1\n",
    "            if cnt >= roun:\n",
    "                xss=[]\n",
    "                yss=[]\n",
    "                xss = xs[indexes[d * roun:d * roun + roun]]\n",
    "#                 xss=[]\n",
    "#                 yss=[]\n",
    "#                 for ind in range(roun):\n",
    "#                     xss.append(xs[indexes[d*roun + ind]])\n",
    "#                     yss.append(ys[indexes[d*roun + ind]])\n",
    "                yss = ys[indexes[d * roun:d * roun + roun]]\n",
    "                cnt = 0\n",
    "                d += 1\n",
    "    return generator"
   ]
  },
  {
   "cell_type": "code",
   "execution_count": 4,
   "id": "97b334aa",
   "metadata": {},
   "outputs": [
    {
     "name": "stdout",
     "output_type": "stream",
     "text": [
      "train_steps: 169592, val_steps: 42397\n"
     ]
    }
   ],
   "source": [
    "hdf5 = h5py.File('./hdf5/kyu_dataset.hdf5','r')\n",
    "# for j in range (0, 13):\n",
    "#     print(hdf5['xs'][50][j])\n",
    "xs = hdf5.get('Xs')\n",
    "ys = hdf5.get('Ys')\n",
    "batch_size = 64\n",
    "dataset_size = hdf5['Xs'].shape[0]\n",
    "val_start = 0.8\n",
    "val_stop = 1.0\n",
    "\n",
    "train_steps = int(dataset_size * (val_start)/batch_size)\n",
    "val_steps = int(dataset_size * (val_stop - val_start)/batch_size)\n",
    "print(f\"train_steps: {train_steps}, val_steps: {val_steps}\")\n",
    "shuff = np.arange(dataset_size)\n",
    "# np.random.shuffle(shuff)\n",
    "\n",
    "data_gen = dataGenerator(start_index = 0, stop_index = int(dataset_size * val_start)) # 90% of the complete dataset\n",
    "dataset = tf.data.Dataset.from_generator(data_gen, \n",
    "                                         output_types=(tf.dtypes.float32, tf.dtypes.int32),\n",
    "                                         output_shapes=(tf.TensorShape((19,19,19)),tf.TensorShape((1))))\n",
    "dataset = dataset.batch(batch_size, drop_remainder=True)\n",
    "dataset = dataset.prefetch(tf.data.AUTOTUNE)\n",
    "\n",
    "data_gen_valid = dataGenerator(start_index=int(dataset_size * val_start), # 10% of the complete dataset\n",
    "                               stop_index=int(dataset_size * val_stop))\n",
    "dataset_valid = tf.data.Dataset.from_generator(data_gen_valid, \n",
    "                                         output_types=(tf.dtypes.float32, tf.dtypes.int32),\n",
    "                                         output_shapes=(tf.TensorShape((19,19,19)),tf.TensorShape((1))))\n",
    "dataset_valid = dataset_valid.batch(batch_size, drop_remainder=True)\n",
    "dataset_valid = dataset_valid.prefetch(tf.data.AUTOTUNE)\n"
   ]
  },
  {
   "cell_type": "code",
   "execution_count": 5,
   "id": "39553a34",
   "metadata": {},
   "outputs": [
    {
     "name": "stdout",
     "output_type": "stream",
     "text": [
      "Model: \"model\"\n",
      "__________________________________________________________________________________________________\n",
      " Layer (type)                   Output Shape         Param #     Connected to                     \n",
      "==================================================================================================\n",
      " input_1 (InputLayer)           [(None, 19, 19, 19)  0           []                               \n",
      "                                ]                                                                 \n",
      "                                                                                                  \n",
      " conv5x5 (Conv2D)               (None, 19, 19, 64)   30464       ['input_1[0][0]']                \n",
      "                                                                                                  \n",
      " conv1x1 (Conv2D)               (None, 19, 19, 64)   1280        ['input_1[0][0]']                \n",
      "                                                                                                  \n",
      " add (Add)                      (None, 19, 19, 64)   0           ['conv5x5[0][0]',                \n",
      "                                                                  'conv1x1[0][0]']                \n",
      "                                                                                                  \n",
      " re_lu (ReLU)                   (None, 19, 19, 64)   0           ['add[0][0]']                    \n",
      "                                                                                                  \n",
      " conv2d (Conv2D)                (None, 19, 19, 64)   36928       ['re_lu[0][0]']                  \n",
      "                                                                                                  \n",
      " re_lu_1 (ReLU)                 (None, 19, 19, 64)   0           ['conv2d[0][0]']                 \n",
      "                                                                                                  \n",
      " conv2d_1 (Conv2D)              (None, 19, 19, 64)   36928       ['re_lu_1[0][0]']                \n",
      "                                                                                                  \n",
      " add_1 (Add)                    (None, 19, 19, 64)   0           ['re_lu[0][0]',                  \n",
      "                                                                  'conv2d_1[0][0]']               \n",
      "                                                                                                  \n",
      " re_lu_2 (ReLU)                 (None, 19, 19, 64)   0           ['add_1[0][0]']                  \n",
      "                                                                                                  \n",
      " conv2d_2 (Conv2D)              (None, 19, 19, 64)   36928       ['re_lu_2[0][0]']                \n",
      "                                                                                                  \n",
      " re_lu_3 (ReLU)                 (None, 19, 19, 64)   0           ['conv2d_2[0][0]']               \n",
      "                                                                                                  \n",
      " conv2d_3 (Conv2D)              (None, 19, 19, 64)   36928       ['re_lu_3[0][0]']                \n",
      "                                                                                                  \n",
      " add_2 (Add)                    (None, 19, 19, 64)   0           ['re_lu_2[0][0]',                \n",
      "                                                                  'conv2d_3[0][0]']               \n",
      "                                                                                                  \n",
      " re_lu_4 (ReLU)                 (None, 19, 19, 64)   0           ['add_2[0][0]']                  \n",
      "                                                                                                  \n",
      " conv2d_4 (Conv2D)              (None, 19, 19, 64)   36928       ['re_lu_4[0][0]']                \n",
      "                                                                                                  \n",
      " re_lu_5 (ReLU)                 (None, 19, 19, 64)   0           ['conv2d_4[0][0]']               \n",
      "                                                                                                  \n",
      " conv2d_5 (Conv2D)              (None, 19, 19, 64)   36928       ['re_lu_5[0][0]']                \n",
      "                                                                                                  \n",
      " add_3 (Add)                    (None, 19, 19, 64)   0           ['re_lu_4[0][0]',                \n",
      "                                                                  'conv2d_5[0][0]']               \n",
      "                                                                                                  \n",
      " re_lu_6 (ReLU)                 (None, 19, 19, 64)   0           ['add_3[0][0]']                  \n",
      "                                                                                                  \n",
      " conv2d_6 (Conv2D)              (None, 19, 19, 64)   36928       ['re_lu_6[0][0]']                \n",
      "                                                                                                  \n",
      " re_lu_7 (ReLU)                 (None, 19, 19, 64)   0           ['conv2d_6[0][0]']               \n",
      "                                                                                                  \n",
      " conv2d_7 (Conv2D)              (None, 19, 19, 64)   36928       ['re_lu_7[0][0]']                \n",
      "                                                                                                  \n",
      " add_4 (Add)                    (None, 19, 19, 64)   0           ['re_lu_6[0][0]',                \n",
      "                                                                  'conv2d_7[0][0]']               \n",
      "                                                                                                  \n",
      " re_lu_8 (ReLU)                 (None, 19, 19, 64)   0           ['add_4[0][0]']                  \n",
      "                                                                                                  \n",
      " conv2d_8 (Conv2D)              (None, 19, 19, 64)   36928       ['re_lu_8[0][0]']                \n",
      "                                                                                                  \n",
      " re_lu_9 (ReLU)                 (None, 19, 19, 64)   0           ['conv2d_8[0][0]']               \n",
      "                                                                                                  \n",
      " conv2d_9 (Conv2D)              (None, 19, 19, 64)   36928       ['re_lu_9[0][0]']                \n",
      "                                                                                                  \n",
      " add_5 (Add)                    (None, 19, 19, 64)   0           ['re_lu_8[0][0]',                \n",
      "                                                                  'conv2d_9[0][0]']               \n",
      "                                                                                                  \n",
      " re_lu_10 (ReLU)                (None, 19, 19, 64)   0           ['add_5[0][0]']                  \n",
      "                                                                                                  \n",
      " conv2d_10 (Conv2D)             (None, 19, 19, 64)   36928       ['re_lu_10[0][0]']               \n",
      "                                                                                                  \n",
      " re_lu_11 (ReLU)                (None, 19, 19, 64)   0           ['conv2d_10[0][0]']              \n",
      "                                                                                                  \n",
      " conv2d_11 (Conv2D)             (None, 19, 19, 64)   36928       ['re_lu_11[0][0]']               \n",
      "                                                                                                  \n",
      " add_6 (Add)                    (None, 19, 19, 64)   0           ['re_lu_10[0][0]',               \n",
      "                                                                  'conv2d_11[0][0]']              \n",
      "                                                                                                  \n",
      " re_lu_12 (ReLU)                (None, 19, 19, 64)   0           ['add_6[0][0]']                  \n",
      "                                                                                                  \n",
      " conv2d_12 (Conv2D)             (None, 19, 19, 64)   36928       ['re_lu_12[0][0]']               \n",
      "                                                                                                  \n"
     ]
    },
    {
     "name": "stdout",
     "output_type": "stream",
     "text": [
      " re_lu_13 (ReLU)                (None, 19, 19, 64)   0           ['conv2d_12[0][0]']              \n",
      "                                                                                                  \n",
      " conv2d_13 (Conv2D)             (None, 19, 19, 64)   36928       ['re_lu_13[0][0]']               \n",
      "                                                                                                  \n",
      " add_7 (Add)                    (None, 19, 19, 64)   0           ['re_lu_12[0][0]',               \n",
      "                                                                  'conv2d_13[0][0]']              \n",
      "                                                                                                  \n",
      " re_lu_14 (ReLU)                (None, 19, 19, 64)   0           ['add_7[0][0]']                  \n",
      "                                                                                                  \n",
      " conv2d_14 (Conv2D)             (None, 19, 19, 64)   36928       ['re_lu_14[0][0]']               \n",
      "                                                                                                  \n",
      " re_lu_15 (ReLU)                (None, 19, 19, 64)   0           ['conv2d_14[0][0]']              \n",
      "                                                                                                  \n",
      " conv2d_15 (Conv2D)             (None, 19, 19, 64)   36928       ['re_lu_15[0][0]']               \n",
      "                                                                                                  \n",
      " add_8 (Add)                    (None, 19, 19, 64)   0           ['re_lu_14[0][0]',               \n",
      "                                                                  'conv2d_15[0][0]']              \n",
      "                                                                                                  \n",
      " re_lu_16 (ReLU)                (None, 19, 19, 64)   0           ['add_8[0][0]']                  \n",
      "                                                                                                  \n",
      " conv2d_16 (Conv2D)             (None, 19, 19, 64)   36928       ['re_lu_16[0][0]']               \n",
      "                                                                                                  \n",
      " re_lu_17 (ReLU)                (None, 19, 19, 64)   0           ['conv2d_16[0][0]']              \n",
      "                                                                                                  \n",
      " conv2d_17 (Conv2D)             (None, 19, 19, 64)   36928       ['re_lu_17[0][0]']               \n",
      "                                                                                                  \n",
      " add_9 (Add)                    (None, 19, 19, 64)   0           ['re_lu_16[0][0]',               \n",
      "                                                                  'conv2d_17[0][0]']              \n",
      "                                                                                                  \n",
      " re_lu_18 (ReLU)                (None, 19, 19, 64)   0           ['add_9[0][0]']                  \n",
      "                                                                                                  \n",
      " conv2d_18 (Conv2D)             (None, 19, 19, 64)   36928       ['re_lu_18[0][0]']               \n",
      "                                                                                                  \n",
      " re_lu_19 (ReLU)                (None, 19, 19, 64)   0           ['conv2d_18[0][0]']              \n",
      "                                                                                                  \n",
      " conv2d_19 (Conv2D)             (None, 19, 19, 64)   36928       ['re_lu_19[0][0]']               \n",
      "                                                                                                  \n",
      " add_10 (Add)                   (None, 19, 19, 64)   0           ['re_lu_18[0][0]',               \n",
      "                                                                  'conv2d_19[0][0]']              \n",
      "                                                                                                  \n",
      " re_lu_20 (ReLU)                (None, 19, 19, 64)   0           ['add_10[0][0]']                 \n",
      "                                                                                                  \n",
      " conv2d_20 (Conv2D)             (None, 19, 19, 64)   36928       ['re_lu_20[0][0]']               \n",
      "                                                                                                  \n",
      " re_lu_21 (ReLU)                (None, 19, 19, 64)   0           ['conv2d_20[0][0]']              \n",
      "                                                                                                  \n",
      " conv2d_21 (Conv2D)             (None, 19, 19, 64)   36928       ['re_lu_21[0][0]']               \n",
      "                                                                                                  \n",
      " add_11 (Add)                   (None, 19, 19, 64)   0           ['re_lu_20[0][0]',               \n",
      "                                                                  'conv2d_21[0][0]']              \n",
      "                                                                                                  \n",
      " re_lu_22 (ReLU)                (None, 19, 19, 64)   0           ['add_11[0][0]']                 \n",
      "                                                                                                  \n",
      " conv2d_22 (Conv2D)             (None, 19, 19, 64)   36928       ['re_lu_22[0][0]']               \n",
      "                                                                                                  \n",
      " re_lu_23 (ReLU)                (None, 19, 19, 64)   0           ['conv2d_22[0][0]']              \n",
      "                                                                                                  \n",
      " conv2d_23 (Conv2D)             (None, 19, 19, 64)   36928       ['re_lu_23[0][0]']               \n",
      "                                                                                                  \n",
      " add_12 (Add)                   (None, 19, 19, 64)   0           ['re_lu_22[0][0]',               \n",
      "                                                                  'conv2d_23[0][0]']              \n",
      "                                                                                                  \n",
      " re_lu_24 (ReLU)                (None, 19, 19, 64)   0           ['add_12[0][0]']                 \n",
      "                                                                                                  \n",
      " conv2d_24 (Conv2D)             (None, 19, 19, 64)   36928       ['re_lu_24[0][0]']               \n",
      "                                                                                                  \n",
      " re_lu_25 (ReLU)                (None, 19, 19, 64)   0           ['conv2d_24[0][0]']              \n",
      "                                                                                                  \n",
      " conv2d_25 (Conv2D)             (None, 19, 19, 64)   36928       ['re_lu_25[0][0]']               \n",
      "                                                                                                  \n",
      " add_13 (Add)                   (None, 19, 19, 64)   0           ['re_lu_24[0][0]',               \n",
      "                                                                  'conv2d_25[0][0]']              \n",
      "                                                                                                  \n",
      " re_lu_26 (ReLU)                (None, 19, 19, 64)   0           ['add_13[0][0]']                 \n",
      "                                                                                                  \n",
      " conv2d_26 (Conv2D)             (None, 19, 19, 64)   36928       ['re_lu_26[0][0]']               \n",
      "                                                                                                  \n",
      " re_lu_27 (ReLU)                (None, 19, 19, 64)   0           ['conv2d_26[0][0]']              \n",
      "                                                                                                  \n",
      " conv2d_27 (Conv2D)             (None, 19, 19, 64)   36928       ['re_lu_27[0][0]']               \n",
      "                                                                                                  \n",
      " add_14 (Add)                   (None, 19, 19, 64)   0           ['re_lu_26[0][0]',               \n",
      "                                                                  'conv2d_27[0][0]']              \n"
     ]
    },
    {
     "name": "stdout",
     "output_type": "stream",
     "text": [
      "                                                                                                  \n",
      " re_lu_28 (ReLU)                (None, 19, 19, 64)   0           ['add_14[0][0]']                 \n",
      "                                                                                                  \n",
      " conv2d_28 (Conv2D)             (None, 19, 19, 64)   36928       ['re_lu_28[0][0]']               \n",
      "                                                                                                  \n",
      " re_lu_29 (ReLU)                (None, 19, 19, 64)   0           ['conv2d_28[0][0]']              \n",
      "                                                                                                  \n",
      " conv2d_29 (Conv2D)             (None, 19, 19, 64)   36928       ['re_lu_29[0][0]']               \n",
      "                                                                                                  \n",
      " add_15 (Add)                   (None, 19, 19, 64)   0           ['re_lu_28[0][0]',               \n",
      "                                                                  'conv2d_29[0][0]']              \n",
      "                                                                                                  \n",
      " re_lu_30 (ReLU)                (None, 19, 19, 64)   0           ['add_15[0][0]']                 \n",
      "                                                                                                  \n",
      " conv2d_30 (Conv2D)             (None, 19, 19, 64)   36928       ['re_lu_30[0][0]']               \n",
      "                                                                                                  \n",
      " re_lu_31 (ReLU)                (None, 19, 19, 64)   0           ['conv2d_30[0][0]']              \n",
      "                                                                                                  \n",
      " conv2d_31 (Conv2D)             (None, 19, 19, 64)   36928       ['re_lu_31[0][0]']               \n",
      "                                                                                                  \n",
      " add_16 (Add)                   (None, 19, 19, 64)   0           ['re_lu_30[0][0]',               \n",
      "                                                                  'conv2d_31[0][0]']              \n",
      "                                                                                                  \n",
      " re_lu_32 (ReLU)                (None, 19, 19, 64)   0           ['add_16[0][0]']                 \n",
      "                                                                                                  \n",
      " conv2d_32 (Conv2D)             (None, 19, 19, 64)   36928       ['re_lu_32[0][0]']               \n",
      "                                                                                                  \n",
      " re_lu_33 (ReLU)                (None, 19, 19, 64)   0           ['conv2d_32[0][0]']              \n",
      "                                                                                                  \n",
      " conv2d_33 (Conv2D)             (None, 19, 19, 64)   36928       ['re_lu_33[0][0]']               \n",
      "                                                                                                  \n",
      " add_17 (Add)                   (None, 19, 19, 64)   0           ['re_lu_32[0][0]',               \n",
      "                                                                  'conv2d_33[0][0]']              \n",
      "                                                                                                  \n",
      " re_lu_34 (ReLU)                (None, 19, 19, 64)   0           ['add_17[0][0]']                 \n",
      "                                                                                                  \n",
      " global_average_pooling2d (Glob  (None, 64)          0           ['re_lu_34[0][0]']               \n",
      " alAveragePooling2D)                                                                              \n",
      "                                                                                                  \n",
      " dense (Dense)                  (None, 361)          23465       ['global_average_pooling2d[0][0]'\n",
      "                                                                 ]                                \n",
      "                                                                                                  \n",
      "==================================================================================================\n",
      "Total params: 1,310,761\n",
      "Trainable params: 1,310,761\n",
      "Non-trainable params: 0\n",
      "__________________________________________________________________________________________________\n"
     ]
    }
   ],
   "source": [
    "def residual_block(x, filters, kernel_size):\n",
    "    y = Conv2D(kernel_size=kernel_size,\n",
    "               filters=filters,\n",
    "               padding='same')(x)\n",
    "    y = ReLU()(y)\n",
    "    y = Conv2D(kernel_size=kernel_size,\n",
    "               filters=filters,\n",
    "               padding='same')(y)\n",
    "    output = Add()([x,y])\n",
    "    output = ReLU()(output)\n",
    "    return output\n",
    "\n",
    "def residual_block_s(x, filters, kernel_size):\n",
    "    y = Conv2D(kernel_size=kernel_size,\n",
    "               filters=filters,\n",
    "               padding='same')(x)\n",
    "    y = ReLU()(y)\n",
    "    y = Conv2D(kernel_size=kernel_size,\n",
    "               filters=filters,\n",
    "               padding='same')(y)\n",
    "    x = Conv2D(kernel_size = 1,\n",
    "              filters=filters)(x)\n",
    "    output = Add()([x,y])\n",
    "    output = ReLU()(output)\n",
    "    return output\n",
    "\n",
    "def go_res():\n",
    "    inputs = Input(shape=(19, 19, 19))\n",
    "    conv5x5 = Conv2D(kernel_size=5,\n",
    "                     filters=64,\n",
    "                     padding=\"same\",\n",
    "                     name='conv5x5')(inputs)\n",
    "    conv1x1 = Conv2D(kernel_size=1,\n",
    "                     filters=64,\n",
    "                     padding=\"same\",\n",
    "                     name='conv1x1')(inputs)\n",
    "    outputs = Add()([conv5x5, conv1x1])\n",
    "    outputs = ReLU()(outputs)\n",
    "    outputs = residual_block(x=outputs,\n",
    "                             filters=64,\n",
    "                             kernel_size=3)\n",
    "    outputs = residual_block(x=outputs,\n",
    "                             filters=64,\n",
    "                             kernel_size=3)\n",
    "    outputs = residual_block(x=outputs,\n",
    "                             filters=64,\n",
    "                             kernel_size=3)\n",
    "    outputs = residual_block(x=outputs,#\n",
    "                             filters=64,\n",
    "                             kernel_size=3)\n",
    "    outputs = residual_block(x=outputs,\n",
    "                             filters=64,\n",
    "                             kernel_size=3)\n",
    "    outputs = residual_block(x=outputs,\n",
    "                             filters=64,\n",
    "                             kernel_size=3)\n",
    "    outputs = residual_block(x=outputs,\n",
    "                             filters=64,\n",
    "                             kernel_size=3)\n",
    "    outputs = residual_block(x=outputs,\n",
    "                             filters=64,\n",
    "                             kernel_size=3)\n",
    "    outputs = residual_block(x=outputs,\n",
    "                             filters=64,\n",
    "                             kernel_size=3)\n",
    "    outputs = residual_block(x=outputs,\n",
    "                             filters=64,\n",
    "                             kernel_size=3)\n",
    "    outputs = residual_block(x=outputs,\n",
    "                             filters=64,\n",
    "                             kernel_size=3)\n",
    "    outputs = residual_block(x=outputs,\n",
    "                             filters=64,\n",
    "                             kernel_size=3)\n",
    "    outputs = residual_block(x=outputs,\n",
    "                             filters=64,\n",
    "                             kernel_size=3)\n",
    "    outputs = residual_block(x=outputs,#\n",
    "                             filters=64,\n",
    "                             kernel_size=3)\n",
    "    outputs = residual_block(x=outputs,\n",
    "                             filters=64,\n",
    "                             kernel_size=3)\n",
    "    outputs = residual_block(x=outputs,\n",
    "                             filters=64,\n",
    "                             kernel_size=3)\n",
    "    outputs = residual_block(x=outputs,\n",
    "                             filters=64,\n",
    "                             kernel_size=3)\n",
    "#     outputs = Conv2D(kernel_size=3,\n",
    "#                      filters=1,\n",
    "#                      padding=\"same\")(outputs)\n",
    "#     outputs = ReLU()(outputs)\n",
    "#     outputs = Flatten()(outputs)\n",
    "#     outputs = Softmax()(outputs)\n",
    "    outputs = GlobalAveragePooling2D()(outputs)\n",
    "    outputs = Dense(361, activation='softmax')(outputs)\n",
    "    model = Model(inputs, outputs)\n",
    "    \n",
    "    opt = Adam(learning_rate=0.0001)\n",
    "    model.compile(optimizer=opt,\n",
    "                  loss='sparse_categorical_crossentropy',\n",
    "                  metrics=['accuracy'])\n",
    "    return model\n",
    "\n",
    "\n",
    "model = go_res()\n",
    "model.summary()"
   ]
  },
  {
   "cell_type": "code",
   "execution_count": 6,
   "id": "c83b22c1",
   "metadata": {},
   "outputs": [],
   "source": [
    "# callback1 = tf.keras.callbacks.EarlyStopping(monitor='val_loss', min_delta=0, \n",
    "#                                 patience=1, verbose=0, mode='min'\n",
    "#                                  , restore_best_weights=True)\n",
    "callback1 = tf.keras.callbacks.EarlyStopping(monitor='val_accuracy', min_delta=0, \n",
    "                                patience=3, verbose=0, mode='max'\n",
    "                                 , restore_best_weights=True)\n",
    "callback2 = keras.callbacks.ModelCheckpoint('./models/model_kyu_pp_{epoch:02d}_{val_accuracy:.3f}_2.h5', \n",
    "                                            monitor='val_accuracy', \n",
    "                                            verbose=0, save_best_only=False, save_weights_only=False, \n",
    "                                            mode='max', save_freq=\"epoch\")"
   ]
  },
  {
   "cell_type": "code",
   "execution_count": null,
   "id": "47663b26",
   "metadata": {},
   "outputs": [],
   "source": []
  },
  {
   "cell_type": "code",
   "execution_count": null,
   "id": "4a4d7f1c",
   "metadata": {
    "scrolled": true
   },
   "outputs": [
    {
     "name": "stdout",
     "output_type": "stream",
     "text": [
      "Epoch 1/500\n",
      "169592/169592 [==============================] - 7515s 44ms/step - loss: 2.6997 - accuracy: 0.4459 - val_loss: 2.6076 - val_accuracy: 0.4428\n",
      "Epoch 2/500\n",
      "169592/169592 [==============================] - 9260s 52ms/step - loss: 2.1694 - accuracy: 0.5124 - val_loss: 2.4526 - val_accuracy: 0.4534\n",
      "Epoch 3/500\n",
      "169592/169592 [==============================] - 10120s 57ms/step - loss: 2.0611 - accuracy: 0.5230 - val_loss: 2.4074 - val_accuracy: 0.4587\n",
      "Epoch 4/500\n",
      "  1385/169592 [..............................] - ETA: 9:11:09 - loss: 2.0700 - accuracy: 0.5117"
     ]
    }
   ],
   "source": [
    "history = model.fit(\n",
    "    dataset,\n",
    "    epochs = 500,\n",
    "#     steps_per_epoch = train_steps,\n",
    "    validation_data = dataset_valid,\n",
    "#     validation_steps = val_steps,\n",
    "    callbacks = [callback1, callback2]\n",
    ")"
   ]
  },
  {
   "cell_type": "code",
   "execution_count": 7,
   "id": "2aaddf0b",
   "metadata": {},
   "outputs": [],
   "source": [
    "model.save('./models/model_kyu_resnet50_withpp.h5')"
   ]
  },
  {
   "cell_type": "code",
   "execution_count": 8,
   "id": "ee70e090",
   "metadata": {},
   "outputs": [
    {
     "name": "stdout",
     "output_type": "stream",
     "text": [
      "11374/21176 [===============>..............] - ETA: 43:34 - loss: 1.6519 - accuracy: 0.5500"
     ]
    },
    {
     "ename": "KeyboardInterrupt",
     "evalue": "",
     "output_type": "error",
     "traceback": [
      "\u001b[1;31m---------------------------------------------------------------------------\u001b[0m",
      "\u001b[1;31mKeyboardInterrupt\u001b[0m                         Traceback (most recent call last)",
      "Cell \u001b[1;32mIn[8], line 1\u001b[0m\n\u001b[1;32m----> 1\u001b[0m result \u001b[38;5;241m=\u001b[39m \u001b[43mmodel\u001b[49m\u001b[38;5;241;43m.\u001b[39;49m\u001b[43mevaluate\u001b[49m\u001b[43m(\u001b[49m\n\u001b[0;32m      2\u001b[0m \u001b[43m    \u001b[49m\u001b[43mdataset_valid\u001b[49m\u001b[43m,\u001b[49m\n\u001b[0;32m      3\u001b[0m \u001b[43m    \u001b[49m\u001b[43msteps\u001b[49m\u001b[43m \u001b[49m\u001b[38;5;241;43m=\u001b[39;49m\u001b[43m \u001b[49m\u001b[43mval_steps\u001b[49m\n\u001b[0;32m      4\u001b[0m \u001b[43m)\u001b[49m\n",
      "File \u001b[1;32m~\\AppData\\Local\\anaconda3\\envs\\tensorflow2_9_1\\lib\\site-packages\\keras\\utils\\traceback_utils.py:64\u001b[0m, in \u001b[0;36mfilter_traceback.<locals>.error_handler\u001b[1;34m(*args, **kwargs)\u001b[0m\n\u001b[0;32m     62\u001b[0m filtered_tb \u001b[38;5;241m=\u001b[39m \u001b[38;5;28;01mNone\u001b[39;00m\n\u001b[0;32m     63\u001b[0m \u001b[38;5;28;01mtry\u001b[39;00m:\n\u001b[1;32m---> 64\u001b[0m   \u001b[38;5;28;01mreturn\u001b[39;00m \u001b[43mfn\u001b[49m\u001b[43m(\u001b[49m\u001b[38;5;241;43m*\u001b[39;49m\u001b[43margs\u001b[49m\u001b[43m,\u001b[49m\u001b[43m \u001b[49m\u001b[38;5;241;43m*\u001b[39;49m\u001b[38;5;241;43m*\u001b[39;49m\u001b[43mkwargs\u001b[49m\u001b[43m)\u001b[49m\n\u001b[0;32m     65\u001b[0m \u001b[38;5;28;01mexcept\u001b[39;00m \u001b[38;5;167;01mException\u001b[39;00m \u001b[38;5;28;01mas\u001b[39;00m e:  \u001b[38;5;66;03m# pylint: disable=broad-except\u001b[39;00m\n\u001b[0;32m     66\u001b[0m   filtered_tb \u001b[38;5;241m=\u001b[39m _process_traceback_frames(e\u001b[38;5;241m.\u001b[39m__traceback__)\n",
      "File \u001b[1;32m~\\AppData\\Local\\anaconda3\\envs\\tensorflow2_9_1\\lib\\site-packages\\keras\\engine\\training.py:1756\u001b[0m, in \u001b[0;36mModel.evaluate\u001b[1;34m(self, x, y, batch_size, verbose, sample_weight, steps, callbacks, max_queue_size, workers, use_multiprocessing, return_dict, **kwargs)\u001b[0m\n\u001b[0;32m   1754\u001b[0m \u001b[38;5;28;01mwith\u001b[39;00m tf\u001b[38;5;241m.\u001b[39mprofiler\u001b[38;5;241m.\u001b[39mexperimental\u001b[38;5;241m.\u001b[39mTrace(\u001b[38;5;124m'\u001b[39m\u001b[38;5;124mtest\u001b[39m\u001b[38;5;124m'\u001b[39m, step_num\u001b[38;5;241m=\u001b[39mstep, _r\u001b[38;5;241m=\u001b[39m\u001b[38;5;241m1\u001b[39m):\n\u001b[0;32m   1755\u001b[0m   callbacks\u001b[38;5;241m.\u001b[39mon_test_batch_begin(step)\n\u001b[1;32m-> 1756\u001b[0m   tmp_logs \u001b[38;5;241m=\u001b[39m \u001b[38;5;28;43mself\u001b[39;49m\u001b[38;5;241;43m.\u001b[39;49m\u001b[43mtest_function\u001b[49m\u001b[43m(\u001b[49m\u001b[43miterator\u001b[49m\u001b[43m)\u001b[49m\n\u001b[0;32m   1757\u001b[0m   \u001b[38;5;28;01mif\u001b[39;00m data_handler\u001b[38;5;241m.\u001b[39mshould_sync:\n\u001b[0;32m   1758\u001b[0m     context\u001b[38;5;241m.\u001b[39masync_wait()\n",
      "File \u001b[1;32m~\\AppData\\Local\\anaconda3\\envs\\tensorflow2_9_1\\lib\\site-packages\\tensorflow\\python\\util\\traceback_utils.py:150\u001b[0m, in \u001b[0;36mfilter_traceback.<locals>.error_handler\u001b[1;34m(*args, **kwargs)\u001b[0m\n\u001b[0;32m    148\u001b[0m filtered_tb \u001b[38;5;241m=\u001b[39m \u001b[38;5;28;01mNone\u001b[39;00m\n\u001b[0;32m    149\u001b[0m \u001b[38;5;28;01mtry\u001b[39;00m:\n\u001b[1;32m--> 150\u001b[0m   \u001b[38;5;28;01mreturn\u001b[39;00m \u001b[43mfn\u001b[49m\u001b[43m(\u001b[49m\u001b[38;5;241;43m*\u001b[39;49m\u001b[43margs\u001b[49m\u001b[43m,\u001b[49m\u001b[43m \u001b[49m\u001b[38;5;241;43m*\u001b[39;49m\u001b[38;5;241;43m*\u001b[39;49m\u001b[43mkwargs\u001b[49m\u001b[43m)\u001b[49m\n\u001b[0;32m    151\u001b[0m \u001b[38;5;28;01mexcept\u001b[39;00m \u001b[38;5;167;01mException\u001b[39;00m \u001b[38;5;28;01mas\u001b[39;00m e:\n\u001b[0;32m    152\u001b[0m   filtered_tb \u001b[38;5;241m=\u001b[39m _process_traceback_frames(e\u001b[38;5;241m.\u001b[39m__traceback__)\n",
      "File \u001b[1;32m~\\AppData\\Local\\anaconda3\\envs\\tensorflow2_9_1\\lib\\site-packages\\tensorflow\\python\\eager\\def_function.py:915\u001b[0m, in \u001b[0;36mFunction.__call__\u001b[1;34m(self, *args, **kwds)\u001b[0m\n\u001b[0;32m    912\u001b[0m compiler \u001b[38;5;241m=\u001b[39m \u001b[38;5;124m\"\u001b[39m\u001b[38;5;124mxla\u001b[39m\u001b[38;5;124m\"\u001b[39m \u001b[38;5;28;01mif\u001b[39;00m \u001b[38;5;28mself\u001b[39m\u001b[38;5;241m.\u001b[39m_jit_compile \u001b[38;5;28;01melse\u001b[39;00m \u001b[38;5;124m\"\u001b[39m\u001b[38;5;124mnonXla\u001b[39m\u001b[38;5;124m\"\u001b[39m\n\u001b[0;32m    914\u001b[0m \u001b[38;5;28;01mwith\u001b[39;00m OptionalXlaContext(\u001b[38;5;28mself\u001b[39m\u001b[38;5;241m.\u001b[39m_jit_compile):\n\u001b[1;32m--> 915\u001b[0m   result \u001b[38;5;241m=\u001b[39m \u001b[38;5;28;43mself\u001b[39;49m\u001b[38;5;241;43m.\u001b[39;49m\u001b[43m_call\u001b[49m\u001b[43m(\u001b[49m\u001b[38;5;241;43m*\u001b[39;49m\u001b[43margs\u001b[49m\u001b[43m,\u001b[49m\u001b[43m \u001b[49m\u001b[38;5;241;43m*\u001b[39;49m\u001b[38;5;241;43m*\u001b[39;49m\u001b[43mkwds\u001b[49m\u001b[43m)\u001b[49m\n\u001b[0;32m    917\u001b[0m new_tracing_count \u001b[38;5;241m=\u001b[39m \u001b[38;5;28mself\u001b[39m\u001b[38;5;241m.\u001b[39mexperimental_get_tracing_count()\n\u001b[0;32m    918\u001b[0m without_tracing \u001b[38;5;241m=\u001b[39m (tracing_count \u001b[38;5;241m==\u001b[39m new_tracing_count)\n",
      "File \u001b[1;32m~\\AppData\\Local\\anaconda3\\envs\\tensorflow2_9_1\\lib\\site-packages\\tensorflow\\python\\eager\\def_function.py:954\u001b[0m, in \u001b[0;36mFunction._call\u001b[1;34m(self, *args, **kwds)\u001b[0m\n\u001b[0;32m    951\u001b[0m \u001b[38;5;28mself\u001b[39m\u001b[38;5;241m.\u001b[39m_lock\u001b[38;5;241m.\u001b[39mrelease()\n\u001b[0;32m    952\u001b[0m \u001b[38;5;66;03m# In this case we have not created variables on the first call. So we can\u001b[39;00m\n\u001b[0;32m    953\u001b[0m \u001b[38;5;66;03m# run the first trace but we should fail if variables are created.\u001b[39;00m\n\u001b[1;32m--> 954\u001b[0m results \u001b[38;5;241m=\u001b[39m \u001b[38;5;28;43mself\u001b[39;49m\u001b[38;5;241;43m.\u001b[39;49m\u001b[43m_stateful_fn\u001b[49m\u001b[43m(\u001b[49m\u001b[38;5;241;43m*\u001b[39;49m\u001b[43margs\u001b[49m\u001b[43m,\u001b[49m\u001b[43m \u001b[49m\u001b[38;5;241;43m*\u001b[39;49m\u001b[38;5;241;43m*\u001b[39;49m\u001b[43mkwds\u001b[49m\u001b[43m)\u001b[49m\n\u001b[0;32m    955\u001b[0m \u001b[38;5;28;01mif\u001b[39;00m \u001b[38;5;28mself\u001b[39m\u001b[38;5;241m.\u001b[39m_created_variables \u001b[38;5;129;01mand\u001b[39;00m \u001b[38;5;129;01mnot\u001b[39;00m ALLOW_DYNAMIC_VARIABLE_CREATION:\n\u001b[0;32m    956\u001b[0m   \u001b[38;5;28;01mraise\u001b[39;00m \u001b[38;5;167;01mValueError\u001b[39;00m(\u001b[38;5;124m\"\u001b[39m\u001b[38;5;124mCreating variables on a non-first call to a function\u001b[39m\u001b[38;5;124m\"\u001b[39m\n\u001b[0;32m    957\u001b[0m                    \u001b[38;5;124m\"\u001b[39m\u001b[38;5;124m decorated with tf.function.\u001b[39m\u001b[38;5;124m\"\u001b[39m)\n",
      "File \u001b[1;32m~\\AppData\\Local\\anaconda3\\envs\\tensorflow2_9_1\\lib\\site-packages\\tensorflow\\python\\eager\\function.py:2453\u001b[0m, in \u001b[0;36mFunction.__call__\u001b[1;34m(self, *args, **kwargs)\u001b[0m\n\u001b[0;32m   2450\u001b[0m \u001b[38;5;28;01mwith\u001b[39;00m \u001b[38;5;28mself\u001b[39m\u001b[38;5;241m.\u001b[39m_lock:\n\u001b[0;32m   2451\u001b[0m   (graph_function,\n\u001b[0;32m   2452\u001b[0m    filtered_flat_args) \u001b[38;5;241m=\u001b[39m \u001b[38;5;28mself\u001b[39m\u001b[38;5;241m.\u001b[39m_maybe_define_function(args, kwargs)\n\u001b[1;32m-> 2453\u001b[0m \u001b[38;5;28;01mreturn\u001b[39;00m \u001b[43mgraph_function\u001b[49m\u001b[38;5;241;43m.\u001b[39;49m\u001b[43m_call_flat\u001b[49m\u001b[43m(\u001b[49m\n\u001b[0;32m   2454\u001b[0m \u001b[43m    \u001b[49m\u001b[43mfiltered_flat_args\u001b[49m\u001b[43m,\u001b[49m\u001b[43m \u001b[49m\u001b[43mcaptured_inputs\u001b[49m\u001b[38;5;241;43m=\u001b[39;49m\u001b[43mgraph_function\u001b[49m\u001b[38;5;241;43m.\u001b[39;49m\u001b[43mcaptured_inputs\u001b[49m\u001b[43m)\u001b[49m\n",
      "File \u001b[1;32m~\\AppData\\Local\\anaconda3\\envs\\tensorflow2_9_1\\lib\\site-packages\\tensorflow\\python\\eager\\function.py:1860\u001b[0m, in \u001b[0;36mConcreteFunction._call_flat\u001b[1;34m(self, args, captured_inputs, cancellation_manager)\u001b[0m\n\u001b[0;32m   1856\u001b[0m possible_gradient_type \u001b[38;5;241m=\u001b[39m gradients_util\u001b[38;5;241m.\u001b[39mPossibleTapeGradientTypes(args)\n\u001b[0;32m   1857\u001b[0m \u001b[38;5;28;01mif\u001b[39;00m (possible_gradient_type \u001b[38;5;241m==\u001b[39m gradients_util\u001b[38;5;241m.\u001b[39mPOSSIBLE_GRADIENT_TYPES_NONE\n\u001b[0;32m   1858\u001b[0m     \u001b[38;5;129;01mand\u001b[39;00m executing_eagerly):\n\u001b[0;32m   1859\u001b[0m   \u001b[38;5;66;03m# No tape is watching; skip to running the function.\u001b[39;00m\n\u001b[1;32m-> 1860\u001b[0m   \u001b[38;5;28;01mreturn\u001b[39;00m \u001b[38;5;28mself\u001b[39m\u001b[38;5;241m.\u001b[39m_build_call_outputs(\u001b[38;5;28;43mself\u001b[39;49m\u001b[38;5;241;43m.\u001b[39;49m\u001b[43m_inference_function\u001b[49m\u001b[38;5;241;43m.\u001b[39;49m\u001b[43mcall\u001b[49m\u001b[43m(\u001b[49m\n\u001b[0;32m   1861\u001b[0m \u001b[43m      \u001b[49m\u001b[43mctx\u001b[49m\u001b[43m,\u001b[49m\u001b[43m \u001b[49m\u001b[43margs\u001b[49m\u001b[43m,\u001b[49m\u001b[43m \u001b[49m\u001b[43mcancellation_manager\u001b[49m\u001b[38;5;241;43m=\u001b[39;49m\u001b[43mcancellation_manager\u001b[49m\u001b[43m)\u001b[49m)\n\u001b[0;32m   1862\u001b[0m forward_backward \u001b[38;5;241m=\u001b[39m \u001b[38;5;28mself\u001b[39m\u001b[38;5;241m.\u001b[39m_select_forward_and_backward_functions(\n\u001b[0;32m   1863\u001b[0m     args,\n\u001b[0;32m   1864\u001b[0m     possible_gradient_type,\n\u001b[0;32m   1865\u001b[0m     executing_eagerly)\n\u001b[0;32m   1866\u001b[0m forward_function, args_with_tangents \u001b[38;5;241m=\u001b[39m forward_backward\u001b[38;5;241m.\u001b[39mforward()\n",
      "File \u001b[1;32m~\\AppData\\Local\\anaconda3\\envs\\tensorflow2_9_1\\lib\\site-packages\\tensorflow\\python\\eager\\function.py:497\u001b[0m, in \u001b[0;36m_EagerDefinedFunction.call\u001b[1;34m(self, ctx, args, cancellation_manager)\u001b[0m\n\u001b[0;32m    495\u001b[0m \u001b[38;5;28;01mwith\u001b[39;00m _InterpolateFunctionError(\u001b[38;5;28mself\u001b[39m):\n\u001b[0;32m    496\u001b[0m   \u001b[38;5;28;01mif\u001b[39;00m cancellation_manager \u001b[38;5;129;01mis\u001b[39;00m \u001b[38;5;28;01mNone\u001b[39;00m:\n\u001b[1;32m--> 497\u001b[0m     outputs \u001b[38;5;241m=\u001b[39m \u001b[43mexecute\u001b[49m\u001b[38;5;241;43m.\u001b[39;49m\u001b[43mexecute\u001b[49m\u001b[43m(\u001b[49m\n\u001b[0;32m    498\u001b[0m \u001b[43m        \u001b[49m\u001b[38;5;28;43mstr\u001b[39;49m\u001b[43m(\u001b[49m\u001b[38;5;28;43mself\u001b[39;49m\u001b[38;5;241;43m.\u001b[39;49m\u001b[43msignature\u001b[49m\u001b[38;5;241;43m.\u001b[39;49m\u001b[43mname\u001b[49m\u001b[43m)\u001b[49m\u001b[43m,\u001b[49m\n\u001b[0;32m    499\u001b[0m \u001b[43m        \u001b[49m\u001b[43mnum_outputs\u001b[49m\u001b[38;5;241;43m=\u001b[39;49m\u001b[38;5;28;43mself\u001b[39;49m\u001b[38;5;241;43m.\u001b[39;49m\u001b[43m_num_outputs\u001b[49m\u001b[43m,\u001b[49m\n\u001b[0;32m    500\u001b[0m \u001b[43m        \u001b[49m\u001b[43minputs\u001b[49m\u001b[38;5;241;43m=\u001b[39;49m\u001b[43margs\u001b[49m\u001b[43m,\u001b[49m\n\u001b[0;32m    501\u001b[0m \u001b[43m        \u001b[49m\u001b[43mattrs\u001b[49m\u001b[38;5;241;43m=\u001b[39;49m\u001b[43mattrs\u001b[49m\u001b[43m,\u001b[49m\n\u001b[0;32m    502\u001b[0m \u001b[43m        \u001b[49m\u001b[43mctx\u001b[49m\u001b[38;5;241;43m=\u001b[39;49m\u001b[43mctx\u001b[49m\u001b[43m)\u001b[49m\n\u001b[0;32m    503\u001b[0m   \u001b[38;5;28;01melse\u001b[39;00m:\n\u001b[0;32m    504\u001b[0m     outputs \u001b[38;5;241m=\u001b[39m execute\u001b[38;5;241m.\u001b[39mexecute_with_cancellation(\n\u001b[0;32m    505\u001b[0m         \u001b[38;5;28mstr\u001b[39m(\u001b[38;5;28mself\u001b[39m\u001b[38;5;241m.\u001b[39msignature\u001b[38;5;241m.\u001b[39mname),\n\u001b[0;32m    506\u001b[0m         num_outputs\u001b[38;5;241m=\u001b[39m\u001b[38;5;28mself\u001b[39m\u001b[38;5;241m.\u001b[39m_num_outputs,\n\u001b[1;32m   (...)\u001b[0m\n\u001b[0;32m    509\u001b[0m         ctx\u001b[38;5;241m=\u001b[39mctx,\n\u001b[0;32m    510\u001b[0m         cancellation_manager\u001b[38;5;241m=\u001b[39mcancellation_manager)\n",
      "File \u001b[1;32m~\\AppData\\Local\\anaconda3\\envs\\tensorflow2_9_1\\lib\\site-packages\\tensorflow\\python\\eager\\execute.py:54\u001b[0m, in \u001b[0;36mquick_execute\u001b[1;34m(op_name, num_outputs, inputs, attrs, ctx, name)\u001b[0m\n\u001b[0;32m     52\u001b[0m \u001b[38;5;28;01mtry\u001b[39;00m:\n\u001b[0;32m     53\u001b[0m   ctx\u001b[38;5;241m.\u001b[39mensure_initialized()\n\u001b[1;32m---> 54\u001b[0m   tensors \u001b[38;5;241m=\u001b[39m \u001b[43mpywrap_tfe\u001b[49m\u001b[38;5;241;43m.\u001b[39;49m\u001b[43mTFE_Py_Execute\u001b[49m\u001b[43m(\u001b[49m\u001b[43mctx\u001b[49m\u001b[38;5;241;43m.\u001b[39;49m\u001b[43m_handle\u001b[49m\u001b[43m,\u001b[49m\u001b[43m \u001b[49m\u001b[43mdevice_name\u001b[49m\u001b[43m,\u001b[49m\u001b[43m \u001b[49m\u001b[43mop_name\u001b[49m\u001b[43m,\u001b[49m\n\u001b[0;32m     55\u001b[0m \u001b[43m                                      \u001b[49m\u001b[43minputs\u001b[49m\u001b[43m,\u001b[49m\u001b[43m \u001b[49m\u001b[43mattrs\u001b[49m\u001b[43m,\u001b[49m\u001b[43m \u001b[49m\u001b[43mnum_outputs\u001b[49m\u001b[43m)\u001b[49m\n\u001b[0;32m     56\u001b[0m \u001b[38;5;28;01mexcept\u001b[39;00m core\u001b[38;5;241m.\u001b[39m_NotOkStatusException \u001b[38;5;28;01mas\u001b[39;00m e:\n\u001b[0;32m     57\u001b[0m   \u001b[38;5;28;01mif\u001b[39;00m name \u001b[38;5;129;01mis\u001b[39;00m \u001b[38;5;129;01mnot\u001b[39;00m \u001b[38;5;28;01mNone\u001b[39;00m:\n",
      "\u001b[1;31mKeyboardInterrupt\u001b[0m: "
     ]
    }
   ],
   "source": [
    "result = model.evaluate(\n",
    "    dataset_valid,\n",
    "    steps = val_steps\n",
    ")"
   ]
  },
  {
   "cell_type": "code",
   "execution_count": null,
   "id": "f913656c",
   "metadata": {},
   "outputs": [],
   "source": [
    "model.save('./models/model_kyu_resnet50_withpp_1.h5')"
   ]
  },
  {
   "cell_type": "code",
   "execution_count": 27,
   "id": "90d58cae",
   "metadata": {},
   "outputs": [
    {
     "name": "stdout",
     "output_type": "stream",
     "text": [
      "95270/95270 [==============================] - 14285s 150ms/step - loss: 2.0121 - accuracy: 0.5265\n"
     ]
    }
   ],
   "source": [
    "history = model.fit(\n",
    "    dataset,\n",
    "    epochs = 1,\n",
    "    validation_data = val_dataset\n",
    ")"
   ]
  },
  {
   "cell_type": "code",
   "execution_count": 28,
   "id": "3dcbe8c8",
   "metadata": {},
   "outputs": [],
   "source": [
    "model.save('./models/model_kyu_resnet_2.h5')"
   ]
  },
  {
   "cell_type": "code",
   "execution_count": 33,
   "id": "a834cce7",
   "metadata": {},
   "outputs": [
    {
     "name": "stdout",
     "output_type": "stream",
     "text": [
      "42/42 [==============================] - 8s 188ms/step - loss: 1.8230 - accuracy: 0.5787 - val_loss: 1.9512 - val_accuracy: 0.5478\n"
     ]
    }
   ],
   "source": [
    "history = model.fit(\n",
    "    dataset,\n",
    "    epochs = 1,\n",
    "    validation_data = val_dataset\n",
    ")"
   ]
  },
  {
   "cell_type": "code",
   "execution_count": null,
   "id": "3f436af1",
   "metadata": {},
   "outputs": [],
   "source": [
    "model.save('./models/model_kyu_resnet_3.h5')"
   ]
  },
  {
   "cell_type": "code",
   "execution_count": null,
   "id": "fb78859b",
   "metadata": {},
   "outputs": [],
   "source": [
    "history = model.fit(\n",
    "    dataset,\n",
    "    epochs = 1\n",
    ")"
   ]
  },
  {
   "cell_type": "code",
   "execution_count": null,
   "id": "b98c3ebb",
   "metadata": {},
   "outputs": [],
   "source": [
    "model.save('./models/model_kyu_resnet_4.h5')"
   ]
  },
  {
   "cell_type": "code",
   "execution_count": null,
   "id": "0a850b05",
   "metadata": {},
   "outputs": [],
   "source": [
    "history = model.fit(\n",
    "    dataset,\n",
    "    epochs = 1\n",
    ")"
   ]
  },
  {
   "cell_type": "code",
   "execution_count": null,
   "id": "6a4f6688",
   "metadata": {},
   "outputs": [],
   "source": [
    "model.save('./models/model_kyu_10_15_f128_5.h5')"
   ]
  },
  {
   "cell_type": "code",
   "execution_count": null,
   "id": "2dd7f4fc",
   "metadata": {},
   "outputs": [],
   "source": [
    "history = model.fit(\n",
    "    dataset,\n",
    "    epochs = 1\n",
    ")"
   ]
  },
  {
   "cell_type": "code",
   "execution_count": null,
   "id": "33aca136",
   "metadata": {},
   "outputs": [],
   "source": [
    "model.save('./models/model_kyu_10_15_f128_6.h5')"
   ]
  },
  {
   "cell_type": "code",
   "execution_count": null,
   "id": "990c90e1",
   "metadata": {},
   "outputs": [],
   "source": [
    "history = model.fit(\n",
    "    dataset,\n",
    "    epochs = 1\n",
    ")"
   ]
  },
  {
   "cell_type": "code",
   "execution_count": null,
   "id": "32c0e018",
   "metadata": {},
   "outputs": [],
   "source": [
    "model.save('./models/model_kyu_10_15_f128_7.h5')"
   ]
  },
  {
   "cell_type": "code",
   "execution_count": null,
   "id": "d53e1f45",
   "metadata": {},
   "outputs": [],
   "source": [
    "history = model.fit(\n",
    "    dataset,\n",
    "    epochs = 1\n",
    ")"
   ]
  },
  {
   "cell_type": "code",
   "execution_count": null,
   "id": "28f38557",
   "metadata": {},
   "outputs": [],
   "source": [
    "model.save('./models/model_kyu_10_15_f128_8.h5')"
   ]
  },
  {
   "cell_type": "code",
   "execution_count": null,
   "id": "27ae4d25",
   "metadata": {},
   "outputs": [],
   "source": [
    "history = model.fit(\n",
    "    dataset,\n",
    "    epochs = 1\n",
    ")"
   ]
  },
  {
   "cell_type": "code",
   "execution_count": null,
   "id": "718dcd6c",
   "metadata": {},
   "outputs": [],
   "source": [
    "model.save('./models/model_kyu_10_15_f128_9.h5')"
   ]
  },
  {
   "cell_type": "code",
   "execution_count": null,
   "id": "f68be49f",
   "metadata": {},
   "outputs": [],
   "source": [
    "history = model.fit(\n",
    "    dataset,\n",
    "    epochs = 1\n",
    ")"
   ]
  },
  {
   "cell_type": "code",
   "execution_count": null,
   "id": "9fde8199",
   "metadata": {},
   "outputs": [],
   "source": [
    "model.save('./models/model_kyu_10_14_11.h5')"
   ]
  },
  {
   "cell_type": "markdown",
   "id": "484be28d",
   "metadata": {},
   "source": [
    "## ALL DONE!\n",
    "\n",
    "For using the model and creating a submission file, follow the notebook **Create Public Upload CSV.ipynb**"
   ]
  },
  {
   "cell_type": "markdown",
   "id": "2f7fafaa",
   "metadata": {},
   "source": [
    "# End of Tutorial\n",
    "\n",
    "You are free to use more modern NN architectures, a better pre-processing, feature extraction methods to achieve much better accuracy!"
   ]
  },
  {
   "cell_type": "code",
   "execution_count": null,
   "id": "b34f1db8",
   "metadata": {},
   "outputs": [],
   "source": []
  }
 ],
 "metadata": {
  "kernelspec": {
   "display_name": "Python 3 (ipykernel)",
   "language": "python",
   "name": "python3"
  },
  "language_info": {
   "codemirror_mode": {
    "name": "ipython",
    "version": 3
   },
   "file_extension": ".py",
   "mimetype": "text/x-python",
   "name": "python",
   "nbconvert_exporter": "python",
   "pygments_lexer": "ipython3",
   "version": "3.8.18"
  }
 },
 "nbformat": 4,
 "nbformat_minor": 5
}

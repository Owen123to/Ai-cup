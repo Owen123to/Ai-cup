{
 "cells": [
  {
   "cell_type": "code",
   "execution_count": 1,
   "id": "c0fb2beb",
   "metadata": {},
   "outputs": [],
   "source": [
    "import tensorflow as tf\n",
    "from tensorflow.keras.models import load_model\n",
    "import numpy as np"
   ]
  },
  {
   "cell_type": "code",
   "execution_count": 2,
   "id": "8a8268cf",
   "metadata": {},
   "outputs": [
    {
     "data": {
      "text/plain": [
       "'2.9.1'"
      ]
     },
     "execution_count": 2,
     "metadata": {},
     "output_type": "execute_result"
    }
   ],
   "source": [
    "tf.__version__"
   ]
  },
  {
   "cell_type": "markdown",
   "id": "a5f31674",
   "metadata": {},
   "source": [
    "# Create a Submission File \n",
    "\n",
    "The submitted file must include all the predictions from Dan, Kyu, and Play Style testing CSVs. Therefore, you must train your models before submitting any file. If your model is not trained for Dan, Kyu, or Play Style, check out the previous tutorials about how to train your model or just simply use the baseline models (model_dan_tutorial.h5, model_kyu_tutorial.h5, model_playstyle.h5) \n",
    "\n",
    "**PublicUpload.csv** must be in the following form:\n",
    "```\n",
    "DTPU0000000001,id,qr,pq,pd,ab\n",
    "DTPU0000000002,ao,ab,ha,ff,qd\n",
    "DTPU0000000003,qd,gd,fh,ed,fa\n",
    "DTPU0000000004,pr,ba,dq,hh,aj\n",
    "DTPU0000000005,ph,jh,af,df,gj\n",
    ".\n",
    ".\n",
    ".\n",
    "KTPU0000000001,id,qr,pq,pd,ab\n",
    "KTPU0000000002,ao,ab,ha,ff,qd\n",
    "KTPU0000000003,qd,gd,fh,ed,fa\n",
    "KTPU0000000004,pr,ba,dq,hh,aj\n",
    "KTPU0000000005,ph,jh,af,df,gj\n",
    ".\n",
    ".\n",
    ".\n",
    "PSTPU0000000001_79,2\n",
    "PSTPU0000000001_55,3\n",
    "PSTPU0000000001_105,2\n",
    "PSTPU0000000002_37,1\n",
    "PSTPU0000000002_113,3\n",
    "```\n",
    "\n",
    "**For Dan and Kyu:**\n",
    "- Column 1: Game ID\n",
    "- Column 2: Predicted Moves, up to 5 predictions for each game\n",
    "\n",
    "**For PlayStyle**:\n",
    "- Column 1: Game ID\n",
    "- Column 2: Predicted Game Style"
   ]
  },
  {
   "cell_type": "markdown",
   "id": "8ddba101",
   "metadata": {},
   "source": [
    "The code block below is copied from the tutorial notebooks and it includes the pre-processing methods of the trained models. You might need to change the functions below with respect to your models."
   ]
  },
  {
   "cell_type": "code",
   "execution_count": 3,
   "id": "f2643011",
   "metadata": {},
   "outputs": [],
   "source": [
    "chars = 'abcdefghijklmnopqrs'\n",
    "coordinates = {k:v for v,k in enumerate(chars)}\n",
    "chartonumbers = {k:v for k,v in enumerate(chars)}\n",
    "\n",
    "def prepare_input_for_dan_kyu_models(moves, player_color):\n",
    "    x = np.zeros((19,19,13))\n",
    "#     player_color = moves[-1][0] #\n",
    "    for move in moves:\n",
    "        color = move[0]\n",
    "        column = coordinates[move[2]]\n",
    "        row = coordinates[move[3]]\n",
    "        if color == player_color: #\n",
    "            x[row,column,0] = 1\n",
    "            x[row,column,2] = 1\n",
    "        else: #\n",
    "            x[row,column,1] = 1\n",
    "            x[row,column,2] = 1\n",
    "    x[:,:,2] = np.where(x[:,:,2] == 0, 1, 0)\n",
    "    \n",
    "    #倒數8步\n",
    "    sz = len(moves)\n",
    "    last1 = sz - 1\n",
    "    last8 = max(sz - 9, 0)\n",
    "    for i in range(last1, last8, -1):\n",
    "        col = coordinates[moves[i][2]]\n",
    "        row = coordinates[moves[i][3]]\n",
    "        x[row, col, 11 - (sz - i)] = 1\n",
    "    \n",
    "    #周圍7*7\n",
    "    last_col = coordinates[moves[-1][2]]\n",
    "    last_row = coordinates[moves[-1][3]]\n",
    "    rad = 3 #要改範圍大小的話改這個\n",
    "    row1 = max(0, last_row - rad)\n",
    "    row7 = min(18, last_row + rad)\n",
    "    col1 = max(0, last_col - rad)\n",
    "    col7 = min(18, last_col + rad)\n",
    "    for i in range(row1, row7 + 1, 1):\n",
    "        for j in range(col1, col7 + 1, 1):\n",
    "            x[i, j, 11] = x[i, j, 0]\n",
    "            x[i, j, 12] = x[i, j, 1]\n",
    "            \n",
    "    #列印所有棋盤\n",
    "#     for i in range(0, 3, 1):\n",
    "#         print(\"  a b c d e f g h i j k l m n o p q r s\")\n",
    "#         for j in range(0, 19, 1):\n",
    "#             print(chars[j], end = \" \")\n",
    "#             for k in range(0, 19, 1):\n",
    "#                 print(int(x[j, k, i]), end = \" \")\n",
    "#             print(\"\")\n",
    "#         print(\"\")\n",
    "    \n",
    "    return x\n",
    "\n",
    "def prepare_input_for_playstyle_model(moves):\n",
    "    x = np.zeros((19,19,14))\n",
    "    player_color = moves[-1][0] #\n",
    "    for move in moves:\n",
    "        color = move[0]\n",
    "        column = coordinates[move[2]]\n",
    "        row = coordinates[move[3]]\n",
    "        if color == player_color: #\n",
    "            x[row,column,0] = 1\n",
    "            x[row,column,2] = 1\n",
    "        else: #\n",
    "            x[row,column,1] = 1\n",
    "            x[row,column,2] = 1\n",
    "    x[:,:,2] = np.where(x[:,:,2] == 0, 1, 0)\n",
    "    \n",
    "    #倒數8步\n",
    "    sz = len(moves)\n",
    "    last1 = sz - 1\n",
    "    last8 = max(sz - 9, 0)\n",
    "    for i in range(last1, last8, -1):\n",
    "        col = coordinates[moves[i][2]]\n",
    "        row = coordinates[moves[i][3]]\n",
    "        x[row, col, 11 - (sz - i)] = 1\n",
    "    \n",
    "    #周圍7*7\n",
    "    last_col = coordinates[moves[-1][2]]\n",
    "    last_row = coordinates[moves[-1][3]]\n",
    "    rad = 3 #要改範圍大小的話改這個\n",
    "    row1 = max(0, last_row - rad)\n",
    "    row7 = min(18, last_row + rad)\n",
    "    col1 = max(0, last_col - rad)\n",
    "    col7 = min(18, last_col + rad)\n",
    "    for i in range(row1, row7 + 1, 1):\n",
    "        for j in range(col1, col7 + 1, 1):\n",
    "            x[i, j, 11] = x[i, j, 0]\n",
    "            x[i, j, 12] = x[i, j, 1]\n",
    "            x[i, j, 13] = x[i, j, 2]\n",
    "    #列印所有棋盤\n",
    "#     for i in range(0, 3, 1):\n",
    "#         print(\"  a b c d e f g h i j k l m n o p q r s\")\n",
    "#         for j in range(0, 19, 1):\n",
    "#             print(chars[j], end = \" \")\n",
    "#             for k in range(0, 19, 1):\n",
    "#                 print(int(x[j, k, i]), end = \" \")\n",
    "#             print(\"\")\n",
    "#         print(\"\")\n",
    "    \n",
    "    return x\n",
    "\n",
    "def number_to_char(number):\n",
    "    number_1, number_2 = divmod(number, 19)\n",
    "    return chartonumbers[number_1] + chartonumbers[number_2]\n",
    "\n",
    "def top_5_preds_with_chars(predictions):\n",
    "    resulting_preds_numbers = [np.flip(np.argpartition(prediction, -5)[-5:]) for prediction in predictions]\n",
    "    resulting_preds_chars = np.vectorize(number_to_char)(resulting_preds_numbers)\n",
    "    return resulting_preds_chars"
   ]
  },
  {
   "cell_type": "markdown",
   "id": "5ac5558f",
   "metadata": {},
   "source": [
    "## Save Predictions for Dan\n",
    "The code block below is to use **dan model** to predict and save the results in required form. It generates the best 5 predictions for each sample and convert them to character coordinates."
   ]
  },
  {
   "cell_type": "code",
   "execution_count": 12,
   "id": "1a7d526a",
   "metadata": {
    "collapsed": true
   },
   "outputs": [
    {
     "ename": "ValueError",
     "evalue": "in user code:\n\n    C:\\Users\\kenny\\AppData\\Local\\anaconda3\\envs\\aicup_\\lib\\site-packages\\keras\\engine\\training.py:1586 predict_function  *\n        return step_function(self, iterator)\n    C:\\Users\\kenny\\AppData\\Local\\anaconda3\\envs\\aicup_\\lib\\site-packages\\keras\\engine\\training.py:1576 step_function  **\n        outputs = model.distribute_strategy.run(run_step, args=(data,))\n    C:\\Users\\kenny\\AppData\\Local\\anaconda3\\envs\\aicup_\\lib\\site-packages\\tensorflow\\python\\distribute\\distribute_lib.py:1286 run\n        return self._extended.call_for_each_replica(fn, args=args, kwargs=kwargs)\n    C:\\Users\\kenny\\AppData\\Local\\anaconda3\\envs\\aicup_\\lib\\site-packages\\tensorflow\\python\\distribute\\distribute_lib.py:2849 call_for_each_replica\n        return self._call_for_each_replica(fn, args, kwargs)\n    C:\\Users\\kenny\\AppData\\Local\\anaconda3\\envs\\aicup_\\lib\\site-packages\\tensorflow\\python\\distribute\\distribute_lib.py:3632 _call_for_each_replica\n        return fn(*args, **kwargs)\n    C:\\Users\\kenny\\AppData\\Local\\anaconda3\\envs\\aicup_\\lib\\site-packages\\keras\\engine\\training.py:1569 run_step  **\n        outputs = model.predict_step(data)\n    C:\\Users\\kenny\\AppData\\Local\\anaconda3\\envs\\aicup_\\lib\\site-packages\\keras\\engine\\training.py:1537 predict_step\n        return self(x, training=False)\n    C:\\Users\\kenny\\AppData\\Local\\anaconda3\\envs\\aicup_\\lib\\site-packages\\keras\\engine\\base_layer.py:1020 __call__\n        input_spec.assert_input_compatibility(self.input_spec, inputs, self.name)\n    C:\\Users\\kenny\\AppData\\Local\\anaconda3\\envs\\aicup_\\lib\\site-packages\\keras\\engine\\input_spec.py:266 assert_input_compatibility\n        raise ValueError('Input ' + str(input_index) +\n\n    ValueError: Input 0 is incompatible with layer model: expected shape=(None, 19, 19, 4), found shape=(None, 19, 19, 13)\n",
     "output_type": "error",
     "traceback": [
      "\u001b[1;31m---------------------------------------------------------------------------\u001b[0m",
      "\u001b[1;31mValueError\u001b[0m                                Traceback (most recent call last)",
      "Cell \u001b[1;32mIn[12], line 16\u001b[0m\n\u001b[0;32m     13\u001b[0m     x_testing\u001b[38;5;241m.\u001b[39mappend(prepare_input_for_dan_kyu_models(moves_list))\n\u001b[0;32m     15\u001b[0m x_testing \u001b[38;5;241m=\u001b[39m np\u001b[38;5;241m.\u001b[39marray(x_testing)\n\u001b[1;32m---> 16\u001b[0m predictions \u001b[38;5;241m=\u001b[39m \u001b[43mmodel\u001b[49m\u001b[38;5;241;43m.\u001b[39;49m\u001b[43mpredict\u001b[49m\u001b[43m(\u001b[49m\u001b[43mx_testing\u001b[49m\u001b[43m)\u001b[49m\n\u001b[0;32m     17\u001b[0m prediction_chars \u001b[38;5;241m=\u001b[39m top_5_preds_with_chars(predictions)\n\u001b[0;32m     19\u001b[0m \u001b[38;5;66;03m# Save results to public_submission_template.csv\u001b[39;00m\n",
      "File \u001b[1;32m~\\AppData\\Local\\anaconda3\\envs\\aicup_\\lib\\site-packages\\keras\\engine\\training.py:1751\u001b[0m, in \u001b[0;36mModel.predict\u001b[1;34m(self, x, batch_size, verbose, steps, callbacks, max_queue_size, workers, use_multiprocessing)\u001b[0m\n\u001b[0;32m   1749\u001b[0m \u001b[38;5;28;01mfor\u001b[39;00m step \u001b[38;5;129;01min\u001b[39;00m data_handler\u001b[38;5;241m.\u001b[39msteps():\n\u001b[0;32m   1750\u001b[0m   callbacks\u001b[38;5;241m.\u001b[39mon_predict_batch_begin(step)\n\u001b[1;32m-> 1751\u001b[0m   tmp_batch_outputs \u001b[38;5;241m=\u001b[39m \u001b[38;5;28;43mself\u001b[39;49m\u001b[38;5;241;43m.\u001b[39;49m\u001b[43mpredict_function\u001b[49m\u001b[43m(\u001b[49m\u001b[43miterator\u001b[49m\u001b[43m)\u001b[49m\n\u001b[0;32m   1752\u001b[0m   \u001b[38;5;28;01mif\u001b[39;00m data_handler\u001b[38;5;241m.\u001b[39mshould_sync:\n\u001b[0;32m   1753\u001b[0m     context\u001b[38;5;241m.\u001b[39masync_wait()\n",
      "File \u001b[1;32m~\\AppData\\Local\\anaconda3\\envs\\aicup_\\lib\\site-packages\\tensorflow\\python\\eager\\def_function.py:885\u001b[0m, in \u001b[0;36mFunction.__call__\u001b[1;34m(self, *args, **kwds)\u001b[0m\n\u001b[0;32m    882\u001b[0m compiler \u001b[38;5;241m=\u001b[39m \u001b[38;5;124m\"\u001b[39m\u001b[38;5;124mxla\u001b[39m\u001b[38;5;124m\"\u001b[39m \u001b[38;5;28;01mif\u001b[39;00m \u001b[38;5;28mself\u001b[39m\u001b[38;5;241m.\u001b[39m_jit_compile \u001b[38;5;28;01melse\u001b[39;00m \u001b[38;5;124m\"\u001b[39m\u001b[38;5;124mnonXla\u001b[39m\u001b[38;5;124m\"\u001b[39m\n\u001b[0;32m    884\u001b[0m \u001b[38;5;28;01mwith\u001b[39;00m OptionalXlaContext(\u001b[38;5;28mself\u001b[39m\u001b[38;5;241m.\u001b[39m_jit_compile):\n\u001b[1;32m--> 885\u001b[0m   result \u001b[38;5;241m=\u001b[39m \u001b[38;5;28;43mself\u001b[39;49m\u001b[38;5;241;43m.\u001b[39;49m\u001b[43m_call\u001b[49m\u001b[43m(\u001b[49m\u001b[38;5;241;43m*\u001b[39;49m\u001b[43margs\u001b[49m\u001b[43m,\u001b[49m\u001b[43m \u001b[49m\u001b[38;5;241;43m*\u001b[39;49m\u001b[38;5;241;43m*\u001b[39;49m\u001b[43mkwds\u001b[49m\u001b[43m)\u001b[49m\n\u001b[0;32m    887\u001b[0m new_tracing_count \u001b[38;5;241m=\u001b[39m \u001b[38;5;28mself\u001b[39m\u001b[38;5;241m.\u001b[39mexperimental_get_tracing_count()\n\u001b[0;32m    888\u001b[0m without_tracing \u001b[38;5;241m=\u001b[39m (tracing_count \u001b[38;5;241m==\u001b[39m new_tracing_count)\n",
      "File \u001b[1;32m~\\AppData\\Local\\anaconda3\\envs\\aicup_\\lib\\site-packages\\tensorflow\\python\\eager\\def_function.py:933\u001b[0m, in \u001b[0;36mFunction._call\u001b[1;34m(self, *args, **kwds)\u001b[0m\n\u001b[0;32m    930\u001b[0m \u001b[38;5;28;01mtry\u001b[39;00m:\n\u001b[0;32m    931\u001b[0m   \u001b[38;5;66;03m# This is the first call of __call__, so we have to initialize.\u001b[39;00m\n\u001b[0;32m    932\u001b[0m   initializers \u001b[38;5;241m=\u001b[39m []\n\u001b[1;32m--> 933\u001b[0m   \u001b[38;5;28;43mself\u001b[39;49m\u001b[38;5;241;43m.\u001b[39;49m\u001b[43m_initialize\u001b[49m\u001b[43m(\u001b[49m\u001b[43margs\u001b[49m\u001b[43m,\u001b[49m\u001b[43m \u001b[49m\u001b[43mkwds\u001b[49m\u001b[43m,\u001b[49m\u001b[43m \u001b[49m\u001b[43madd_initializers_to\u001b[49m\u001b[38;5;241;43m=\u001b[39;49m\u001b[43minitializers\u001b[49m\u001b[43m)\u001b[49m\n\u001b[0;32m    934\u001b[0m \u001b[38;5;28;01mfinally\u001b[39;00m:\n\u001b[0;32m    935\u001b[0m   \u001b[38;5;66;03m# At this point we know that the initialization is complete (or less\u001b[39;00m\n\u001b[0;32m    936\u001b[0m   \u001b[38;5;66;03m# interestingly an exception was raised) so we no longer need a lock.\u001b[39;00m\n\u001b[0;32m    937\u001b[0m   \u001b[38;5;28mself\u001b[39m\u001b[38;5;241m.\u001b[39m_lock\u001b[38;5;241m.\u001b[39mrelease()\n",
      "File \u001b[1;32m~\\AppData\\Local\\anaconda3\\envs\\aicup_\\lib\\site-packages\\tensorflow\\python\\eager\\def_function.py:759\u001b[0m, in \u001b[0;36mFunction._initialize\u001b[1;34m(self, args, kwds, add_initializers_to)\u001b[0m\n\u001b[0;32m    756\u001b[0m \u001b[38;5;28mself\u001b[39m\u001b[38;5;241m.\u001b[39m_lifted_initializer_graph \u001b[38;5;241m=\u001b[39m lifted_initializer_graph\n\u001b[0;32m    757\u001b[0m \u001b[38;5;28mself\u001b[39m\u001b[38;5;241m.\u001b[39m_graph_deleter \u001b[38;5;241m=\u001b[39m FunctionDeleter(\u001b[38;5;28mself\u001b[39m\u001b[38;5;241m.\u001b[39m_lifted_initializer_graph)\n\u001b[0;32m    758\u001b[0m \u001b[38;5;28mself\u001b[39m\u001b[38;5;241m.\u001b[39m_concrete_stateful_fn \u001b[38;5;241m=\u001b[39m (\n\u001b[1;32m--> 759\u001b[0m     \u001b[38;5;28;43mself\u001b[39;49m\u001b[38;5;241;43m.\u001b[39;49m\u001b[43m_stateful_fn\u001b[49m\u001b[38;5;241;43m.\u001b[39;49m\u001b[43m_get_concrete_function_internal_garbage_collected\u001b[49m\u001b[43m(\u001b[49m\u001b[43m  \u001b[49m\u001b[38;5;66;43;03m# pylint: disable=protected-access\u001b[39;49;00m\n\u001b[0;32m    760\u001b[0m \u001b[43m        \u001b[49m\u001b[38;5;241;43m*\u001b[39;49m\u001b[43margs\u001b[49m\u001b[43m,\u001b[49m\u001b[43m \u001b[49m\u001b[38;5;241;43m*\u001b[39;49m\u001b[38;5;241;43m*\u001b[39;49m\u001b[43mkwds\u001b[49m\u001b[43m)\u001b[49m)\n\u001b[0;32m    762\u001b[0m \u001b[38;5;28;01mdef\u001b[39;00m \u001b[38;5;21minvalid_creator_scope\u001b[39m(\u001b[38;5;241m*\u001b[39munused_args, \u001b[38;5;241m*\u001b[39m\u001b[38;5;241m*\u001b[39munused_kwds):\n\u001b[0;32m    763\u001b[0m \u001b[38;5;250m  \u001b[39m\u001b[38;5;124;03m\"\"\"Disables variable creation.\"\"\"\u001b[39;00m\n",
      "File \u001b[1;32m~\\AppData\\Local\\anaconda3\\envs\\aicup_\\lib\\site-packages\\tensorflow\\python\\eager\\function.py:3066\u001b[0m, in \u001b[0;36mFunction._get_concrete_function_internal_garbage_collected\u001b[1;34m(self, *args, **kwargs)\u001b[0m\n\u001b[0;32m   3064\u001b[0m   args, kwargs \u001b[38;5;241m=\u001b[39m \u001b[38;5;28;01mNone\u001b[39;00m, \u001b[38;5;28;01mNone\u001b[39;00m\n\u001b[0;32m   3065\u001b[0m \u001b[38;5;28;01mwith\u001b[39;00m \u001b[38;5;28mself\u001b[39m\u001b[38;5;241m.\u001b[39m_lock:\n\u001b[1;32m-> 3066\u001b[0m   graph_function, _ \u001b[38;5;241m=\u001b[39m \u001b[38;5;28;43mself\u001b[39;49m\u001b[38;5;241;43m.\u001b[39;49m\u001b[43m_maybe_define_function\u001b[49m\u001b[43m(\u001b[49m\u001b[43margs\u001b[49m\u001b[43m,\u001b[49m\u001b[43m \u001b[49m\u001b[43mkwargs\u001b[49m\u001b[43m)\u001b[49m\n\u001b[0;32m   3067\u001b[0m \u001b[38;5;28;01mreturn\u001b[39;00m graph_function\n",
      "File \u001b[1;32m~\\AppData\\Local\\anaconda3\\envs\\aicup_\\lib\\site-packages\\tensorflow\\python\\eager\\function.py:3463\u001b[0m, in \u001b[0;36mFunction._maybe_define_function\u001b[1;34m(self, args, kwargs)\u001b[0m\n\u001b[0;32m   3459\u001b[0m   \u001b[38;5;28;01mreturn\u001b[39;00m \u001b[38;5;28mself\u001b[39m\u001b[38;5;241m.\u001b[39m_define_function_with_shape_relaxation(\n\u001b[0;32m   3460\u001b[0m       args, kwargs, flat_args, filtered_flat_args, cache_key_context)\n\u001b[0;32m   3462\u001b[0m \u001b[38;5;28mself\u001b[39m\u001b[38;5;241m.\u001b[39m_function_cache\u001b[38;5;241m.\u001b[39mmissed\u001b[38;5;241m.\u001b[39madd(call_context_key)\n\u001b[1;32m-> 3463\u001b[0m graph_function \u001b[38;5;241m=\u001b[39m \u001b[38;5;28;43mself\u001b[39;49m\u001b[38;5;241;43m.\u001b[39;49m\u001b[43m_create_graph_function\u001b[49m\u001b[43m(\u001b[49m\u001b[43margs\u001b[49m\u001b[43m,\u001b[49m\u001b[43m \u001b[49m\u001b[43mkwargs\u001b[49m\u001b[43m)\u001b[49m\n\u001b[0;32m   3464\u001b[0m \u001b[38;5;28mself\u001b[39m\u001b[38;5;241m.\u001b[39m_function_cache\u001b[38;5;241m.\u001b[39mprimary[cache_key] \u001b[38;5;241m=\u001b[39m graph_function\n\u001b[0;32m   3466\u001b[0m \u001b[38;5;28;01mreturn\u001b[39;00m graph_function, filtered_flat_args\n",
      "File \u001b[1;32m~\\AppData\\Local\\anaconda3\\envs\\aicup_\\lib\\site-packages\\tensorflow\\python\\eager\\function.py:3298\u001b[0m, in \u001b[0;36mFunction._create_graph_function\u001b[1;34m(self, args, kwargs, override_flat_arg_shapes)\u001b[0m\n\u001b[0;32m   3293\u001b[0m missing_arg_names \u001b[38;5;241m=\u001b[39m [\n\u001b[0;32m   3294\u001b[0m     \u001b[38;5;124m\"\u001b[39m\u001b[38;5;132;01m%s\u001b[39;00m\u001b[38;5;124m_\u001b[39m\u001b[38;5;132;01m%d\u001b[39;00m\u001b[38;5;124m\"\u001b[39m \u001b[38;5;241m%\u001b[39m (arg, i) \u001b[38;5;28;01mfor\u001b[39;00m i, arg \u001b[38;5;129;01min\u001b[39;00m \u001b[38;5;28menumerate\u001b[39m(missing_arg_names)\n\u001b[0;32m   3295\u001b[0m ]\n\u001b[0;32m   3296\u001b[0m arg_names \u001b[38;5;241m=\u001b[39m base_arg_names \u001b[38;5;241m+\u001b[39m missing_arg_names\n\u001b[0;32m   3297\u001b[0m graph_function \u001b[38;5;241m=\u001b[39m ConcreteFunction(\n\u001b[1;32m-> 3298\u001b[0m     \u001b[43mfunc_graph_module\u001b[49m\u001b[38;5;241;43m.\u001b[39;49m\u001b[43mfunc_graph_from_py_func\u001b[49m\u001b[43m(\u001b[49m\n\u001b[0;32m   3299\u001b[0m \u001b[43m        \u001b[49m\u001b[38;5;28;43mself\u001b[39;49m\u001b[38;5;241;43m.\u001b[39;49m\u001b[43m_name\u001b[49m\u001b[43m,\u001b[49m\n\u001b[0;32m   3300\u001b[0m \u001b[43m        \u001b[49m\u001b[38;5;28;43mself\u001b[39;49m\u001b[38;5;241;43m.\u001b[39;49m\u001b[43m_python_function\u001b[49m\u001b[43m,\u001b[49m\n\u001b[0;32m   3301\u001b[0m \u001b[43m        \u001b[49m\u001b[43margs\u001b[49m\u001b[43m,\u001b[49m\n\u001b[0;32m   3302\u001b[0m \u001b[43m        \u001b[49m\u001b[43mkwargs\u001b[49m\u001b[43m,\u001b[49m\n\u001b[0;32m   3303\u001b[0m \u001b[43m        \u001b[49m\u001b[38;5;28;43mself\u001b[39;49m\u001b[38;5;241;43m.\u001b[39;49m\u001b[43minput_signature\u001b[49m\u001b[43m,\u001b[49m\n\u001b[0;32m   3304\u001b[0m \u001b[43m        \u001b[49m\u001b[43mautograph\u001b[49m\u001b[38;5;241;43m=\u001b[39;49m\u001b[38;5;28;43mself\u001b[39;49m\u001b[38;5;241;43m.\u001b[39;49m\u001b[43m_autograph\u001b[49m\u001b[43m,\u001b[49m\n\u001b[0;32m   3305\u001b[0m \u001b[43m        \u001b[49m\u001b[43mautograph_options\u001b[49m\u001b[38;5;241;43m=\u001b[39;49m\u001b[38;5;28;43mself\u001b[39;49m\u001b[38;5;241;43m.\u001b[39;49m\u001b[43m_autograph_options\u001b[49m\u001b[43m,\u001b[49m\n\u001b[0;32m   3306\u001b[0m \u001b[43m        \u001b[49m\u001b[43marg_names\u001b[49m\u001b[38;5;241;43m=\u001b[39;49m\u001b[43marg_names\u001b[49m\u001b[43m,\u001b[49m\n\u001b[0;32m   3307\u001b[0m \u001b[43m        \u001b[49m\u001b[43moverride_flat_arg_shapes\u001b[49m\u001b[38;5;241;43m=\u001b[39;49m\u001b[43moverride_flat_arg_shapes\u001b[49m\u001b[43m,\u001b[49m\n\u001b[0;32m   3308\u001b[0m \u001b[43m        \u001b[49m\u001b[43mcapture_by_value\u001b[49m\u001b[38;5;241;43m=\u001b[39;49m\u001b[38;5;28;43mself\u001b[39;49m\u001b[38;5;241;43m.\u001b[39;49m\u001b[43m_capture_by_value\u001b[49m\u001b[43m)\u001b[49m,\n\u001b[0;32m   3309\u001b[0m     \u001b[38;5;28mself\u001b[39m\u001b[38;5;241m.\u001b[39m_function_attributes,\n\u001b[0;32m   3310\u001b[0m     function_spec\u001b[38;5;241m=\u001b[39m\u001b[38;5;28mself\u001b[39m\u001b[38;5;241m.\u001b[39mfunction_spec,\n\u001b[0;32m   3311\u001b[0m     \u001b[38;5;66;03m# Tell the ConcreteFunction to clean up its graph once it goes out of\u001b[39;00m\n\u001b[0;32m   3312\u001b[0m     \u001b[38;5;66;03m# scope. This is not the default behavior since it gets used in some\u001b[39;00m\n\u001b[0;32m   3313\u001b[0m     \u001b[38;5;66;03m# places (like Keras) where the FuncGraph lives longer than the\u001b[39;00m\n\u001b[0;32m   3314\u001b[0m     \u001b[38;5;66;03m# ConcreteFunction.\u001b[39;00m\n\u001b[0;32m   3315\u001b[0m     shared_func_graph\u001b[38;5;241m=\u001b[39m\u001b[38;5;28;01mFalse\u001b[39;00m)\n\u001b[0;32m   3316\u001b[0m \u001b[38;5;28;01mreturn\u001b[39;00m graph_function\n",
      "File \u001b[1;32m~\\AppData\\Local\\anaconda3\\envs\\aicup_\\lib\\site-packages\\tensorflow\\python\\framework\\func_graph.py:1007\u001b[0m, in \u001b[0;36mfunc_graph_from_py_func\u001b[1;34m(name, python_func, args, kwargs, signature, func_graph, autograph, autograph_options, add_control_dependencies, arg_names, op_return_value, collections, capture_by_value, override_flat_arg_shapes, acd_record_initial_resource_uses)\u001b[0m\n\u001b[0;32m   1004\u001b[0m \u001b[38;5;28;01melse\u001b[39;00m:\n\u001b[0;32m   1005\u001b[0m   _, original_func \u001b[38;5;241m=\u001b[39m tf_decorator\u001b[38;5;241m.\u001b[39munwrap(python_func)\n\u001b[1;32m-> 1007\u001b[0m func_outputs \u001b[38;5;241m=\u001b[39m \u001b[43mpython_func\u001b[49m\u001b[43m(\u001b[49m\u001b[38;5;241;43m*\u001b[39;49m\u001b[43mfunc_args\u001b[49m\u001b[43m,\u001b[49m\u001b[43m \u001b[49m\u001b[38;5;241;43m*\u001b[39;49m\u001b[38;5;241;43m*\u001b[39;49m\u001b[43mfunc_kwargs\u001b[49m\u001b[43m)\u001b[49m\n\u001b[0;32m   1009\u001b[0m \u001b[38;5;66;03m# invariant: `func_outputs` contains only Tensors, CompositeTensors,\u001b[39;00m\n\u001b[0;32m   1010\u001b[0m \u001b[38;5;66;03m# TensorArrays and `None`s.\u001b[39;00m\n\u001b[0;32m   1011\u001b[0m func_outputs \u001b[38;5;241m=\u001b[39m nest\u001b[38;5;241m.\u001b[39mmap_structure(convert, func_outputs,\n\u001b[0;32m   1012\u001b[0m                                   expand_composites\u001b[38;5;241m=\u001b[39m\u001b[38;5;28;01mTrue\u001b[39;00m)\n",
      "File \u001b[1;32m~\\AppData\\Local\\anaconda3\\envs\\aicup_\\lib\\site-packages\\tensorflow\\python\\eager\\def_function.py:668\u001b[0m, in \u001b[0;36mFunction._defun_with_scope.<locals>.wrapped_fn\u001b[1;34m(*args, **kwds)\u001b[0m\n\u001b[0;32m    664\u001b[0m \u001b[38;5;28;01mwith\u001b[39;00m default_graph\u001b[38;5;241m.\u001b[39m_variable_creator_scope(scope, priority\u001b[38;5;241m=\u001b[39m\u001b[38;5;241m50\u001b[39m):  \u001b[38;5;66;03m# pylint: disable=protected-access\u001b[39;00m\n\u001b[0;32m    665\u001b[0m   \u001b[38;5;66;03m# __wrapped__ allows AutoGraph to swap in a converted function. We give\u001b[39;00m\n\u001b[0;32m    666\u001b[0m   \u001b[38;5;66;03m# the function a weak reference to itself to avoid a reference cycle.\u001b[39;00m\n\u001b[0;32m    667\u001b[0m   \u001b[38;5;28;01mwith\u001b[39;00m OptionalXlaContext(compile_with_xla):\n\u001b[1;32m--> 668\u001b[0m     out \u001b[38;5;241m=\u001b[39m \u001b[43mweak_wrapped_fn\u001b[49m\u001b[43m(\u001b[49m\u001b[43m)\u001b[49m\u001b[38;5;241;43m.\u001b[39;49m\u001b[43m__wrapped__\u001b[49m\u001b[43m(\u001b[49m\u001b[38;5;241;43m*\u001b[39;49m\u001b[43margs\u001b[49m\u001b[43m,\u001b[49m\u001b[43m \u001b[49m\u001b[38;5;241;43m*\u001b[39;49m\u001b[38;5;241;43m*\u001b[39;49m\u001b[43mkwds\u001b[49m\u001b[43m)\u001b[49m\n\u001b[0;32m    669\u001b[0m   \u001b[38;5;28;01mreturn\u001b[39;00m out\n",
      "File \u001b[1;32m~\\AppData\\Local\\anaconda3\\envs\\aicup_\\lib\\site-packages\\tensorflow\\python\\framework\\func_graph.py:994\u001b[0m, in \u001b[0;36mfunc_graph_from_py_func.<locals>.wrapper\u001b[1;34m(*args, **kwargs)\u001b[0m\n\u001b[0;32m    992\u001b[0m \u001b[38;5;28;01mexcept\u001b[39;00m \u001b[38;5;167;01mException\u001b[39;00m \u001b[38;5;28;01mas\u001b[39;00m e:  \u001b[38;5;66;03m# pylint:disable=broad-except\u001b[39;00m\n\u001b[0;32m    993\u001b[0m   \u001b[38;5;28;01mif\u001b[39;00m \u001b[38;5;28mhasattr\u001b[39m(e, \u001b[38;5;124m\"\u001b[39m\u001b[38;5;124mag_error_metadata\u001b[39m\u001b[38;5;124m\"\u001b[39m):\n\u001b[1;32m--> 994\u001b[0m     \u001b[38;5;28;01mraise\u001b[39;00m e\u001b[38;5;241m.\u001b[39mag_error_metadata\u001b[38;5;241m.\u001b[39mto_exception(e)\n\u001b[0;32m    995\u001b[0m   \u001b[38;5;28;01melse\u001b[39;00m:\n\u001b[0;32m    996\u001b[0m     \u001b[38;5;28;01mraise\u001b[39;00m\n",
      "\u001b[1;31mValueError\u001b[0m: in user code:\n\n    C:\\Users\\kenny\\AppData\\Local\\anaconda3\\envs\\aicup_\\lib\\site-packages\\keras\\engine\\training.py:1586 predict_function  *\n        return step_function(self, iterator)\n    C:\\Users\\kenny\\AppData\\Local\\anaconda3\\envs\\aicup_\\lib\\site-packages\\keras\\engine\\training.py:1576 step_function  **\n        outputs = model.distribute_strategy.run(run_step, args=(data,))\n    C:\\Users\\kenny\\AppData\\Local\\anaconda3\\envs\\aicup_\\lib\\site-packages\\tensorflow\\python\\distribute\\distribute_lib.py:1286 run\n        return self._extended.call_for_each_replica(fn, args=args, kwargs=kwargs)\n    C:\\Users\\kenny\\AppData\\Local\\anaconda3\\envs\\aicup_\\lib\\site-packages\\tensorflow\\python\\distribute\\distribute_lib.py:2849 call_for_each_replica\n        return self._call_for_each_replica(fn, args, kwargs)\n    C:\\Users\\kenny\\AppData\\Local\\anaconda3\\envs\\aicup_\\lib\\site-packages\\tensorflow\\python\\distribute\\distribute_lib.py:3632 _call_for_each_replica\n        return fn(*args, **kwargs)\n    C:\\Users\\kenny\\AppData\\Local\\anaconda3\\envs\\aicup_\\lib\\site-packages\\keras\\engine\\training.py:1569 run_step  **\n        outputs = model.predict_step(data)\n    C:\\Users\\kenny\\AppData\\Local\\anaconda3\\envs\\aicup_\\lib\\site-packages\\keras\\engine\\training.py:1537 predict_step\n        return self(x, training=False)\n    C:\\Users\\kenny\\AppData\\Local\\anaconda3\\envs\\aicup_\\lib\\site-packages\\keras\\engine\\base_layer.py:1020 __call__\n        input_spec.assert_input_compatibility(self.input_spec, inputs, self.name)\n    C:\\Users\\kenny\\AppData\\Local\\anaconda3\\envs\\aicup_\\lib\\site-packages\\keras\\engine\\input_spec.py:266 assert_input_compatibility\n        raise ValueError('Input ' + str(input_index) +\n\n    ValueError: Input 0 is incompatible with layer model: expected shape=(None, 19, 19, 4), found shape=(None, 19, 19, 13)\n"
     ]
    }
   ],
   "source": [
    "# Load your own model. Here we use the baseline model\n",
    "model = load_model('./model_dan_one_epoch.h5')\n",
    "\n",
    "# Load the corresponding dataset\n",
    "df = open('./CSVs/dan_test_public.csv').read().splitlines()\n",
    "games_id = [i.split(',',2)[0] for i in df]\n",
    "games = [i.split(',',2)[-1] for i in df]\n",
    "colors = [i.split(',',2)[1] for i in df]\n",
    "\n",
    "x_testing = []\n",
    "\n",
    "for game_i, game in enumerate(games):\n",
    "    moves_list = game.split(',')\n",
    "    x_testing.append(prepare_input_for_dan_kyu_models(moves_list, colors[game_i]))\n",
    "\n",
    "x_testing = np.array(x_testing)\n",
    "predictions = model.predict(x_testing)\n",
    "prediction_chars = top_5_preds_with_chars(predictions)\n",
    "\n",
    "# Save results to public_submission_template.csv\n",
    "with open('./public_submission_template.csv','a') as f:\n",
    "    for index in range(len(prediction_chars)):\n",
    "        answer_row = games_id[index] + ',' + ','.join(prediction_chars[index]) + '\\n'\n",
    "        f.write(answer_row)"
   ]
  },
  {
   "cell_type": "markdown",
   "id": "89a967ad",
   "metadata": {},
   "source": [
    "## Save Predictions for Kyu\n",
    "The same code block applies to Kyu by changing the model and dataset"
   ]
  },
  {
   "cell_type": "code",
   "execution_count": 4,
   "id": "40d5d90b",
   "metadata": {},
   "outputs": [],
   "source": [
    "# Load your own model. Here we use the baseline model\n",
    "model = load_model('./models/model_kyu_resnet_fromgogame_withnor.h5')\n",
    "\n",
    "# Load the corresponding dataset\n",
    "df = open('./CSVs/kyu_test_public.csv').read().splitlines()\n",
    "games_id = [i.split(',',2)[0] for i in df]\n",
    "games = [i.split(',',2)[-1] for i in df]\n",
    "colors = [i.split(',',2)[1] for i in df]\n",
    "\n",
    "x_testing = []\n",
    "\n",
    "for game_i, game in enumerate(games):\n",
    "    moves_list = game.split(',')\n",
    "    x_testing.append(prepare_input_for_dan_kyu_models(moves_list, colors[game_i]))\n",
    "\n",
    "x_testing = np.array(x_testing)\n",
    "predictions = model.predict(x_testing)\n",
    "prediction_chars = top_5_preds_with_chars(predictions)\n",
    "\n",
    "# Save results to public_submission_template.csv\n",
    "with open('./public_submission_template.csv','a') as f:\n",
    "    for index in range(len(prediction_chars)):\n",
    "        answer_row = games_id[index] + ',' + ','.join(prediction_chars[index]) + '\\n'\n",
    "        f.write(answer_row)"
   ]
  },
  {
   "cell_type": "markdown",
   "id": "981b80b8",
   "metadata": {},
   "source": [
    "## Save Predictions for PlayStyle\n",
    "Playstyle requires only one predictions so the code here is a simple version of above"
   ]
  },
  {
   "cell_type": "code",
   "execution_count": 4,
   "id": "6bcef09c",
   "metadata": {},
   "outputs": [
    {
     "name": "stdout",
     "output_type": "stream",
     "text": [
      "313/313 [==============================] - 23s 39ms/step\n"
     ]
    }
   ],
   "source": [
    "# Load your own model. Here we use the baseline model\n",
    "model = load_model('./models/model_playstyle_resnet_original.h5')\n",
    "\n",
    "# Load the corresponding dataset\n",
    "df = open('./CSVs/play_style_test_public.csv').read().splitlines()\n",
    "games_id = [i.split(',',2)[0] for i in df]\n",
    "games = [i.split(',',2)[-1] for i in df]\n",
    "\n",
    "x_testing = []\n",
    "\n",
    "for game in games:\n",
    "    moves_list = game.split(',')\n",
    "    x_testing.append(prepare_input_for_playstyle_model(moves_list))\n",
    "\n",
    "x_testing = np.array(x_testing)\n",
    "predictions = model.predict(x_testing)\n",
    "prediction_numbers = np.argmax(predictions, axis=1)\n",
    "# print(np.shape(x_testing))\n",
    "with open('./public_submission_template.csv','a') as f:\n",
    "    for index, number in enumerate(prediction_numbers):\n",
    "        answer_row = games_id[index] + ',' + str(number+1) + '\\n'\n",
    "        f.write(answer_row)"
   ]
  },
  {
   "cell_type": "markdown",
   "id": "4652c93a",
   "metadata": {},
   "source": [
    "Now you can upload your file from the competition website! (https://tbrain.trendmicro.com.tw/Competitions/Details/29)"
   ]
  },
  {
   "cell_type": "code",
   "execution_count": null,
   "id": "9e49bf6d",
   "metadata": {},
   "outputs": [],
   "source": []
  }
 ],
 "metadata": {
  "kernelspec": {
   "display_name": "Python 3 (ipykernel)",
   "language": "python",
   "name": "python3"
  },
  "language_info": {
   "codemirror_mode": {
    "name": "ipython",
    "version": 3
   },
   "file_extension": ".py",
   "mimetype": "text/x-python",
   "name": "python",
   "nbconvert_exporter": "python",
   "pygments_lexer": "ipython3",
   "version": "3.8.18"
  }
 },
 "nbformat": 4,
 "nbformat_minor": 5
}

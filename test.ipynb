{
 "cells": [
  {
   "cell_type": "code",
   "execution_count": 1,
   "id": "8dc19d21",
   "metadata": {},
   "outputs": [],
   "source": [
    "import tensorflow as tf\n",
    "from tensorflow.keras.models import load_model\n",
    "import numpy as np\n",
    "import h5py"
   ]
  },
  {
   "cell_type": "code",
   "execution_count": 2,
   "id": "3372b1a1",
   "metadata": {},
   "outputs": [],
   "source": [
    "chars = 'abcdefghijklmnopqrs'\n",
    "coordinates = {k:v for v,k in enumerate(chars)}\n",
    "chartonumbers = {k:v for k,v in enumerate(chars)}\n",
    "\n",
    "def number_to_char(number):\n",
    "    number_1, number_2 = divmod(number, 19)\n",
    "    return chartonumbers[number_1] + chartonumbers[number_2]\n",
    "\n",
    "def top_5_preds_with_chars(predictions):\n",
    "    resulting_preds_numbers = [np.flip(np.argpartition(prediction, -5)[-5:]) for prediction in predictions]\n",
    "    resulting_preds_chars = np.vectorize(number_to_char)(resulting_preds_numbers)\n",
    "    return resulting_preds_chars"
   ]
  },
  {
   "cell_type": "code",
   "execution_count": 3,
   "id": "01366dd3",
   "metadata": {},
   "outputs": [
    {
     "name": "stdout",
     "output_type": "stream",
     "text": [
      "(2,)\n",
      "[[0. 0. 0. 0. 0. 0. 0. 0. 0. 0. 0. 0. 0. 0. 0. 0. 0. 0. 0.]\n",
      " [0. 0. 0. 0. 0. 0. 0. 0. 0. 0. 0. 0. 0. 0. 0. 0. 0. 0. 0.]\n",
      " [0. 0. 0. 0. 0. 0. 0. 0. 0. 0. 0. 0. 0. 0. 0. 0. 0. 0. 0.]\n",
      " [0. 0. 0. 0. 0. 0. 0. 0. 0. 0. 0. 0. 0. 0. 0. 0. 0. 0. 0.]\n",
      " [0. 0. 0. 0. 0. 0. 0. 0. 0. 0. 0. 0. 0. 0. 0. 0. 0. 0. 0.]\n",
      " [0. 0. 0. 0. 0. 0. 0. 0. 0. 0. 0. 0. 0. 0. 0. 0. 0. 0. 0.]\n",
      " [0. 0. 0. 0. 0. 0. 0. 0. 0. 0. 0. 0. 0. 0. 0. 0. 0. 0. 0.]\n",
      " [0. 0. 0. 0. 0. 0. 0. 0. 0. 0. 0. 0. 0. 0. 0. 0. 0. 0. 0.]\n",
      " [0. 0. 0. 0. 0. 0. 0. 0. 0. 0. 0. 0. 0. 0. 0. 0. 0. 0. 0.]\n",
      " [0. 0. 0. 0. 0. 0. 0. 0. 0. 0. 0. 0. 0. 0. 0. 0. 0. 0. 0.]\n",
      " [0. 0. 0. 0. 0. 0. 0. 0. 0. 0. 0. 0. 0. 0. 0. 0. 0. 0. 0.]\n",
      " [0. 0. 0. 0. 0. 0. 0. 0. 0. 0. 0. 0. 0. 0. 0. 0. 0. 0. 0.]\n",
      " [0. 0. 0. 0. 0. 0. 0. 0. 0. 0. 0. 0. 0. 0. 0. 0. 0. 0. 0.]\n",
      " [0. 0. 0. 0. 0. 0. 0. 0. 0. 0. 0. 0. 0. 0. 0. 0. 0. 0. 0.]\n",
      " [0. 0. 0. 0. 0. 0. 0. 0. 0. 0. 0. 0. 0. 0. 0. 0. 0. 0. 0.]\n",
      " [0. 0. 0. 0. 0. 0. 0. 0. 0. 0. 0. 0. 0. 0. 0. 0. 0. 0. 0.]\n",
      " [0. 0. 0. 0. 0. 0. 0. 0. 0. 0. 0. 0. 0. 0. 0. 0. 0. 0. 0.]\n",
      " [0. 0. 0. 0. 0. 0. 0. 0. 0. 0. 0. 0. 0. 0. 0. 0. 0. 0. 0.]\n",
      " [0. 0. 0. 0. 0. 0. 0. 0. 0. 0. 0. 0. 0. 0. 0. 0. 0. 0. 0.]]\n",
      "(1, 19, 19, 19)\n"
     ]
    },
    {
     "ename": "NameError",
     "evalue": "name 'model' is not defined",
     "output_type": "error",
     "traceback": [
      "\u001b[1;31m---------------------------------------------------------------------------\u001b[0m",
      "\u001b[1;31mNameError\u001b[0m                                 Traceback (most recent call last)",
      "Cell \u001b[1;32mIn[3], line 19\u001b[0m\n\u001b[0;32m     16\u001b[0m \u001b[38;5;66;03m# for i in range()\u001b[39;00m\n\u001b[0;32m     17\u001b[0m \u001b[38;5;28mprint\u001b[39m(np\u001b[38;5;241m.\u001b[39mshape(x))\n\u001b[1;32m---> 19\u001b[0m predictions \u001b[38;5;241m=\u001b[39m \u001b[43mmodel\u001b[49m\u001b[38;5;241m.\u001b[39mpredict(x)\n\u001b[0;32m     20\u001b[0m prediction_chars \u001b[38;5;241m=\u001b[39m top_5_preds_with_chars(predictions)\n\u001b[0;32m     21\u001b[0m \u001b[38;5;28mprint\u001b[39m(prediction_chars[\u001b[38;5;241m0\u001b[39m])\n",
      "\u001b[1;31mNameError\u001b[0m: name 'model' is not defined"
     ]
    }
   ],
   "source": [
    "# model = load_model('./models/model_kyu_resnet50_withpp.h5')\n",
    "\n",
    "# df = open('./CSVs/kyu_test_public.csv').read().splitlines()\n",
    "# games_id = [i.split(',',2)[0] for i in df]\n",
    "\n",
    "hdf5 = h5py.File('./hdf5/test.hdf5','r')\n",
    "print(np.shape(hdf5))\n",
    "x_testing = []\n",
    "hdf5 = hdf5.get('Xs')\n",
    "x_testing = np.array(hdf5[0])\n",
    "print(x_testing[9])\n",
    "x_testing = np.moveaxis(x_testing, 0, -1)\n",
    "x=[]\n",
    "x.append(x_testing)\n",
    "x = np.array(x)\n",
    "# for i in range()\n",
    "print(np.shape(x))\n",
    "\n",
    "# predictions = model.predict(x)\n",
    "# prediction_chars = top_5_preds_with_chars(predictions)\n",
    "# print(prediction_chars[0])\n",
    "\n",
    "# with open('./public_submission_template.csv','a') as f:\n",
    "#     for index in range(len(prediction_chars)):\n",
    "#         answer_row = games_id[index] + ',' + ','.join(prediction_chars[index]) + '\\n'\n",
    "#         f.write(answer_row)"
   ]
  },
  {
   "cell_type": "code",
   "execution_count": 4,
   "id": "4780c1cd",
   "metadata": {},
   "outputs": [
    {
     "ename": "AttributeError",
     "evalue": "'Dataset' object has no attribute 'close'",
     "output_type": "error",
     "traceback": [
      "\u001b[1;31m---------------------------------------------------------------------------\u001b[0m",
      "\u001b[1;31mAttributeError\u001b[0m                            Traceback (most recent call last)",
      "Cell \u001b[1;32mIn[4], line 1\u001b[0m\n\u001b[1;32m----> 1\u001b[0m \u001b[43mhdf5\u001b[49m\u001b[38;5;241;43m.\u001b[39;49m\u001b[43mclose\u001b[49m()\n",
      "\u001b[1;31mAttributeError\u001b[0m: 'Dataset' object has no attribute 'close'"
     ]
    }
   ],
   "source": [
    "hdf5.close()"
   ]
  },
  {
   "cell_type": "code",
   "execution_count": 49,
   "id": "efcfdab6",
   "metadata": {},
   "outputs": [
    {
     "name": "stdout",
     "output_type": "stream",
     "text": [
      "2 2\n",
      "[[[0, 1], [1, 2]], [[3, 4], [5, 6]]]\n",
      "(2, 2, 2)\n",
      "[[3. 4.]\n",
      " [5. 6.]]\n"
     ]
    }
   ],
   "source": [
    "import h5py\n",
    "import os\n",
    "import numpy as np\n",
    "if os.path.isfile('./hdf5/test.hdf5'):\n",
    "    os.remove('./hdf5/test.hdf5')\n",
    "hdf5 = h5py.File('./hdf5/test.hdf5', 'a')\n",
    "hdf5.create_dataset('Xs', (0, 2, 2), maxshape=(None, 2, 2))\n",
    "hdf5.create_dataset('Ys', (0, 1), maxshape=(None, 1))\n",
    "x_dataset = hdf5['Xs']\n",
    "y_dataset = hdf5['Ys']\n",
    "x_batch = [] # Initialize data batch\n",
    "y_batch = []\n",
    "x_batch = [[[0,1],[1,2]]]\n",
    "x_batch.append([[3,4],[5,6]])\n",
    "print(len(x_batch), len(x_batch[0]))\n",
    "print(x_batch)\n",
    "x_dataset.resize(x_dataset.shape[0] + len(x_batch), axis = 0)\n",
    "print(np.shape(x_dataset))\n",
    "x_dataset[-len(x_batch):] = x_batch\n",
    "print(x_dataset[1])"
   ]
  },
  {
   "cell_type": "code",
   "execution_count": 52,
   "id": "2c89b6cf",
   "metadata": {},
   "outputs": [],
   "source": [
    "hdf5.close()"
   ]
  },
  {
   "cell_type": "code",
   "execution_count": null,
   "id": "5f2f3e0c",
   "metadata": {},
   "outputs": [],
   "source": []
  }
 ],
 "metadata": {
  "kernelspec": {
   "display_name": "Python 3 (ipykernel)",
   "language": "python",
   "name": "python3"
  },
  "language_info": {
   "codemirror_mode": {
    "name": "ipython",
    "version": 3
   },
   "file_extension": ".py",
   "mimetype": "text/x-python",
   "name": "python",
   "nbconvert_exporter": "python",
   "pygments_lexer": "ipython3",
   "version": "3.8.18"
  }
 },
 "nbformat": 4,
 "nbformat_minor": 5
}
